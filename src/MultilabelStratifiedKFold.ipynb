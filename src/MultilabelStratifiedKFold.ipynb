{
 "cells": [
  {
   "cell_type": "code",
   "execution_count": 1,
   "id": "unavailable-shark",
   "metadata": {},
   "outputs": [],
   "source": [
    "import os\n",
    "import sys\n",
    "import gc\n",
    "import pickle\n",
    "import warnings\n",
    "import pandas as pd\n",
    "import numpy as np\n",
    "import seaborn as sns\n",
    "from typing import *\n",
    "from tqdm.notebook import tqdm\n",
    "from pathlib import Path\n",
    "from matplotlib import pyplot as plt\n",
    "\n",
    "pd.set_option('max_columns', 50)\n",
    "pd.set_option('max_rows', 200)\n",
    "warnings.simplefilter('ignore')\n",
    "sns.set()"
   ]
  },
  {
   "cell_type": "code",
   "execution_count": 7,
   "id": "average-serbia",
   "metadata": {},
   "outputs": [],
   "source": [
    "base_dir = Path().resolve()\n",
    "sys.path.append(str(base_dir))\n",
    "\n",
    "# from utils.preprocess import *\n",
    "# from utils.model import *\n",
    "# from utils.train import *"
   ]
  },
  {
   "cell_type": "code",
   "execution_count": 3,
   "id": "average-financing",
   "metadata": {},
   "outputs": [],
   "source": [
    "from dataclasses import dataclass, field, asdict\n",
    "import yaml\n",
    "\n",
    "\n",
    "@dataclass\n",
    "class Config:\n",
    "    # General\n",
    "    debug: bool = False\n",
    "\n",
    "    # Data config\n",
    "    imgconf_file: str = '../data/VinBigData/train.csv'\n",
    "    imgdir_name: str = \"../data/VinBigData/png256\"\n",
    "    seed: int = 111\n",
    "    n_splits: int = 5\n",
    "\n",
    "    def update(self, param_dict: Dict) -> \"Config\":\n",
    "        # Overwrite by `param_dict`\n",
    "        for key, value in param_dict.items():\n",
    "            if not hasattr(self, key):\n",
    "                raise ValueError(f\"[ERROR] Unexpected key for flag = {key}\")\n",
    "            setattr(self, key, value)\n",
    "        return self\n",
    "    \n",
    "    def to_yaml(self, filepath: str, width: int = 120):\n",
    "        with open(filepath, 'w') as f:\n",
    "            yaml.dump(asdict(self), f, width=width)"
   ]
  },
  {
   "cell_type": "code",
   "execution_count": 4,
   "id": "attractive-mercy",
   "metadata": {},
   "outputs": [],
   "source": [
    "# !pip install pip install iterative-stratification\n",
    "# # https://pypi.org/project/iterative-stratification\n",
    "from iterstrat.ml_stratifiers import MultilabelStratifiedKFold\n",
    "\n",
    "\n",
    "class MultilabelKFoldWrapper:\n",
    "    \n",
    "    def __init__(self, train: pd.DataFrame, n_splits: int, seed: int):\n",
    "        self.train = train\n",
    "        self.n_splits = n_splits\n",
    "        self.seed = seed\n",
    "        \n",
    "        self.annot_pivot = None\n",
    "        self.stats = None\n",
    "        \n",
    "        self.__i = -1\n",
    "        self.__split()\n",
    "    \n",
    "    def __iter__(self):\n",
    "        self.__i = -1\n",
    "        return self\n",
    "    \n",
    "    def __next__(self):\n",
    "        self.__i += 1\n",
    "        if self.__i < 0 or self.n_splits <= self.__i:\n",
    "            raise StopIteration()\n",
    "        return self.__getitem__(idx=self.__i)\n",
    "    \n",
    "    def __len__(self) -> int:\n",
    "        return self.n_splits\n",
    "    \n",
    "    def __getitem__(self, idx: int) -> Tuple[pd.DataFrame, pd.DataFrame]:\n",
    "        if idx < 0 or self.n_splits <= idx:\n",
    "            raise ValueError()\n",
    "        return self.train.query(f'fold != {self.__i}').reset_index(drop=True), self.train.query(f'fold == {self.__i}').reset_index(drop=True)\n",
    "    \n",
    "    def __split(self) -> None:\n",
    "        kf = MultilabelStratifiedKFold(n_splits=self.n_splits, shuffle=True, random_state=self.seed)\n",
    "        self.train['id'] = self.train.index\n",
    "        annot_pivot = pd.pivot_table(self.train, index='image_id', columns='class_id', values='id', fill_value=0, aggfunc='count').reset_index().rename_axis(None, axis=1)\n",
    "        annot_pivot = annot_pivot.rename(columns={i: f'class_{i}' for i in range(15)})\n",
    "\n",
    "        abnormal_cols = [f'class_{i}' for i in range(14)]\n",
    "        annot_pivot['fold'] = -1\n",
    "        for fold, (train_idx, valid_idx) in enumerate(kf.split(annot_pivot, annot_pivot.loc[:, abnormal_cols])):\n",
    "            annot_pivot.loc[valid_idx, 'fold'] = fold\n",
    "        \n",
    "        self.annot_pivot = annot_pivot\n",
    "        self.stats = self.annot_pivot.groupby('fold').sum().reset_index()\n",
    "        \n",
    "        self.train = pd.merge(self.train, self.annot_pivot, how='left', on='image_id').drop(columns=['id'] + [f'class_{i}' for i in range(15)])\n",
    "    \n",
    "    def plot_stats(self) -> None:\n",
    "        fig, axes = plt.subplots(1, 5, figsize=(25, 6))\n",
    "        cols = self.stats.columns[1:-1]\n",
    "        for fold, ax in enumerate(axes):\n",
    "            ax.bar(cols, self.stats.loc[fold, cols], tick_label=cols)\n",
    "            ax.set_title(f'fold = {fold}')\n",
    "        plt.show()"
   ]
  },
  {
   "cell_type": "code",
   "execution_count": 5,
   "id": "funny-mention",
   "metadata": {},
   "outputs": [],
   "source": [
    "config = Config()"
   ]
  },
  {
   "cell_type": "code",
   "execution_count": 8,
   "id": "immune-illness",
   "metadata": {},
   "outputs": [],
   "source": [
    "train = pd.read_csv(str(base_dir / config.imgconf_file))"
   ]
  },
  {
   "cell_type": "code",
   "execution_count": 9,
   "id": "continental-tractor",
   "metadata": {},
   "outputs": [],
   "source": [
    "mkf = MultilabelKFoldWrapper(train=train, n_splits=config.n_splits, seed=config.seed)"
   ]
  },
  {
   "cell_type": "code",
   "execution_count": 10,
   "id": "alien-likelihood",
   "metadata": {},
   "outputs": [
    {
     "data": {
      "image/png": "[encoded data removed]",
      "text/plain": [
       "<Figure size 1800x432 with 5 Axes>"
      ]
     },
     "metadata": {},
     "output_type": "display_data"
    }
   ],
   "source": [
    "mkf.plot_stats()"
   ]
  },
  {
   "cell_type": "code",
   "execution_count": 11,
   "id": "therapeutic-wednesday",
   "metadata": {},
   "outputs": [
    {
     "name": "stdout",
     "output_type": "stream",
     "text": [
      "0\n",
      "1\n",
      "2\n",
      "3\n",
      "4\n"
     ]
    }
   ],
   "source": [
    "for fold, (train_df, valid_df) in enumerate(mkf):\n",
    "    print(fold)"
   ]
  },
  {
   "cell_type": "code",
   "execution_count": null,
   "id": "residential-solomon",
   "metadata": {},
   "outputs": [],
   "source": []
  }
 ],
 "metadata": {
  "kernelspec": {
   "display_name": "Python 3",
   "language": "python",
   "name": "python3"
  },
  "language_info": {
   "codemirror_mode": {
    "name": "ipython",
    "version": 3
   },
   "file_extension": ".py",
   "mimetype": "text/x-python",
   "name": "python",
   "nbconvert_exporter": "python",
   "pygments_lexer": "ipython3",
   "version": "3.7.6"
  }
 },
 "nbformat": 4,
 "nbformat_minor": 5
}
