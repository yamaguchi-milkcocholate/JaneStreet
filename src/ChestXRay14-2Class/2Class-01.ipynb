{
 "cells": [
  {
   "cell_type": "code",
   "execution_count": 1,
   "id": "organized-inquiry",
   "metadata": {},
   "outputs": [],
   "source": [
    "import os\n",
    "import sys\n",
    "import gc\n",
    "import pickle\n",
    "import warnings\n",
    "import pandas as pd\n",
    "import numpy as np\n",
    "import seaborn as sns\n",
    "from typing import *\n",
    "from tqdm.notebook import tqdm\n",
    "from pathlib import Path\n",
    "from matplotlib import pyplot as plt\n",
    "\n",
    "pd.set_option('max_columns', 50)\n",
    "warnings.simplefilter('ignore')"
   ]
  },
  {
   "cell_type": "code",
   "execution_count": 2,
   "id": "applicable-cologne",
   "metadata": {},
   "outputs": [
    {
     "name": "stderr",
     "output_type": "stream",
     "text": [
      "fail to import apex_C: apex was not installed or installed without --cpp_ext.\n",
      "fail to import amp_C: apex was not installed or installed without --cpp_ext.\n"
     ]
    }
   ],
   "source": [
    "base_dir = Path().resolve()\n",
    "sys.path.append(str(base_dir / '../'))\n",
    "\n",
    "from utils.preprocess import *\n",
    "from utils.model import *"
   ]
  },
  {
   "cell_type": "code",
   "execution_count": 3,
   "id": "protecting-skiing",
   "metadata": {},
   "outputs": [],
   "source": [
    "def seed_everything(seed: int):\n",
    "    random.seed(seed)\n",
    "    np.random.seed(seed)\n",
    "    torch.manual_seed(seed)\n",
    "    torch.cuda.manual_seed(seed)\n",
    "    torch.backends.cudnn.deterministic = True\n",
    "    torch.cuda.empty_cache()"
   ]
  },
  {
   "cell_type": "code",
   "execution_count": 4,
   "id": "preliminary-concept",
   "metadata": {},
   "outputs": [],
   "source": [
    "from dataclasses import dataclass, field, asdict\n",
    "import yaml\n",
    "\n",
    "\n",
    "@dataclass\n",
    "class Config:\n",
    "    # General\n",
    "    debug: bool = False\n",
    "    outdir: str = \"results01\"\n",
    "    device: str = \"cuda:1\"\n",
    "\n",
    "    # Data config\n",
    "    imgdir_name: str = \"../../data/ChestXRay14\"\n",
    "    seed: int = 111\n",
    "    n_splits: int = 10\n",
    "    label_smoothing: float = 1e-2\n",
    "    \n",
    "    # Model config\n",
    "    model_name: str = \"resnet18\"\n",
    "    model_mode: str = \"normal\"  # normal, cnn_fixed supported\n",
    "        \n",
    "    # Training config\n",
    "    epoch: int = 20\n",
    "    lr: float = 1e-3\n",
    "    lr_decay: float = 0.9\n",
    "    batchsize: int = 8\n",
    "    valid_batchsize: int = 16\n",
    "    patience: int = 3\n",
    "    num_workers: int = 4\n",
    "    snapshot_freq: int = 5\n",
    "    scheduler_type: str = \"\"\n",
    "    scheduler_kwargs: Dict[str, Any] = field(default_factory=lambda: {})\n",
    "    scheduler_trigger: List[Union[int, str]] = field(default_factory=lambda: [1, \"iteration\"])\n",
    "    aug_kwargs: Dict[str, Dict[str, Any]] = field(default_factory=lambda: {})\n",
    "    mixup_prob: float = 0.\n",
    "\n",
    "    def update(self, param_dict: Dict) -> \"Config\":\n",
    "        # Overwrite by `param_dict`\n",
    "        for key, value in param_dict.items():\n",
    "            if not hasattr(self, key):\n",
    "                raise ValueError(f\"[ERROR] Unexpected key for flag = {key}\")\n",
    "            setattr(self, key, value)\n",
    "        return self\n",
    "    \n",
    "    def to_yaml(self, filepath: str, width: int = 120):\n",
    "        with open(filepath, 'w') as f:\n",
    "            yaml.dump(asdict(self), f, width=width)"
   ]
  },
  {
   "cell_type": "code",
   "execution_count": 5,
   "id": "desirable-manchester",
   "metadata": {},
   "outputs": [],
   "source": [
    "config_dict = {\n",
    "    \"debug\": True,\n",
    "    # Data Config\n",
    "    \"n_splits\": 5,\n",
    "    # Model\n",
    "    \"model_name\": \"resnet18\",\n",
    "    # Training\n",
    "    \"num_workers\": 4,\n",
    "    \"epoch\": 10,\n",
    "    \"batchsize\": 32,\n",
    "    \"lr\": 1e-4,\n",
    "    \"lr_decay\": 0.9,\n",
    "    \"patience\": 5,\n",
    "    \"scheduler_type\": \"CosineAnnealingWarmRestarts\",\n",
    "    \"scheduler_kwargs\": {\"T_0\": 7032, 'verbose': True},  # 15000 * 15 epoch // (batchsize=8)\n",
    "    \"scheduler_trigger\": [1, \"iteration\"],\n",
    "    \"aug_kwargs\": {\n",
    "        \"HorizontalFlip\": {\"p\": 0.5},\n",
    "        \"ShiftScaleRotate\": {\"scale_limit\": 0.15, \"rotate_limit\": 10, \"p\": 0.5},\n",
    "        \"RandomBrightnessContrast\": {\"p\": 0.5},\n",
    "        \"CoarseDropout\": {\"max_holes\": 8, \"max_height\": 25, \"max_width\": 25, \"p\": 0.5},\n",
    "        \"Blur\": {\"blur_limit\": [3, 7], \"p\": 0.5},\n",
    "        \"Downscale\": {\"scale_min\": 0.25, \"scale_max\": 0.9, \"p\": 0.3},\n",
    "        \"RandomGamma\": {\"gamma_limit\": [80, 120], \"p\": 0.6},\n",
    "    },\n",
    "    \"mixup_prob\": 0\n",
    "}\n",
    "\n",
    "config = Config().update(config_dict)"
   ]
  },
  {
   "cell_type": "code",
   "execution_count": 6,
   "id": "greenhouse-president",
   "metadata": {},
   "outputs": [],
   "source": [
    "skf = StratifiedKFoldWrapper(\n",
    "    datadir=base_dir / config.imgdir_name,\n",
    "    n_splits=config.n_splits,\n",
    "    shuffle=True,\n",
    "    seed=config.seed,\n",
    "    label_smoothing=config.label_smoothing,\n",
    "    mixup_prob=config.mixup_prob,\n",
    "    aug_kwargs=config.aug_kwargs,\n",
    "    debug=config.debug,\n",
    "    oversample=False\n",
    ")"
   ]
  },
  {
   "cell_type": "code",
   "execution_count": 7,
   "id": "qualified-politics",
   "metadata": {},
   "outputs": [
    {
     "data": {
      "text/plain": [
       "Config(debug=True, outdir='results01', device='cuda:1', imgdir_name='../../data/ChestXRay14', seed=111, n_splits=5, label_smoothing=0.01, model_name='resnet18', model_mode='normal', epoch=10, lr=0.0001, lr_decay=0.9, batchsize=32, valid_batchsize=16, patience=5, num_workers=4, snapshot_freq=5, scheduler_type='CosineAnnealingWarmRestarts', scheduler_kwargs={'T_0': 7032, 'verbose': True}, scheduler_trigger=[1, 'iteration'], aug_kwargs={'HorizontalFlip': {'p': 0.5}, 'ShiftScaleRotate': {'scale_limit': 0.15, 'rotate_limit': 10, 'p': 0.5}, 'RandomBrightnessContrast': {'p': 0.5}, 'CoarseDropout': {'max_holes': 8, 'max_height': 25, 'max_width': 25, 'p': 0.5}, 'Blur': {'blur_limit': [3, 7], 'p': 0.5}, 'Downscale': {'scale_min': 0.25, 'scale_max': 0.9, 'p': 0.3}, 'RandomGamma': {'gamma_limit': [80, 120], 'p': 0.6}}, mixup_prob=0)"
      ]
     },
     "execution_count": 7,
     "metadata": {},
     "output_type": "execute_result"
    }
   ],
   "source": [
    "config.to_yaml(str(base_dir / config.outdir / 'config.yaml'))\n",
    "config"
   ]
  },
  {
   "cell_type": "code",
   "execution_count": 8,
   "id": "grateful-commodity",
   "metadata": {},
   "outputs": [],
   "source": [
    "import dataclasses\n",
    "import pytorch_pfn_extras.training.extensions as E\n",
    "import torch\n",
    "from torch import nn, optim\n",
    "from torch.utils.data.dataloader import DataLoader\n",
    "from ignite.engine import Events, Events, create_supervised_evaluator, create_supervised_trainer\n",
    "from ignite.handlers import EarlyStopping\n",
    "from ignite.metrics import Accuracy, Loss\n",
    "from ignite.contrib.handlers import ProgressBar\n",
    "from ignite.contrib.handlers.param_scheduler import LRScheduler\n",
    "from ignite.contrib.metrics import AveragePrecision"
   ]
  },
  {
   "cell_type": "code",
   "execution_count": 9,
   "id": "advised-backing",
   "metadata": {},
   "outputs": [],
   "source": [
    "def score_function(engine):\n",
    "    \"\"\"\n",
    "    Due to maximizing score_function, this returns (-1) x loss\n",
    "    \"\"\"\n",
    "    val_loss = engine.state.metrics['BCE']\n",
    "    return -val_loss\n",
    "\n",
    "\n",
    "def discreted_output_transform(output):\n",
    "    y_pred, y = output\n",
    "    y_pred = torch.argmax(y_pred, dim=-1)\n",
    "    y = torch.argmax(y, dim=-1)\n",
    "    return y_pred, y\n",
    "\n",
    "\n",
    "def probability_output_transform(output):\n",
    "    y_pred, y = output\n",
    "    y_pred = torch.softmax(y_pred, dim=1)[:, 1]\n",
    "    y = torch.argmax(y, dim=1)\n",
    "    return y_pred, y\n",
    "\n",
    "\n",
    "def train(epochs: int, model: nn.Module, train_loader: DataLoader, valid_loader: DataLoader, criterion: Callable,\n",
    "          device: str, lr: float, patience: int, lr_decay: float, lr_scheduler: str, lr_scheduler_kwargs: Dict[str, Any]):\n",
    "    \n",
    "    model.to(torch.device(device))\n",
    "    optimizer = optim.Adam([param for param in model.parameters() if param.requires_grad], lr=lr)\n",
    "    \n",
    "    trainer = create_supervised_trainer(\n",
    "        model, \n",
    "        optimizer, \n",
    "        criterion, \n",
    "        device=device\n",
    "    )\n",
    "    \n",
    "    scheduler = LRScheduler(getattr(optim.lr_scheduler, lr_scheduler)(optimizer, **lr_scheduler_kwargs))\n",
    "    trainer.add_event_handler(Events.ITERATION_COMPLETED, scheduler)\n",
    "    \n",
    "    pbar = ProgressBar(False)\n",
    "    pbar.attach(trainer)\n",
    "    \n",
    "    train_evaluator = create_supervised_evaluator(\n",
    "        model,\n",
    "        metrics={'ACC': Accuracy(discreted_output_transform), 'BCE': Loss(criterion), 'AP': AveragePrecision(probability_output_transform)},\n",
    "        device=device\n",
    "    )\n",
    "    valid_evaluator = create_supervised_evaluator(\n",
    "        model,\n",
    "        metrics={'ACC': Accuracy(discreted_output_transform), 'BCE': Loss(criterion), 'AP': AveragePrecision(probability_output_transform)},\n",
    "        device=device\n",
    "    )\n",
    "    \n",
    "    history = {col: list() for col in ['epoch', 'elapsed time', 'iterations', 'lr', 'train BCE', 'valid BCE', 'train ACC', 'valid ACC', 'train AP', 'valid AP']}\n",
    "\n",
    "    \n",
    "    @trainer.on(Events.EPOCH_COMPLETED)\n",
    "    def log_training_results(engine):\n",
    "        train_evaluator.run(train_loader)\n",
    "        \n",
    "        history['train BCE'] += [train_evaluator.state.metrics['BCE']]\n",
    "        history['train ACC'] += [train_evaluator.state.metrics['ACC']]\n",
    "        history['train AP'] += [train_evaluator.state.metrics['AP']]\n",
    "        \n",
    "    @trainer.on(Events.EPOCH_COMPLETED)\n",
    "    def log_validation_results(engine):\n",
    "        valid_evaluator.run(valid_loader)\n",
    "        \n",
    "        history['epoch'] += [valid_evaluator.state.epoch]\n",
    "        history['iterations'] += [valid_evaluator.state.epoch_length]\n",
    "        history['elapsed time'] += [0 if len(history['elapsed time']) == 0 else history['elapsed time'][-1] + valid_evaluator.state.times['COMPLETED']]\n",
    "        history['lr'] += [scheduler.get_param()]\n",
    "        \n",
    "        history['valid BCE'] += [valid_evaluator.state.metrics['BCE']]\n",
    "        history['valid ACC'] += [valid_evaluator.state.metrics['ACC']]\n",
    "        history['valid AP'] += [valid_evaluator.state.metrics['AP']]\n",
    "        \n",
    "    @trainer.on(Events.EPOCH_COMPLETED)\n",
    "    def log_progress_bar(engine):\n",
    "        pbar.log_message(\n",
    "            f\"train BCE: {history['train BCE'][-1]:.2f} \" \\\n",
    "            + f\"train ACC: {history['train ACC'][-1]:.2f} \" \\\n",
    "            + f\"train AP: {history['train AP'][-1]:.2f} \" \\\n",
    "            + f\"valid BCE: {history['valid BCE'][-1]:.2f} \" \\\n",
    "            + f\"valid ACC: {history['valid ACC'][-1]:.2f} \" \\\n",
    "            + f\"valid AP: {history['valid AP'][-1]:.2f}\"\n",
    "        )\n",
    "                \n",
    "    \n",
    "    # Early stopping\n",
    "    handler = EarlyStopping(patience=patience, score_function=score_function, trainer=trainer)\n",
    "    valid_evaluator.add_event_handler(Events.EPOCH_COMPLETED, handler)\n",
    "\n",
    "    trainer.run(train_loader, max_epochs=epochs)\n",
    "    return pd.DataFrame(history)"
   ]
  },
  {
   "cell_type": "code",
   "execution_count": 10,
   "id": "automotive-right",
   "metadata": {},
   "outputs": [
    {
     "name": "stdout",
     "output_type": "stream",
     "text": [
      "Epoch     0: adjusting learning rate of group 0 to 1.0000e-04.\n"
     ]
    },
    {
     "data": {
      "application/vnd.jupyter.widget-view+json": {
       "model_id": "",
       "version_major": 2,
       "version_minor": 0
      },
      "text/plain": [
       "[1/32]   3%|3          [00:00<?]"
      ]
     },
     "metadata": {},
     "output_type": "display_data"
    },
    {
     "name": "stdout",
     "output_type": "stream",
     "text": [
      "train BCE: 0.61 train ACC: 0.71 train AP: 0.78 valid BCE: 0.65 valid ACC: 0.71 valid AP: 0.77\n"
     ]
    },
    {
     "data": {
      "application/vnd.jupyter.widget-view+json": {
       "model_id": "",
       "version_major": 2,
       "version_minor": 0
      },
      "text/plain": [
       "[1/32]   3%|3          [00:00<?]"
      ]
     },
     "metadata": {},
     "output_type": "display_data"
    },
    {
     "name": "stdout",
     "output_type": "stream",
     "text": [
      "train BCE: 0.60 train ACC: 0.72 train AP: 0.83 valid BCE: 0.64 valid ACC: 0.72 valid AP: 0.79\n"
     ]
    },
    {
     "data": {
      "application/vnd.jupyter.widget-view+json": {
       "model_id": "",
       "version_major": 2,
       "version_minor": 0
      },
      "text/plain": [
       "[1/32]   3%|3          [00:00<?]"
      ]
     },
     "metadata": {},
     "output_type": "display_data"
    },
    {
     "name": "stdout",
     "output_type": "stream",
     "text": [
      "train BCE: 0.53 train ACC: 0.76 train AP: 0.86 valid BCE: 0.58 valid ACC: 0.72 valid AP: 0.79\n"
     ]
    },
    {
     "data": {
      "application/vnd.jupyter.widget-view+json": {
       "model_id": "",
       "version_major": 2,
       "version_minor": 0
      },
      "text/plain": [
       "[1/32]   3%|3          [00:00<?]"
      ]
     },
     "metadata": {},
     "output_type": "display_data"
    },
    {
     "name": "stdout",
     "output_type": "stream",
     "text": [
      "train BCE: 0.52 train ACC: 0.76 train AP: 0.86 valid BCE: 0.58 valid ACC: 0.72 valid AP: 0.80\n"
     ]
    },
    {
     "data": {
      "application/vnd.jupyter.widget-view+json": {
       "model_id": "",
       "version_major": 2,
       "version_minor": 0
      },
      "text/plain": [
       "[1/32]   3%|3          [00:00<?]"
      ]
     },
     "metadata": {},
     "output_type": "display_data"
    },
    {
     "name": "stdout",
     "output_type": "stream",
     "text": [
      "train BCE: 0.50 train ACC: 0.77 train AP: 0.89 valid BCE: 0.58 valid ACC: 0.71 valid AP: 0.81\n"
     ]
    },
    {
     "data": {
      "application/vnd.jupyter.widget-view+json": {
       "model_id": "",
       "version_major": 2,
       "version_minor": 0
      },
      "text/plain": [
       "[1/32]   3%|3          [00:00<?]"
      ]
     },
     "metadata": {},
     "output_type": "display_data"
    },
    {
     "name": "stdout",
     "output_type": "stream",
     "text": [
      "train BCE: 0.50 train ACC: 0.78 train AP: 0.90 valid BCE: 0.61 valid ACC: 0.72 valid AP: 0.83\n"
     ]
    },
    {
     "data": {
      "application/vnd.jupyter.widget-view+json": {
       "model_id": "",
       "version_major": 2,
       "version_minor": 0
      },
      "text/plain": [
       "[1/32]   3%|3          [00:00<?]"
      ]
     },
     "metadata": {},
     "output_type": "display_data"
    },
    {
     "name": "stdout",
     "output_type": "stream",
     "text": [
      "train BCE: 0.47 train ACC: 0.77 train AP: 0.92 valid BCE: 0.66 valid ACC: 0.72 valid AP: 0.82\n"
     ]
    },
    {
     "data": {
      "application/vnd.jupyter.widget-view+json": {
       "model_id": "",
       "version_major": 2,
       "version_minor": 0
      },
      "text/plain": [
       "[1/32]   3%|3          [00:00<?]"
      ]
     },
     "metadata": {},
     "output_type": "display_data"
    },
    {
     "name": "stdout",
     "output_type": "stream",
     "text": [
      "train BCE: 0.48 train ACC: 0.80 train AP: 0.91 valid BCE: 0.68 valid ACC: 0.72 valid AP: 0.81\n"
     ]
    },
    {
     "data": {
      "application/vnd.jupyter.widget-view+json": {
       "model_id": "",
       "version_major": 2,
       "version_minor": 0
      },
      "text/plain": [
       "[1/32]   3%|3          [00:00<?]"
      ]
     },
     "metadata": {},
     "output_type": "display_data"
    },
    {
     "name": "stdout",
     "output_type": "stream",
     "text": [
      "train BCE: 0.51 train ACC: 0.76 train AP: 0.92 valid BCE: 0.75 valid ACC: 0.72 valid AP: 0.80\n"
     ]
    },
    {
     "data": {
      "application/vnd.jupyter.widget-view+json": {
       "model_id": "",
       "version_major": 2,
       "version_minor": 0
      },
      "text/plain": [
       "[1/32]   3%|3          [00:00<?]"
      ]
     },
     "metadata": {},
     "output_type": "display_data"
    },
    {
     "name": "stderr",
     "output_type": "stream",
     "text": [
      "2021-03-03 11:50:31,945 ignite.handlers.early_stopping.EarlyStopping INFO: EarlyStopping: Stop training\n"
     ]
    },
    {
     "name": "stdout",
     "output_type": "stream",
     "text": [
      "train BCE: 0.50 train ACC: 0.76 train AP: 0.94 valid BCE: 0.84 valid ACC: 0.54 valid AP: 0.79\n"
     ]
    }
   ],
   "source": [
    "for fold, (train_dataset, valid_dataset) in enumerate(skf):\n",
    "    seed_everything(seed=config.seed)\n",
    "\n",
    "    train_loader = DataLoader(\n",
    "        train_dataset,\n",
    "        batch_size=config.batchsize,\n",
    "        num_workers=config.num_workers,\n",
    "        shuffle=True,\n",
    "        pin_memory=True,\n",
    "    )\n",
    "    valid_loader = DataLoader(\n",
    "        valid_dataset,\n",
    "        batch_size=config.valid_batchsize,\n",
    "        num_workers=config.num_workers,\n",
    "        shuffle=False,\n",
    "        pin_memory=True,\n",
    "    )\n",
    "\n",
    "\n",
    "    predictor = build_predictor(model_name=config.model_name, model_mode=config.model_mode)\n",
    "    model = Classifier(predictor)\n",
    "\n",
    "    history_df = train(\n",
    "        epochs=config.epoch, \n",
    "        model=model,\n",
    "        train_loader=train_loader, \n",
    "        valid_loader=valid_loader, \n",
    "        criterion=cross_entropy_with_logits,\n",
    "        device=config.device,\n",
    "        lr=config.lr,\n",
    "        lr_decay=config.lr_decay,\n",
    "        patience=config.patience,\n",
    "        lr_scheduler=config.scheduler_type,\n",
    "        lr_scheduler_kwargs=config.scheduler_kwargs\n",
    "    )\n",
    "    \n",
    "    os.mkdir(str(base_dir / config.outdir / f'fold-{fold + 1}'))\n",
    "    history_df.to_csv(str(base_dir / config.outdir / f'fold-{fold + 1}' / 'history.csv'))\n",
    "    torch.save(model.state_dict(), str(base_dir / config.outdir / f'fold-{fold + 1}' / 'model_last.pt'))\n",
    "    \n",
    "    del model, predictor, history_df, train_dataset, valid_dataset, train_loader, valid_loader\n",
    "    gc.collect()\n",
    "    \n",
    "    break"
   ]
  },
  {
   "cell_type": "code",
   "execution_count": null,
   "id": "political-finish",
   "metadata": {},
   "outputs": [],
   "source": []
  }
 ],
 "metadata": {
  "kernelspec": {
   "display_name": "Python 3",
   "language": "python",
   "name": "python3"
  },
  "language_info": {
   "codemirror_mode": {
    "name": "ipython",
    "version": 3
   },
   "file_extension": ".py",
   "mimetype": "text/x-python",
   "name": "python",
   "nbconvert_exporter": "python",
   "pygments_lexer": "ipython3",
   "version": "3.7.6"
  }
 },
 "nbformat": 4,
 "nbformat_minor": 5
}
