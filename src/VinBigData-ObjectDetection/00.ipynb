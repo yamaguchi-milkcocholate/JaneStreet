{
 "cells": [
  {
   "cell_type": "code",
   "execution_count": 1,
   "id": "foster-marijuana",
   "metadata": {},
   "outputs": [],
   "source": [
    "import os\n",
    "import sys\n",
    "import gc\n",
    "import pickle\n",
    "import warnings\n",
    "import pandas as pd\n",
    "import numpy as np\n",
    "import seaborn as sns\n",
    "from typing import *\n",
    "from tqdm.notebook import tqdm\n",
    "from pathlib import Path\n",
    "from matplotlib import pyplot as plt\n",
    "\n",
    "pd.set_option('max_columns', 50)\n",
    "pd.set_option('max_rows', 200)\n",
    "warnings.simplefilter('ignore')\n",
    "sns.set()"
   ]
  },
  {
   "cell_type": "code",
   "execution_count": 2,
   "id": "coordinated-ground",
   "metadata": {},
   "outputs": [
    {
     "name": "stderr",
     "output_type": "stream",
     "text": [
      "fail to import apex_C: apex was not installed or installed without --cpp_ext.\n",
      "fail to import amp_C: apex was not installed or installed without --cpp_ext.\n"
     ]
    }
   ],
   "source": [
    "base_dir = Path().resolve()\n",
    "sys.path.append(str(base_dir / '../'))\n",
    "\n",
    "from utils.preprocess import *\n",
    "from utils.model import *\n",
    "from utils.train import *\n",
    "from utils.eval import *"
   ]
  },
  {
   "cell_type": "code",
   "execution_count": 3,
   "id": "respective-anatomy",
   "metadata": {},
   "outputs": [],
   "source": [
    "def seed_everything(seed: int, device: str):\n",
    "    random.seed(seed)\n",
    "    np.random.seed(seed)\n",
    "    torch.manual_seed(seed)\n",
    "    torch.cuda.manual_seed(seed)\n",
    "    torch.backends.cudnn.deterministic = True\n",
    "    with torch.cuda.device(device):\n",
    "        torch.cuda.empty_cache()"
   ]
  },
  {
   "cell_type": "code",
   "execution_count": 4,
   "id": "detected-holly",
   "metadata": {},
   "outputs": [],
   "source": [
    "from dataclasses import dataclass, field, asdict\n",
    "import yaml\n",
    "\n",
    "\n",
    "@dataclass\n",
    "class Config:\n",
    "    # General\n",
    "    debug: bool = False\n",
    "    outdir: str = \"results00\"\n",
    "    device: str = \"cuda:0\"\n",
    "\n",
    "    # Data config\n",
    "    imgconf_file: str = '../../data/VinBigData/train.csv'\n",
    "    imgdir_name: str = \"../../data/VinBigData/png256\"\n",
    "    img_size: int = 256\n",
    "    seed: int = 111\n",
    "    n_splits: int = 5\n",
    "    \n",
    "    # Training config\n",
    "    batch_size: int = 8\n",
    "    patience: int = 10\n",
    "    epochs: int = 20\n",
    "    train_aug_kwargs: Dict[str, Dict[str, Any]] = field(default_factory=lambda: {})\n",
    "    valid_aug_kwargs: Dict[str, Dict[str, Any]] = field(default_factory=lambda: {})\n",
    "    test_aug_kwargs: Dict[str, Dict[str, Any]] = field(default_factory=lambda: {})\n",
    "\n",
    "    def update(self, param_dict: Dict) -> \"Config\":\n",
    "        # Overwrite by `param_dict`\n",
    "        for key, value in param_dict.items():\n",
    "            if not hasattr(self, key):\n",
    "                raise ValueError(f\"[ERROR] Unexpected key for flag = {key}\")\n",
    "            setattr(self, key, value)\n",
    "        return self\n",
    "    \n",
    "    def to_yaml(self, filepath: str, width: int = 120):\n",
    "        with open(filepath, 'w') as f:\n",
    "            yaml.dump(asdict(self), f, width=width)"
   ]
  },
  {
   "cell_type": "code",
   "execution_count": 5,
   "id": "dated-grass",
   "metadata": {},
   "outputs": [],
   "source": [
    "config_dict = {\n",
    "    'debug': False,\n",
    "    'batch_size': 25,\n",
    "    'patience': 5,\n",
    "    'epochs': 15,\n",
    "    \"train_aug_kwargs\": {\n",
    "#         \"HorizontalFlip\": {\"p\": 0.5},\n",
    "        \"Normalize\": {\"mean\": (0, 0, 0), \"std\": (1, 1, 1), \"max_pixel_value\": 255.}\n",
    "    },\n",
    "    \"valid_aug_kwargs\": {\n",
    "        \"Normalize\": {\"mean\": (0, 0, 0), \"std\": (1, 1, 1), \"max_pixel_value\": 255.}\n",
    "    },\n",
    "    \"test_aug_kwargs\": {\n",
    "        \"Normalize\": {\"mean\": (0, 0, 0), \"std\": (1, 1, 1), \"max_pixel_value\": 255.}\n",
    "    },\n",
    "}\n",
    "config = Config().update(config_dict)\n",
    "config.to_yaml(base_dir / config.outdir / 'config.yaml')"
   ]
  },
  {
   "cell_type": "code",
   "execution_count": 6,
   "id": "middle-bathroom",
   "metadata": {},
   "outputs": [],
   "source": [
    "classes_nms = [\n",
    "    \"Aortic enlargement\",\n",
    "    \"Atelectasis\",\n",
    "    \"Calcification\",\n",
    "    \"Cardiomegaly\",\n",
    "    \"Consolidation\",\n",
    "    \"ILD\",\n",
    "    \"Infiltration\",\n",
    "    \"Lung Opacity\",\n",
    "    \"Nodule/Mass\",\n",
    "    \"Other lesion\",\n",
    "    \"Pleural effusion\",\n",
    "    \"Pleural thickening\",\n",
    "    \"Pneumothorax\",\n",
    "    \"Pulmonary fibrosis\"\n",
    "]\n",
    "classes_dict = {index: class_name  for index, class_name in enumerate(classes_nms)}"
   ]
  },
  {
   "cell_type": "code",
   "execution_count": 7,
   "id": "persistent-tuesday",
   "metadata": {},
   "outputs": [],
   "source": [
    "import torchvision\n",
    "from torchvision.models.detection.faster_rcnn import FastRCNNPredictor\n",
    "\n",
    "\n",
    "def load_faster_rcnn():\n",
    "    # load a model pre-trained pre-trained on COCO\n",
    "    model = torchvision.models.detection.fasterrcnn_resnet50_fpn(pretrained=True)\n",
    "\n",
    "    # replace the classifier with a new one, that has\n",
    "    # num_classes which is user-defined\n",
    "    num_classes = len(classes_dict) + 1  # 14 class (person) + background\n",
    "    # get number of input features for the classifier\n",
    "    in_features = model.roi_heads.box_predictor.cls_score.in_features\n",
    "    # replace the pre-trained head with a new one\n",
    "    model.roi_heads.box_predictor = FastRCNNPredictor(in_features, num_classes)\n",
    "    \n",
    "    return model"
   ]
  },
  {
   "cell_type": "code",
   "execution_count": 35,
   "id": "necessary-personality",
   "metadata": {},
   "outputs": [],
   "source": [
    "from torch.utils.data.dataset import Dataset\n",
    "\n",
    "class VinBigDataset(Dataset):\n",
    "    def __init__(self, dataset_dicts: Dict[str, Any], transform: Transform, train: bool = True):\n",
    "        self.train = train\n",
    "        if self.train:\n",
    "            assert not len([dd for dd in dataset_dicts if len(dd['annotations']) > 0]) == 0\n",
    "        self.dataset_dicts = dataset_dicts\n",
    "        self.transform = transform\n",
    "        \n",
    "        self.image_ids, counts = np.unique([dd['image_id'] for dd in self.dataset_dicts], return_counts=True)\n",
    "        self.image_ids = self.image_ids.tolist()\n",
    "        assert np.all(counts == 1)\n",
    "    \n",
    "    def __len__(self) -> int:\n",
    "        return len(self.dataset_dicts)\n",
    "    \n",
    "    def __getitem__(self, index: int):\n",
    "        img = cv2.imread(self.dataset_dicts[index]['file_name'])\n",
    "        img = self.transform(img)\n",
    "        img = torch.tensor(np.transpose(img, (2, 0, 1)).astype(np.float32))\n",
    "        \n",
    "        if self.train:\n",
    "            target = {}\n",
    "            target['boxes'] = torch.tensor(np.vstack([ant['bbox'] for ant in self.dataset_dicts[index]['annotations']]), dtype=torch.float32)\n",
    "            target['labels'] = torch.tensor([ant['category_id'] for ant in self.dataset_dicts[index]['annotations']], dtype=torch.int64)\n",
    "            target['image_id'] = torch.tensor([index])\n",
    "            target['area'] = torch.tensor((target['boxes'][:, 3] - target['boxes'][:, 1]) * (target['boxes'][:, 2] - target['boxes'][:, 0]), dtype=torch.float32)\n",
    "            target['iscrowd'] = torch.zeros((len(self.dataset_dicts[index]['annotations']), ), dtype=torch.int64)\n",
    "\n",
    "            return img, target, self.dataset_dicts[index]['image_id']\n",
    "        else:\n",
    "            return img, self.dataset_dicts[index]['image_id']"
   ]
  },
  {
   "cell_type": "code",
   "execution_count": 9,
   "id": "labeled-parallel",
   "metadata": {},
   "outputs": [],
   "source": [
    "def load_train_data(filepath: str, meta_filepath: str, img_size: int) -> pd.DataFrame:\n",
    "    train = pd.read_csv(filepath)\n",
    "    train.fillna(0, inplace=True)\n",
    "    train.loc[train[\"class_id\"] == 14, ['x_max', 'y_max']] = 1.0\n",
    "    \n",
    "    train_meta = pd.read_csv(meta_filepath)\n",
    "    \n",
    "    train = pd.merge(train, train_meta, how='left', on='image_id')\n",
    "    \n",
    "    train[f'x_min_{img_size}'] = (img_size / train['dim1'] * train['x_min']).astype(int)\n",
    "    train[f'x_max_{img_size}'] = (img_size / train['dim1'] * train['x_max']).astype(int)\n",
    "    train[f'y_min_{img_size}'] = (img_size / train['dim0'] * train['y_min']).astype(int)\n",
    "    train[f'y_max_{img_size}'] = (img_size / train['dim0'] * train['y_max']).astype(int)\n",
    "    \n",
    "    return train"
   ]
  },
  {
   "cell_type": "code",
   "execution_count": 10,
   "id": "greatest-sullivan",
   "metadata": {},
   "outputs": [],
   "source": [
    "# !pip install pip install iterative-stratification\n",
    "# # https://pypi.org/project/iterative-stratification\n",
    "from iterstrat.ml_stratifiers import MultilabelStratifiedKFold\n",
    "\n",
    "\n",
    "class MultilabelKFoldWrapper:\n",
    "    NOFINDING = 14\n",
    "    \n",
    "    def __init__(self, train: pd.DataFrame, n_splits: int, seed: int):\n",
    "        if self.NOFINDING in train['class_id'].unique():\n",
    "            self.train = train.query(f'class_id != {self.NOFINDING}').reset_index(drop=True)\n",
    "            print(f'Removing class_id = {self.NOFINDING}: {train.shape[0]} → {self.train.shape[0]}')\n",
    "        else:\n",
    "            self.train = train\n",
    "        self.classes = [f'class_{i}' for i in range(14)]\n",
    "\n",
    "        self.n_splits = n_splits\n",
    "        self.seed = seed\n",
    "        \n",
    "        self.annot_pivot = None\n",
    "        self.stats = None\n",
    "        \n",
    "        self.__i = -1\n",
    "        self.__split()\n",
    "    \n",
    "    def __iter__(self):\n",
    "        self.__i = -1\n",
    "        return self\n",
    "    \n",
    "    def __next__(self):\n",
    "        self.__i += 1\n",
    "        if self.__i < 0 or self.n_splits <= self.__i:\n",
    "            raise StopIteration()\n",
    "        return self.__getitem__(idx=self.__i)\n",
    "    \n",
    "    def __len__(self) -> int:\n",
    "        return self.n_splits\n",
    "    \n",
    "    def __getitem__(self, idx: int) -> Tuple[pd.DataFrame, pd.DataFrame]:\n",
    "        if idx < 0 or self.n_splits <= idx:\n",
    "            raise ValueError()\n",
    "        return self.train.query(f'fold != {idx}').reset_index(drop=True), self.train.query(f'fold == {idx}').reset_index(drop=True)\n",
    "    \n",
    "    def __split(self) -> None:\n",
    "        kf = MultilabelStratifiedKFold(n_splits=self.n_splits, shuffle=True, random_state=self.seed)\n",
    "        self.train['id'] = self.train.index\n",
    "        annot_pivot = pd.pivot_table(self.train, index='image_id', columns='class_id', values='id', fill_value=0, aggfunc='count').reset_index().rename_axis(None, axis=1)\n",
    "        annot_pivot = annot_pivot.rename(columns={i: cls_nm for i, cls_nm in enumerate(self.classes)})\n",
    "\n",
    "        annot_pivot['fold'] = -1\n",
    "        for fold, (train_idx, valid_idx) in enumerate(kf.split(annot_pivot, annot_pivot.loc[:, self.classes])):\n",
    "            annot_pivot.loc[valid_idx, 'fold'] = fold\n",
    "        \n",
    "        self.annot_pivot = annot_pivot\n",
    "        self.stats = self.annot_pivot.groupby('fold').sum().reset_index()\n",
    "        \n",
    "        self.train = pd.merge(self.train, self.annot_pivot, how='left', on='image_id').drop(columns=['id'] + self.classes)\n",
    "    \n",
    "    def plot_stats(self) -> None:\n",
    "        fig, axes = plt.subplots(1, 5, figsize=(25, 6))\n",
    "        cols = self.stats.columns[1:-1]\n",
    "        for fold, ax in enumerate(axes):\n",
    "            ax.bar(cols, self.stats.loc[fold, cols], tick_label=cols)\n",
    "            ax.set_title(f'fold = {fold}')\n",
    "        plt.show()"
   ]
  },
  {
   "cell_type": "code",
   "execution_count": 11,
   "id": "instrumental-recipient",
   "metadata": {},
   "outputs": [],
   "source": [
    "import pytorch_lightning as pl\n",
    "from pytorch_lightning.callbacks.early_stopping import EarlyStopping"
   ]
  },
  {
   "cell_type": "code",
   "execution_count": 12,
   "id": "metric-funds",
   "metadata": {},
   "outputs": [],
   "source": [
    "from functools import reduce\n",
    "from operator import add\n",
    "from copy import deepcopy\n",
    "\n",
    "\n",
    "class ObjectDetector(pl.LightningModule):\n",
    "    def __init__(self, model: torch.nn.Module, train_evaluator: VinBigDataEval, valid_evaluator: VinBigDataEval):\n",
    "        super().__init__()\n",
    "        self.model = model\n",
    "        \n",
    "        self.history = {c: list() for c in ['train_loss', 'valid_loss', 'valid_mAP@.4', 'valid_mAP@.4_s', 'valid_mAP@.4_m', 'valid_mAP@.4_l']}\n",
    "        \n",
    "        self.train_evaluator = train_evaluator\n",
    "        self.valid_evaluator = valid_evaluator\n",
    "            \n",
    "    def forward(self, x: torch.Tensor) -> Dict[str, torch.Tensor]:\n",
    "        # in lightning, forward defines the prediction/inference actions\n",
    "        return self.model(x)\n",
    "    \n",
    "    def training_step(self, train_batch, batch_idx):        \n",
    "        images, targets, _ = train_batch\n",
    "        images, targets = self.__to_gpu(images, targets)\n",
    "        \n",
    "        loss_dict = self.model(images, targets)\n",
    "        losses = sum(loss for loss in loss_dict.values())\n",
    "        loss_value = losses.item()\n",
    "        \n",
    "        self.log('train_loss', loss_value, prog_bar=True)\n",
    "        \n",
    "        return {'loss': losses}\n",
    "    \n",
    "    def training_epoch_end(self, outputs: List[Dict[str, Any]]):\n",
    "        self.__logging(metric='train_loss', value=np.mean([float(op['loss']) for op in outputs]))\n",
    "    \n",
    "    def validation_step(self, valid_batch, batch_idx):        \n",
    "        images, targets, image_ids = valid_batch\n",
    "        images, targets = self.__to_gpu(images, targets)\n",
    "        \n",
    "        with torch.no_grad():\n",
    "            self.model.train()\n",
    "            loss_dict = self.model(images, targets)\n",
    "            losses = sum(loss for loss in loss_dict.values())\n",
    "            loss_value = losses.item()\n",
    "            \n",
    "            self.model.eval()\n",
    "            preds = self.model(images)\n",
    "        \n",
    "        self.log('valid_loss', loss_value, prog_bar=True)\n",
    "        \n",
    "        return {'loss': loss_value, 'preds': preds, 'image_ids': image_ids}\n",
    "    \n",
    "    def validation_epoch_end(self, outputs: List[Dict[str, Any]]):\n",
    "        preds = reduce(add, [op['preds'] for op in outputs])\n",
    "        image_ids = reduce(add, [op['image_ids'] for op in outputs])\n",
    "        \n",
    "        pred_df = self.to_predict_string(preds=preds, image_ids=image_ids)\n",
    "        \n",
    "#         assert not np.any(pred_df['PredictionString'].apply(lambda x: len(x)) == 0)\n",
    "        results = self.valid_evaluator.evaluate(pred_df)\n",
    "        \n",
    "        self.__logging(metric='valid_loss', value=np.mean([float(op['loss']) for op in outputs]))\n",
    "        self.__logging(metric='valid_mAP@.4', value=results.stats[0])\n",
    "        self.__logging(metric='valid_mAP@.4_s', value=results.stats[3], prog_bar=False)\n",
    "        self.__logging(metric='valid_mAP@.4_m', value=results.stats[4], prog_bar=False)\n",
    "        self.__logging(metric='valid_mAP@.4_l', value=results.stats[5], prog_bar=False)\n",
    "        \n",
    "    def configure_optimizers(self):\n",
    "        optimizer = torch.optim.Adam(self.parameters(), lr=1e-3)\n",
    "        return optimizer\n",
    "    \n",
    "    def to_dataframe(self) -> pd.DataFrame:\n",
    "        records = self.history.copy()\n",
    "        \n",
    "        min_len = min([len(metric) for metric in self.history.keys()])\n",
    "        for metric in records.keys():\n",
    "            records[metric] = records[metric][-min_len:]\n",
    "            \n",
    "        return pd.DataFrame(records)\n",
    "    \n",
    "    def to_predict_string(self, preds: List[Dict[str, torch.Tensor]], image_ids: List[str]) -> pd.DataFrame:    \n",
    "        assert len(preds) == len(image_ids)\n",
    "        \n",
    "        records = {'image_id': list(), 'PredictionString': list()}\n",
    "\n",
    "        for pred, image_id in zip(preds, image_ids):\n",
    "            boxes = pred['boxes'].detach().cpu().numpy()\n",
    "            labels = pred['labels'].detach().cpu().numpy()\n",
    "            scores = pred['scores'].detach().cpu().numpy()\n",
    "\n",
    "            pred_list = []\n",
    "            for box, label, score in zip(boxes, labels, scores):\n",
    "                pred_list += [str(label)] + [str(score)] + box.astype(int).astype(str).tolist()\n",
    "\n",
    "            records['image_id'] += [image_id]\n",
    "            records['PredictionString'] += [' '.join(pred_list)]\n",
    "        return pd.DataFrame(records)\n",
    "    \n",
    "    def __to_gpu(self, images, targets) -> Tuple[torch.tensor, torch.tensor]:\n",
    "        images = list(image.to(self.device) for image in images)\n",
    "        targets = [{k: v.to(self.device) for k, v in t.items()} for t in targets]\n",
    "        \n",
    "        return images, targets\n",
    "        \n",
    "    def __logging(self, metric: str, value: float, prog_bar: bool = True):\n",
    "        self.log(metric, value, prog_bar=prog_bar)\n",
    "        \n",
    "        assert metric in self.history.keys()\n",
    "        self.history[metric] += [value]"
   ]
  },
  {
   "cell_type": "code",
   "execution_count": 13,
   "id": "fewer-framing",
   "metadata": {},
   "outputs": [
    {
     "name": "stdout",
     "output_type": "stream",
     "text": [
      "Removing class_id = 14: 67914 → 36096\n"
     ]
    }
   ],
   "source": [
    "train = load_train_data(filepath=str(base_dir / config.imgconf_file), meta_filepath=str(base_dir / config.imgdir_name / 'train_meta.csv'), img_size=config.img_size)\n",
    "mkf = MultilabelKFoldWrapper(train, config.n_splits, config.seed)"
   ]
  },
  {
   "cell_type": "code",
   "execution_count": 14,
   "id": "understood-fleet",
   "metadata": {},
   "outputs": [
    {
     "name": "stdout",
     "output_type": "stream",
     "text": [
      "Load from cache dataset_dicts_cache_original_debug0.pkl\n"
     ]
    }
   ],
   "source": [
    "dataset_dicts = get_vinbigdata_dicts(\n",
    "    imgdir=base_dir / config.imgdir_name, \n",
    "    train_df=train, \n",
    "    debug=config.debug,\n",
    ")"
   ]
  },
  {
   "cell_type": "code",
   "execution_count": 15,
   "id": "governing-jersey",
   "metadata": {},
   "outputs": [],
   "source": [
    "fold = 0\n",
    "\n",
    "train_idx = list(pd.DataFrame({'image_id': [dd['image_id'] for dd in dataset_dicts]}).query(f\"image_id in {mkf[fold][0]['image_id'].values.tolist()}\").index)\n",
    "valid_idx = list(pd.DataFrame({'image_id': [dd['image_id'] for dd in dataset_dicts]}).query(f\"image_id in {mkf[fold][1]['image_id'].values.tolist()}\").index)"
   ]
  },
  {
   "cell_type": "code",
   "execution_count": 39,
   "id": "responsible-throw",
   "metadata": {},
   "outputs": [],
   "source": [
    "def collate_fn(batch):\n",
    "    return tuple(zip(*batch))"
   ]
  },
  {
   "cell_type": "code",
   "execution_count": 16,
   "id": "uniform-documentation",
   "metadata": {},
   "outputs": [
    {
     "name": "stdout",
     "output_type": "stream",
     "text": [
      "Generating image data...\n",
      "Generating category data...\n",
      "Generating annotation data...\n",
      "Generating image data...\n",
      "Generating category data...\n",
      "Generating annotation data...\n"
     ]
    }
   ],
   "source": [
    "train_dataset = VinBigDataset(dataset_dicts=[dataset_dicts[i] for i in train_idx], transform=Transform(config.train_aug_kwargs))\n",
    "valid_dataset = VinBigDataset(dataset_dicts=[dataset_dicts[i] for i in valid_idx], transform=Transform(config.valid_aug_kwargs))\n",
    "\n",
    "train_loader = DataLoader(\n",
    "    train_dataset,\n",
    "    batch_size=config.batch_size,\n",
    "    shuffle=True,\n",
    "    num_workers=4,\n",
    "    collate_fn=collate_fn\n",
    ")\n",
    "\n",
    "valid_loader = DataLoader(\n",
    "    valid_dataset,\n",
    "    batch_size=config.batch_size,\n",
    "    shuffle=False,\n",
    "    num_workers=4,\n",
    "    collate_fn=collate_fn\n",
    ")\n",
    "\n",
    "\n",
    "cols = ['x_min', 'y_min', 'x_max', 'y_max']\n",
    "train_ = train.drop(columns=['x_min', 'y_min', 'x_max', 'y_max']).rename(columns={f'{c}_{config.img_size}': c for c in cols})\n",
    "\n",
    "train_evaluator = VinBigDataEval(train_.query(f'image_id in {train_dataset.image_ids}'))\n",
    "valid_evaluator = VinBigDataEval(train_.query(f'image_id in {valid_dataset.image_ids}'))"
   ]
  },
  {
   "cell_type": "code",
   "execution_count": 17,
   "id": "banner-malta",
   "metadata": {
    "collapsed": true,
    "jupyter": {
     "outputs_hidden": true
    },
    "tags": []
   },
   "outputs": [
    {
     "name": "stderr",
     "output_type": "stream",
     "text": [
      "GPU available: True, used: True\n",
      "TPU available: None, using: 0 TPU cores\n",
      "\n",
      "    | Name                                      | Type                     | Params\n",
      "-----------------------------------------------------------------------------------------\n",
      "0   | model                                     | FasterRCNN               | 41.4 M\n",
      "1   | model.transform                           | GeneralizedRCNNTransform | 0     \n",
      "2   | model.backbone                            | BackboneWithFPN          | 26.8 M\n",
      "3   | model.backbone.body                       | IntermediateLayerGetter  | 23.5 M\n",
      "4   | model.backbone.body.conv1                 | Conv2d                   | 9.4 K \n",
      "5   | model.backbone.body.bn1                   | FrozenBatchNorm2d        | 0     \n",
      "6   | model.backbone.body.relu                  | ReLU                     | 0     \n",
      "7   | model.backbone.body.maxpool               | MaxPool2d                | 0     \n",
      "8   | model.backbone.body.layer1                | Sequential               | 212 K \n",
      "9   | model.backbone.body.layer1.0              | Bottleneck               | 73.7 K\n",
      "10  | model.backbone.body.layer1.0.conv1        | Conv2d                   | 4.1 K \n",
      "11  | model.backbone.body.layer1.0.bn1          | FrozenBatchNorm2d        | 0     \n",
      "12  | model.backbone.body.layer1.0.conv2        | Conv2d                   | 36.9 K\n",
      "13  | model.backbone.body.layer1.0.bn2          | FrozenBatchNorm2d        | 0     \n",
      "14  | model.backbone.body.layer1.0.conv3        | Conv2d                   | 16.4 K\n",
      "15  | model.backbone.body.layer1.0.bn3          | FrozenBatchNorm2d        | 0     \n",
      "16  | model.backbone.body.layer1.0.relu         | ReLU                     | 0     \n",
      "17  | model.backbone.body.layer1.0.downsample   | Sequential               | 16.4 K\n",
      "18  | model.backbone.body.layer1.0.downsample.0 | Conv2d                   | 16.4 K\n",
      "19  | model.backbone.body.layer1.0.downsample.1 | FrozenBatchNorm2d        | 0     \n",
      "20  | model.backbone.body.layer1.1              | Bottleneck               | 69.6 K\n",
      "21  | model.backbone.body.layer1.1.conv1        | Conv2d                   | 16.4 K\n",
      "22  | model.backbone.body.layer1.1.bn1          | FrozenBatchNorm2d        | 0     \n",
      "23  | model.backbone.body.layer1.1.conv2        | Conv2d                   | 36.9 K\n",
      "24  | model.backbone.body.layer1.1.bn2          | FrozenBatchNorm2d        | 0     \n",
      "25  | model.backbone.body.layer1.1.conv3        | Conv2d                   | 16.4 K\n",
      "26  | model.backbone.body.layer1.1.bn3          | FrozenBatchNorm2d        | 0     \n",
      "27  | model.backbone.body.layer1.1.relu         | ReLU                     | 0     \n",
      "28  | model.backbone.body.layer1.2              | Bottleneck               | 69.6 K\n",
      "29  | model.backbone.body.layer1.2.conv1        | Conv2d                   | 16.4 K\n",
      "30  | model.backbone.body.layer1.2.bn1          | FrozenBatchNorm2d        | 0     \n",
      "31  | model.backbone.body.layer1.2.conv2        | Conv2d                   | 36.9 K\n",
      "32  | model.backbone.body.layer1.2.bn2          | FrozenBatchNorm2d        | 0     \n",
      "33  | model.backbone.body.layer1.2.conv3        | Conv2d                   | 16.4 K\n",
      "34  | model.backbone.body.layer1.2.bn3          | FrozenBatchNorm2d        | 0     \n",
      "35  | model.backbone.body.layer1.2.relu         | ReLU                     | 0     \n",
      "36  | model.backbone.body.layer2                | Sequential               | 1.2 M \n",
      "37  | model.backbone.body.layer2.0              | Bottleneck               | 376 K \n",
      "38  | model.backbone.body.layer2.0.conv1        | Conv2d                   | 32.8 K\n",
      "39  | model.backbone.body.layer2.0.bn1          | FrozenBatchNorm2d        | 0     \n",
      "40  | model.backbone.body.layer2.0.conv2        | Conv2d                   | 147 K \n",
      "41  | model.backbone.body.layer2.0.bn2          | FrozenBatchNorm2d        | 0     \n",
      "42  | model.backbone.body.layer2.0.conv3        | Conv2d                   | 65.5 K\n",
      "43  | model.backbone.body.layer2.0.bn3          | FrozenBatchNorm2d        | 0     \n",
      "44  | model.backbone.body.layer2.0.relu         | ReLU                     | 0     \n",
      "45  | model.backbone.body.layer2.0.downsample   | Sequential               | 131 K \n",
      "46  | model.backbone.body.layer2.0.downsample.0 | Conv2d                   | 131 K \n",
      "47  | model.backbone.body.layer2.0.downsample.1 | FrozenBatchNorm2d        | 0     \n",
      "48  | model.backbone.body.layer2.1              | Bottleneck               | 278 K \n",
      "49  | model.backbone.body.layer2.1.conv1        | Conv2d                   | 65.5 K\n",
      "50  | model.backbone.body.layer2.1.bn1          | FrozenBatchNorm2d        | 0     \n",
      "51  | model.backbone.body.layer2.1.conv2        | Conv2d                   | 147 K \n",
      "52  | model.backbone.body.layer2.1.bn2          | FrozenBatchNorm2d        | 0     \n",
      "53  | model.backbone.body.layer2.1.conv3        | Conv2d                   | 65.5 K\n",
      "54  | model.backbone.body.layer2.1.bn3          | FrozenBatchNorm2d        | 0     \n",
      "55  | model.backbone.body.layer2.1.relu         | ReLU                     | 0     \n",
      "56  | model.backbone.body.layer2.2              | Bottleneck               | 278 K \n",
      "57  | model.backbone.body.layer2.2.conv1        | Conv2d                   | 65.5 K\n",
      "58  | model.backbone.body.layer2.2.bn1          | FrozenBatchNorm2d        | 0     \n",
      "59  | model.backbone.body.layer2.2.conv2        | Conv2d                   | 147 K \n",
      "60  | model.backbone.body.layer2.2.bn2          | FrozenBatchNorm2d        | 0     \n",
      "61  | model.backbone.body.layer2.2.conv3        | Conv2d                   | 65.5 K\n",
      "62  | model.backbone.body.layer2.2.bn3          | FrozenBatchNorm2d        | 0     \n",
      "63  | model.backbone.body.layer2.2.relu         | ReLU                     | 0     \n",
      "64  | model.backbone.body.layer2.3              | Bottleneck               | 278 K \n",
      "65  | model.backbone.body.layer2.3.conv1        | Conv2d                   | 65.5 K\n",
      "66  | model.backbone.body.layer2.3.bn1          | FrozenBatchNorm2d        | 0     \n",
      "67  | model.backbone.body.layer2.3.conv2        | Conv2d                   | 147 K \n",
      "68  | model.backbone.body.layer2.3.bn2          | FrozenBatchNorm2d        | 0     \n",
      "69  | model.backbone.body.layer2.3.conv3        | Conv2d                   | 65.5 K\n",
      "70  | model.backbone.body.layer2.3.bn3          | FrozenBatchNorm2d        | 0     \n",
      "71  | model.backbone.body.layer2.3.relu         | ReLU                     | 0     \n",
      "72  | model.backbone.body.layer3                | Sequential               | 7.1 M \n",
      "73  | model.backbone.body.layer3.0              | Bottleneck               | 1.5 M \n",
      "74  | model.backbone.body.layer3.0.conv1        | Conv2d                   | 131 K \n",
      "75  | model.backbone.body.layer3.0.bn1          | FrozenBatchNorm2d        | 0     \n",
      "76  | model.backbone.body.layer3.0.conv2        | Conv2d                   | 589 K \n",
      "77  | model.backbone.body.layer3.0.bn2          | FrozenBatchNorm2d        | 0     \n",
      "78  | model.backbone.body.layer3.0.conv3        | Conv2d                   | 262 K \n",
      "79  | model.backbone.body.layer3.0.bn3          | FrozenBatchNorm2d        | 0     \n",
      "80  | model.backbone.body.layer3.0.relu         | ReLU                     | 0     \n",
      "81  | model.backbone.body.layer3.0.downsample   | Sequential               | 524 K \n",
      "82  | model.backbone.body.layer3.0.downsample.0 | Conv2d                   | 524 K \n",
      "83  | model.backbone.body.layer3.0.downsample.1 | FrozenBatchNorm2d        | 0     \n",
      "84  | model.backbone.body.layer3.1              | Bottleneck               | 1.1 M \n",
      "85  | model.backbone.body.layer3.1.conv1        | Conv2d                   | 262 K \n",
      "86  | model.backbone.body.layer3.1.bn1          | FrozenBatchNorm2d        | 0     \n",
      "87  | model.backbone.body.layer3.1.conv2        | Conv2d                   | 589 K \n",
      "88  | model.backbone.body.layer3.1.bn2          | FrozenBatchNorm2d        | 0     \n",
      "89  | model.backbone.body.layer3.1.conv3        | Conv2d                   | 262 K \n",
      "90  | model.backbone.body.layer3.1.bn3          | FrozenBatchNorm2d        | 0     \n",
      "91  | model.backbone.body.layer3.1.relu         | ReLU                     | 0     \n",
      "92  | model.backbone.body.layer3.2              | Bottleneck               | 1.1 M \n",
      "93  | model.backbone.body.layer3.2.conv1        | Conv2d                   | 262 K \n",
      "94  | model.backbone.body.layer3.2.bn1          | FrozenBatchNorm2d        | 0     \n",
      "95  | model.backbone.body.layer3.2.conv2        | Conv2d                   | 589 K \n",
      "96  | model.backbone.body.layer3.2.bn2          | FrozenBatchNorm2d        | 0     \n",
      "97  | model.backbone.body.layer3.2.conv3        | Conv2d                   | 262 K \n",
      "98  | model.backbone.body.layer3.2.bn3          | FrozenBatchNorm2d        | 0     \n",
      "99  | model.backbone.body.layer3.2.relu         | ReLU                     | 0     \n",
      "100 | model.backbone.body.layer3.3              | Bottleneck               | 1.1 M \n",
      "101 | model.backbone.body.layer3.3.conv1        | Conv2d                   | 262 K \n",
      "102 | model.backbone.body.layer3.3.bn1          | FrozenBatchNorm2d        | 0     \n",
      "103 | model.backbone.body.layer3.3.conv2        | Conv2d                   | 589 K \n",
      "104 | model.backbone.body.layer3.3.bn2          | FrozenBatchNorm2d        | 0     \n",
      "105 | model.backbone.body.layer3.3.conv3        | Conv2d                   | 262 K \n",
      "106 | model.backbone.body.layer3.3.bn3          | FrozenBatchNorm2d        | 0     \n",
      "107 | model.backbone.body.layer3.3.relu         | ReLU                     | 0     \n",
      "108 | model.backbone.body.layer3.4              | Bottleneck               | 1.1 M \n",
      "109 | model.backbone.body.layer3.4.conv1        | Conv2d                   | 262 K \n",
      "110 | model.backbone.body.layer3.4.bn1          | FrozenBatchNorm2d        | 0     \n",
      "111 | model.backbone.body.layer3.4.conv2        | Conv2d                   | 589 K \n",
      "112 | model.backbone.body.layer3.4.bn2          | FrozenBatchNorm2d        | 0     \n",
      "113 | model.backbone.body.layer3.4.conv3        | Conv2d                   | 262 K \n",
      "114 | model.backbone.body.layer3.4.bn3          | FrozenBatchNorm2d        | 0     \n",
      "115 | model.backbone.body.layer3.4.relu         | ReLU                     | 0     \n",
      "116 | model.backbone.body.layer3.5              | Bottleneck               | 1.1 M \n",
      "117 | model.backbone.body.layer3.5.conv1        | Conv2d                   | 262 K \n",
      "118 | model.backbone.body.layer3.5.bn1          | FrozenBatchNorm2d        | 0     \n",
      "119 | model.backbone.body.layer3.5.conv2        | Conv2d                   | 589 K \n",
      "120 | model.backbone.body.layer3.5.bn2          | FrozenBatchNorm2d        | 0     \n",
      "121 | model.backbone.body.layer3.5.conv3        | Conv2d                   | 262 K \n",
      "122 | model.backbone.body.layer3.5.bn3          | FrozenBatchNorm2d        | 0     \n",
      "123 | model.backbone.body.layer3.5.relu         | ReLU                     | 0     \n",
      "124 | model.backbone.body.layer4                | Sequential               | 14.9 M\n",
      "125 | model.backbone.body.layer4.0              | Bottleneck               | 6.0 M \n",
      "126 | model.backbone.body.layer4.0.conv1        | Conv2d                   | 524 K \n",
      "127 | model.backbone.body.layer4.0.bn1          | FrozenBatchNorm2d        | 0     \n",
      "128 | model.backbone.body.layer4.0.conv2        | Conv2d                   | 2.4 M \n",
      "129 | model.backbone.body.layer4.0.bn2          | FrozenBatchNorm2d        | 0     \n",
      "130 | model.backbone.body.layer4.0.conv3        | Conv2d                   | 1.0 M \n",
      "131 | model.backbone.body.layer4.0.bn3          | FrozenBatchNorm2d        | 0     \n",
      "132 | model.backbone.body.layer4.0.relu         | ReLU                     | 0     \n",
      "133 | model.backbone.body.layer4.0.downsample   | Sequential               | 2.1 M \n",
      "134 | model.backbone.body.layer4.0.downsample.0 | Conv2d                   | 2.1 M \n",
      "135 | model.backbone.body.layer4.0.downsample.1 | FrozenBatchNorm2d        | 0     \n",
      "136 | model.backbone.body.layer4.1              | Bottleneck               | 4.5 M \n",
      "137 | model.backbone.body.layer4.1.conv1        | Conv2d                   | 1.0 M \n",
      "138 | model.backbone.body.layer4.1.bn1          | FrozenBatchNorm2d        | 0     \n",
      "139 | model.backbone.body.layer4.1.conv2        | Conv2d                   | 2.4 M \n",
      "140 | model.backbone.body.layer4.1.bn2          | FrozenBatchNorm2d        | 0     \n",
      "141 | model.backbone.body.layer4.1.conv3        | Conv2d                   | 1.0 M \n",
      "142 | model.backbone.body.layer4.1.bn3          | FrozenBatchNorm2d        | 0     \n",
      "143 | model.backbone.body.layer4.1.relu         | ReLU                     | 0     \n",
      "144 | model.backbone.body.layer4.2              | Bottleneck               | 4.5 M \n",
      "145 | model.backbone.body.layer4.2.conv1        | Conv2d                   | 1.0 M \n",
      "146 | model.backbone.body.layer4.2.bn1          | FrozenBatchNorm2d        | 0     \n",
      "147 | model.backbone.body.layer4.2.conv2        | Conv2d                   | 2.4 M \n",
      "148 | model.backbone.body.layer4.2.bn2          | FrozenBatchNorm2d        | 0     \n",
      "149 | model.backbone.body.layer4.2.conv3        | Conv2d                   | 1.0 M \n",
      "150 | model.backbone.body.layer4.2.bn3          | FrozenBatchNorm2d        | 0     \n",
      "151 | model.backbone.body.layer4.2.relu         | ReLU                     | 0     \n",
      "152 | model.backbone.fpn                        | FeaturePyramidNetwork    | 3.3 M \n",
      "153 | model.backbone.fpn.inner_blocks           | ModuleList               | 984 K \n",
      "154 | model.backbone.fpn.inner_blocks.0         | Conv2d                   | 65.8 K\n",
      "155 | model.backbone.fpn.inner_blocks.1         | Conv2d                   | 131 K \n",
      "156 | model.backbone.fpn.inner_blocks.2         | Conv2d                   | 262 K \n",
      "157 | model.backbone.fpn.inner_blocks.3         | Conv2d                   | 524 K \n",
      "158 | model.backbone.fpn.layer_blocks           | ModuleList               | 2.4 M \n",
      "159 | model.backbone.fpn.layer_blocks.0         | Conv2d                   | 590 K \n",
      "160 | model.backbone.fpn.layer_blocks.1         | Conv2d                   | 590 K \n",
      "161 | model.backbone.fpn.layer_blocks.2         | Conv2d                   | 590 K \n",
      "162 | model.backbone.fpn.layer_blocks.3         | Conv2d                   | 590 K \n",
      "163 | model.backbone.fpn.extra_blocks           | LastLevelMaxPool         | 0     \n",
      "164 | model.rpn                                 | RegionProposalNetwork    | 593 K \n",
      "165 | model.rpn.anchor_generator                | AnchorGenerator          | 0     \n",
      "166 | model.rpn.head                            | RPNHead                  | 593 K \n",
      "167 | model.rpn.head.conv                       | Conv2d                   | 590 K \n",
      "168 | model.rpn.head.cls_logits                 | Conv2d                   | 771   \n",
      "169 | model.rpn.head.bbox_pred                  | Conv2d                   | 3.1 K \n",
      "170 | model.roi_heads                           | RoIHeads                 | 14.0 M\n",
      "171 | model.roi_heads.box_roi_pool              | MultiScaleRoIAlign       | 0     \n",
      "172 | model.roi_heads.box_head                  | TwoMLPHead               | 13.9 M\n",
      "173 | model.roi_heads.box_head.fc6              | Linear                   | 12.8 M\n",
      "174 | model.roi_heads.box_head.fc7              | Linear                   | 1.0 M \n",
      "175 | model.roi_heads.box_predictor             | FastRCNNPredictor        | 76.9 K\n",
      "176 | model.roi_heads.box_predictor.cls_score   | Linear                   | 15.4 K\n",
      "177 | model.roi_heads.box_predictor.bbox_pred   | Linear                   | 61.5 K\n",
      "-----------------------------------------------------------------------------------------\n",
      "41.1 M    Trainable params\n",
      "222 K     Non-trainable params\n",
      "41.4 M    Total params\n",
      "165.463   Total estimated model params size (MB)\n"
     ]
    },
    {
     "data": {
      "application/vnd.jupyter.widget-view+json": {
       "model_id": "",
       "version_major": 2,
       "version_minor": 0
      },
      "text/plain": [
       "Validation sanity check: 0it [00:00, ?it/s]"
      ]
     },
     "metadata": {},
     "output_type": "display_data"
    },
    {
     "name": "stdout",
     "output_type": "stream",
     "text": [
      "Generating prediction data...\n",
      "creating index...\n",
      "index created!\n",
      "creating index...\n",
      "index created!\n",
      "Running per image evaluation...\n",
      "Evaluate annotation type *bbox*\n",
      "DONE (t=0.69s).\n",
      "Accumulating evaluation results...\n",
      "DONE (t=0.11s).\n",
      " Average Precision  (AP) @[ IoU=0.40:0.40 | area=   all | maxDets=100 ] = 0.000\n",
      " Average Precision  (AP) @[ IoU=0.50      | area=   all | maxDets=100 ] = -1.000\n",
      " Average Precision  (AP) @[ IoU=0.75      | area=   all | maxDets=100 ] = -1.000\n",
      " Average Precision  (AP) @[ IoU=0.40:0.40 | area= small | maxDets=100 ] = 0.000\n",
      " Average Precision  (AP) @[ IoU=0.40:0.40 | area=medium | maxDets=100 ] = 0.001\n",
      " Average Precision  (AP) @[ IoU=0.40:0.40 | area= large | maxDets=100 ] = 0.000\n",
      " Average Recall     (AR) @[ IoU=0.40:0.40 | area=   all | maxDets=  1 ] = 0.001\n",
      " Average Recall     (AR) @[ IoU=0.40:0.40 | area=   all | maxDets= 10 ] = 0.004\n",
      " Average Recall     (AR) @[ IoU=0.40:0.40 | area=   all | maxDets=100 ] = 0.008\n",
      " Average Recall     (AR) @[ IoU=0.40:0.40 | area= small | maxDets=100 ] = 0.007\n",
      " Average Recall     (AR) @[ IoU=0.40:0.40 | area=medium | maxDets=100 ] = 0.008\n",
      " Average Recall     (AR) @[ IoU=0.40:0.40 | area= large | maxDets=100 ] = 0.013\n"
     ]
    },
    {
     "data": {
      "application/vnd.jupyter.widget-view+json": {
       "model_id": "c5131eefe5ad461ba1fd3b16a9f72b5a",
       "version_major": 2,
       "version_minor": 0
      },
      "text/plain": [
       "Training: 0it [00:00, ?it/s]"
      ]
     },
     "metadata": {},
     "output_type": "display_data"
    },
    {
     "data": {
      "application/vnd.jupyter.widget-view+json": {
       "model_id": "",
       "version_major": 2,
       "version_minor": 0
      },
      "text/plain": [
       "Validating: 0it [00:00, ?it/s]"
      ]
     },
     "metadata": {},
     "output_type": "display_data"
    },
    {
     "name": "stdout",
     "output_type": "stream",
     "text": [
      "Generating prediction data...\n",
      "creating index...\n",
      "index created!\n",
      "creating index...\n",
      "index created!\n",
      "Running per image evaluation...\n",
      "Evaluate annotation type *bbox*\n",
      "DONE (t=0.73s).\n",
      "Accumulating evaluation results...\n",
      "DONE (t=0.11s).\n",
      " Average Precision  (AP) @[ IoU=0.40:0.40 | area=   all | maxDets=100 ] = 0.000\n",
      " Average Precision  (AP) @[ IoU=0.50      | area=   all | maxDets=100 ] = -1.000\n",
      " Average Precision  (AP) @[ IoU=0.75      | area=   all | maxDets=100 ] = -1.000\n",
      " Average Precision  (AP) @[ IoU=0.40:0.40 | area= small | maxDets=100 ] = 0.000\n",
      " Average Precision  (AP) @[ IoU=0.40:0.40 | area=medium | maxDets=100 ] = 0.004\n",
      " Average Precision  (AP) @[ IoU=0.40:0.40 | area= large | maxDets=100 ] = 0.000\n",
      " Average Recall     (AR) @[ IoU=0.40:0.40 | area=   all | maxDets=  1 ] = 0.002\n",
      " Average Recall     (AR) @[ IoU=0.40:0.40 | area=   all | maxDets= 10 ] = 0.005\n",
      " Average Recall     (AR) @[ IoU=0.40:0.40 | area=   all | maxDets=100 ] = 0.005\n",
      " Average Recall     (AR) @[ IoU=0.40:0.40 | area= small | maxDets=100 ] = 0.005\n",
      " Average Recall     (AR) @[ IoU=0.40:0.40 | area=medium | maxDets=100 ] = 0.003\n",
      " Average Recall     (AR) @[ IoU=0.40:0.40 | area= large | maxDets=100 ] = 0.000\n"
     ]
    },
    {
     "data": {
      "application/vnd.jupyter.widget-view+json": {
       "model_id": "",
       "version_major": 2,
       "version_minor": 0
      },
      "text/plain": [
       "Validating: 0it [00:00, ?it/s]"
      ]
     },
     "metadata": {},
     "output_type": "display_data"
    },
    {
     "name": "stdout",
     "output_type": "stream",
     "text": [
      "Generating prediction data...\n",
      "creating index...\n",
      "index created!\n",
      "creating index...\n",
      "index created!\n",
      "Running per image evaluation...\n",
      "Evaluate annotation type *bbox*\n",
      "DONE (t=0.99s).\n",
      "Accumulating evaluation results...\n",
      "DONE (t=0.18s).\n",
      " Average Precision  (AP) @[ IoU=0.40:0.40 | area=   all | maxDets=100 ] = 0.030\n",
      " Average Precision  (AP) @[ IoU=0.50      | area=   all | maxDets=100 ] = -1.000\n",
      " Average Precision  (AP) @[ IoU=0.75      | area=   all | maxDets=100 ] = -1.000\n",
      " Average Precision  (AP) @[ IoU=0.40:0.40 | area= small | maxDets=100 ] = 0.073\n",
      " Average Precision  (AP) @[ IoU=0.40:0.40 | area=medium | maxDets=100 ] = 0.043\n",
      " Average Precision  (AP) @[ IoU=0.40:0.40 | area= large | maxDets=100 ] = 0.078\n",
      " Average Recall     (AR) @[ IoU=0.40:0.40 | area=   all | maxDets=  1 ] = 0.037\n",
      " Average Recall     (AR) @[ IoU=0.40:0.40 | area=   all | maxDets= 10 ] = 0.098\n",
      " Average Recall     (AR) @[ IoU=0.40:0.40 | area=   all | maxDets=100 ] = 0.100\n",
      " Average Recall     (AR) @[ IoU=0.40:0.40 | area= small | maxDets=100 ] = 0.099\n",
      " Average Recall     (AR) @[ IoU=0.40:0.40 | area=medium | maxDets=100 ] = 0.092\n",
      " Average Recall     (AR) @[ IoU=0.40:0.40 | area= large | maxDets=100 ] = 0.083\n"
     ]
    },
    {
     "data": {
      "application/vnd.jupyter.widget-view+json": {
       "model_id": "",
       "version_major": 2,
       "version_minor": 0
      },
      "text/plain": [
       "Validating: 0it [00:00, ?it/s]"
      ]
     },
     "metadata": {},
     "output_type": "display_data"
    },
    {
     "name": "stdout",
     "output_type": "stream",
     "text": [
      "Generating prediction data...\n",
      "creating index...\n",
      "index created!\n",
      "creating index...\n",
      "index created!\n",
      "Running per image evaluation...\n",
      "Evaluate annotation type *bbox*\n",
      "DONE (t=1.58s).\n",
      "Accumulating evaluation results...\n",
      "DONE (t=0.31s).\n",
      " Average Precision  (AP) @[ IoU=0.40:0.40 | area=   all | maxDets=100 ] = 0.066\n",
      " Average Precision  (AP) @[ IoU=0.50      | area=   all | maxDets=100 ] = -1.000\n",
      " Average Precision  (AP) @[ IoU=0.75      | area=   all | maxDets=100 ] = -1.000\n",
      " Average Precision  (AP) @[ IoU=0.40:0.40 | area= small | maxDets=100 ] = 0.240\n",
      " Average Precision  (AP) @[ IoU=0.40:0.40 | area=medium | maxDets=100 ] = 0.083\n",
      " Average Precision  (AP) @[ IoU=0.40:0.40 | area= large | maxDets=100 ] = 0.321\n",
      " Average Recall     (AR) @[ IoU=0.40:0.40 | area=   all | maxDets=  1 ] = 0.088\n",
      " Average Recall     (AR) @[ IoU=0.40:0.40 | area=   all | maxDets= 10 ] = 0.278\n",
      " Average Recall     (AR) @[ IoU=0.40:0.40 | area=   all | maxDets=100 ] = 0.303\n",
      " Average Recall     (AR) @[ IoU=0.40:0.40 | area= small | maxDets=100 ] = 0.275\n",
      " Average Recall     (AR) @[ IoU=0.40:0.40 | area=medium | maxDets=100 ] = 0.328\n",
      " Average Recall     (AR) @[ IoU=0.40:0.40 | area= large | maxDets=100 ] = 0.353\n"
     ]
    },
    {
     "data": {
      "application/vnd.jupyter.widget-view+json": {
       "model_id": "",
       "version_major": 2,
       "version_minor": 0
      },
      "text/plain": [
       "Validating: 0it [00:00, ?it/s]"
      ]
     },
     "metadata": {},
     "output_type": "display_data"
    },
    {
     "name": "stdout",
     "output_type": "stream",
     "text": [
      "Generating prediction data...\n",
      "creating index...\n",
      "index created!\n",
      "creating index...\n",
      "index created!\n",
      "Running per image evaluation...\n",
      "Evaluate annotation type *bbox*\n",
      "DONE (t=0.95s).\n",
      "Accumulating evaluation results...\n",
      "DONE (t=0.17s).\n",
      " Average Precision  (AP) @[ IoU=0.40:0.40 | area=   all | maxDets=100 ] = 0.068\n",
      " Average Precision  (AP) @[ IoU=0.50      | area=   all | maxDets=100 ] = -1.000\n",
      " Average Precision  (AP) @[ IoU=0.75      | area=   all | maxDets=100 ] = -1.000\n",
      " Average Precision  (AP) @[ IoU=0.40:0.40 | area= small | maxDets=100 ] = 0.060\n",
      " Average Precision  (AP) @[ IoU=0.40:0.40 | area=medium | maxDets=100 ] = 0.083\n",
      " Average Precision  (AP) @[ IoU=0.40:0.40 | area= large | maxDets=100 ] = 0.143\n",
      " Average Recall     (AR) @[ IoU=0.40:0.40 | area=   all | maxDets=  1 ] = 0.071\n",
      " Average Recall     (AR) @[ IoU=0.40:0.40 | area=   all | maxDets= 10 ] = 0.145\n",
      " Average Recall     (AR) @[ IoU=0.40:0.40 | area=   all | maxDets=100 ] = 0.146\n",
      " Average Recall     (AR) @[ IoU=0.40:0.40 | area= small | maxDets=100 ] = 0.087\n",
      " Average Recall     (AR) @[ IoU=0.40:0.40 | area=medium | maxDets=100 ] = 0.154\n",
      " Average Recall     (AR) @[ IoU=0.40:0.40 | area= large | maxDets=100 ] = 0.152\n"
     ]
    },
    {
     "data": {
      "application/vnd.jupyter.widget-view+json": {
       "model_id": "",
       "version_major": 2,
       "version_minor": 0
      },
      "text/plain": [
       "Validating: 0it [00:00, ?it/s]"
      ]
     },
     "metadata": {},
     "output_type": "display_data"
    },
    {
     "name": "stdout",
     "output_type": "stream",
     "text": [
      "Generating prediction data...\n",
      "creating index...\n",
      "index created!\n",
      "creating index...\n",
      "index created!\n",
      "Running per image evaluation...\n",
      "Evaluate annotation type *bbox*\n",
      "DONE (t=1.37s).\n",
      "Accumulating evaluation results...\n",
      "DONE (t=0.26s).\n",
      " Average Precision  (AP) @[ IoU=0.40:0.40 | area=   all | maxDets=100 ] = 0.099\n",
      " Average Precision  (AP) @[ IoU=0.50      | area=   all | maxDets=100 ] = -1.000\n",
      " Average Precision  (AP) @[ IoU=0.75      | area=   all | maxDets=100 ] = -1.000\n",
      " Average Precision  (AP) @[ IoU=0.40:0.40 | area= small | maxDets=100 ] = 0.156\n",
      " Average Precision  (AP) @[ IoU=0.40:0.40 | area=medium | maxDets=100 ] = 0.134\n",
      " Average Precision  (AP) @[ IoU=0.40:0.40 | area= large | maxDets=100 ] = 0.323\n",
      " Average Recall     (AR) @[ IoU=0.40:0.40 | area=   all | maxDets=  1 ] = 0.107\n",
      " Average Recall     (AR) @[ IoU=0.40:0.40 | area=   all | maxDets= 10 ] = 0.275\n",
      " Average Recall     (AR) @[ IoU=0.40:0.40 | area=   all | maxDets=100 ] = 0.287\n",
      " Average Recall     (AR) @[ IoU=0.40:0.40 | area= small | maxDets=100 ] = 0.191\n",
      " Average Recall     (AR) @[ IoU=0.40:0.40 | area=medium | maxDets=100 ] = 0.328\n",
      " Average Recall     (AR) @[ IoU=0.40:0.40 | area= large | maxDets=100 ] = 0.372\n"
     ]
    },
    {
     "data": {
      "application/vnd.jupyter.widget-view+json": {
       "model_id": "",
       "version_major": 2,
       "version_minor": 0
      },
      "text/plain": [
       "Validating: 0it [00:00, ?it/s]"
      ]
     },
     "metadata": {},
     "output_type": "display_data"
    },
    {
     "name": "stdout",
     "output_type": "stream",
     "text": [
      "Generating prediction data...\n",
      "creating index...\n",
      "index created!\n",
      "creating index...\n",
      "index created!\n",
      "Running per image evaluation...\n",
      "Evaluate annotation type *bbox*\n",
      "DONE (t=1.17s).\n",
      "Accumulating evaluation results...\n",
      "DONE (t=0.25s).\n",
      " Average Precision  (AP) @[ IoU=0.40:0.40 | area=   all | maxDets=100 ] = 0.115\n",
      " Average Precision  (AP) @[ IoU=0.50      | area=   all | maxDets=100 ] = -1.000\n",
      " Average Precision  (AP) @[ IoU=0.75      | area=   all | maxDets=100 ] = -1.000\n",
      " Average Precision  (AP) @[ IoU=0.40:0.40 | area= small | maxDets=100 ] = 0.146\n",
      " Average Precision  (AP) @[ IoU=0.40:0.40 | area=medium | maxDets=100 ] = 0.123\n",
      " Average Precision  (AP) @[ IoU=0.40:0.40 | area= large | maxDets=100 ] = 0.332\n",
      " Average Recall     (AR) @[ IoU=0.40:0.40 | area=   all | maxDets=  1 ] = 0.121\n",
      " Average Recall     (AR) @[ IoU=0.40:0.40 | area=   all | maxDets= 10 ] = 0.285\n",
      " Average Recall     (AR) @[ IoU=0.40:0.40 | area=   all | maxDets=100 ] = 0.298\n",
      " Average Recall     (AR) @[ IoU=0.40:0.40 | area= small | maxDets=100 ] = 0.239\n",
      " Average Recall     (AR) @[ IoU=0.40:0.40 | area=medium | maxDets=100 ] = 0.308\n",
      " Average Recall     (AR) @[ IoU=0.40:0.40 | area= large | maxDets=100 ] = 0.376\n"
     ]
    },
    {
     "data": {
      "application/vnd.jupyter.widget-view+json": {
       "model_id": "",
       "version_major": 2,
       "version_minor": 0
      },
      "text/plain": [
       "Validating: 0it [00:00, ?it/s]"
      ]
     },
     "metadata": {},
     "output_type": "display_data"
    },
    {
     "name": "stdout",
     "output_type": "stream",
     "text": [
      "Generating prediction data...\n",
      "creating index...\n",
      "index created!\n",
      "creating index...\n",
      "index created!\n",
      "Running per image evaluation...\n",
      "Evaluate annotation type *bbox*\n",
      "DONE (t=1.21s).\n",
      "Accumulating evaluation results...\n",
      "DONE (t=0.40s).\n",
      " Average Precision  (AP) @[ IoU=0.40:0.40 | area=   all | maxDets=100 ] = 0.170\n",
      " Average Precision  (AP) @[ IoU=0.50      | area=   all | maxDets=100 ] = -1.000\n",
      " Average Precision  (AP) @[ IoU=0.75      | area=   all | maxDets=100 ] = -1.000\n",
      " Average Precision  (AP) @[ IoU=0.40:0.40 | area= small | maxDets=100 ] = 0.210\n",
      " Average Precision  (AP) @[ IoU=0.40:0.40 | area=medium | maxDets=100 ] = 0.200\n",
      " Average Precision  (AP) @[ IoU=0.40:0.40 | area= large | maxDets=100 ] = 0.360\n",
      " Average Recall     (AR) @[ IoU=0.40:0.40 | area=   all | maxDets=  1 ] = 0.167\n",
      " Average Recall     (AR) @[ IoU=0.40:0.40 | area=   all | maxDets= 10 ] = 0.372\n",
      " Average Recall     (AR) @[ IoU=0.40:0.40 | area=   all | maxDets=100 ] = 0.378\n",
      " Average Recall     (AR) @[ IoU=0.40:0.40 | area= small | maxDets=100 ] = 0.275\n",
      " Average Recall     (AR) @[ IoU=0.40:0.40 | area=medium | maxDets=100 ] = 0.406\n",
      " Average Recall     (AR) @[ IoU=0.40:0.40 | area= large | maxDets=100 ] = 0.446\n"
     ]
    },
    {
     "data": {
      "application/vnd.jupyter.widget-view+json": {
       "model_id": "",
       "version_major": 2,
       "version_minor": 0
      },
      "text/plain": [
       "Validating: 0it [00:00, ?it/s]"
      ]
     },
     "metadata": {},
     "output_type": "display_data"
    },
    {
     "name": "stdout",
     "output_type": "stream",
     "text": [
      "Generating prediction data...\n",
      "creating index...\n",
      "index created!\n",
      "creating index...\n",
      "index created!\n",
      "Running per image evaluation...\n",
      "Evaluate annotation type *bbox*\n",
      "DONE (t=1.93s).\n",
      "Accumulating evaluation results...\n",
      "DONE (t=0.38s).\n",
      " Average Precision  (AP) @[ IoU=0.40:0.40 | area=   all | maxDets=100 ] = 0.195\n",
      " Average Precision  (AP) @[ IoU=0.50      | area=   all | maxDets=100 ] = -1.000\n",
      " Average Precision  (AP) @[ IoU=0.75      | area=   all | maxDets=100 ] = -1.000\n",
      " Average Precision  (AP) @[ IoU=0.40:0.40 | area= small | maxDets=100 ] = 0.281\n",
      " Average Precision  (AP) @[ IoU=0.40:0.40 | area=medium | maxDets=100 ] = 0.226\n",
      " Average Precision  (AP) @[ IoU=0.40:0.40 | area= large | maxDets=100 ] = 0.413\n",
      " Average Recall     (AR) @[ IoU=0.40:0.40 | area=   all | maxDets=  1 ] = 0.212\n",
      " Average Recall     (AR) @[ IoU=0.40:0.40 | area=   all | maxDets= 10 ] = 0.520\n",
      " Average Recall     (AR) @[ IoU=0.40:0.40 | area=   all | maxDets=100 ] = 0.540\n",
      " Average Recall     (AR) @[ IoU=0.40:0.40 | area= small | maxDets=100 ] = 0.473\n",
      " Average Recall     (AR) @[ IoU=0.40:0.40 | area=medium | maxDets=100 ] = 0.517\n",
      " Average Recall     (AR) @[ IoU=0.40:0.40 | area= large | maxDets=100 ] = 0.522\n"
     ]
    },
    {
     "data": {
      "application/vnd.jupyter.widget-view+json": {
       "model_id": "",
       "version_major": 2,
       "version_minor": 0
      },
      "text/plain": [
       "Validating: 0it [00:00, ?it/s]"
      ]
     },
     "metadata": {},
     "output_type": "display_data"
    },
    {
     "name": "stdout",
     "output_type": "stream",
     "text": [
      "Generating prediction data...\n",
      "creating index...\n",
      "index created!\n",
      "creating index...\n",
      "index created!\n",
      "Running per image evaluation...\n",
      "Evaluate annotation type *bbox*\n",
      "DONE (t=1.91s).\n",
      "Accumulating evaluation results...\n",
      "DONE (t=0.38s).\n",
      " Average Precision  (AP) @[ IoU=0.40:0.40 | area=   all | maxDets=100 ] = 0.237\n",
      " Average Precision  (AP) @[ IoU=0.50      | area=   all | maxDets=100 ] = -1.000\n",
      " Average Precision  (AP) @[ IoU=0.75      | area=   all | maxDets=100 ] = -1.000\n",
      " Average Precision  (AP) @[ IoU=0.40:0.40 | area= small | maxDets=100 ] = 0.285\n",
      " Average Precision  (AP) @[ IoU=0.40:0.40 | area=medium | maxDets=100 ] = 0.271\n",
      " Average Precision  (AP) @[ IoU=0.40:0.40 | area= large | maxDets=100 ] = 0.437\n",
      " Average Recall     (AR) @[ IoU=0.40:0.40 | area=   all | maxDets=  1 ] = 0.244\n",
      " Average Recall     (AR) @[ IoU=0.40:0.40 | area=   all | maxDets= 10 ] = 0.590\n",
      " Average Recall     (AR) @[ IoU=0.40:0.40 | area=   all | maxDets=100 ] = 0.607\n",
      " Average Recall     (AR) @[ IoU=0.40:0.40 | area= small | maxDets=100 ] = 0.562\n",
      " Average Recall     (AR) @[ IoU=0.40:0.40 | area=medium | maxDets=100 ] = 0.604\n",
      " Average Recall     (AR) @[ IoU=0.40:0.40 | area= large | maxDets=100 ] = 0.637\n"
     ]
    },
    {
     "data": {
      "application/vnd.jupyter.widget-view+json": {
       "model_id": "",
       "version_major": 2,
       "version_minor": 0
      },
      "text/plain": [
       "Validating: 0it [00:00, ?it/s]"
      ]
     },
     "metadata": {},
     "output_type": "display_data"
    },
    {
     "name": "stdout",
     "output_type": "stream",
     "text": [
      "Generating prediction data...\n",
      "creating index...\n",
      "index created!\n",
      "creating index...\n",
      "index created!\n",
      "Running per image evaluation...\n",
      "Evaluate annotation type *bbox*\n",
      "DONE (t=1.69s).\n",
      "Accumulating evaluation results...\n",
      "DONE (t=0.31s).\n",
      " Average Precision  (AP) @[ IoU=0.40:0.40 | area=   all | maxDets=100 ] = 0.236\n",
      " Average Precision  (AP) @[ IoU=0.50      | area=   all | maxDets=100 ] = -1.000\n",
      " Average Precision  (AP) @[ IoU=0.75      | area=   all | maxDets=100 ] = -1.000\n",
      " Average Precision  (AP) @[ IoU=0.40:0.40 | area= small | maxDets=100 ] = 0.236\n",
      " Average Precision  (AP) @[ IoU=0.40:0.40 | area=medium | maxDets=100 ] = 0.295\n",
      " Average Precision  (AP) @[ IoU=0.40:0.40 | area= large | maxDets=100 ] = 0.440\n",
      " Average Recall     (AR) @[ IoU=0.40:0.40 | area=   all | maxDets=  1 ] = 0.238\n",
      " Average Recall     (AR) @[ IoU=0.40:0.40 | area=   all | maxDets= 10 ] = 0.541\n",
      " Average Recall     (AR) @[ IoU=0.40:0.40 | area=   all | maxDets=100 ] = 0.560\n",
      " Average Recall     (AR) @[ IoU=0.40:0.40 | area= small | maxDets=100 ] = 0.502\n",
      " Average Recall     (AR) @[ IoU=0.40:0.40 | area=medium | maxDets=100 ] = 0.558\n",
      " Average Recall     (AR) @[ IoU=0.40:0.40 | area= large | maxDets=100 ] = 0.601\n"
     ]
    },
    {
     "data": {
      "application/vnd.jupyter.widget-view+json": {
       "model_id": "",
       "version_major": 2,
       "version_minor": 0
      },
      "text/plain": [
       "Validating: 0it [00:00, ?it/s]"
      ]
     },
     "metadata": {},
     "output_type": "display_data"
    },
    {
     "name": "stdout",
     "output_type": "stream",
     "text": [
      "Generating prediction data...\n",
      "creating index...\n",
      "index created!\n",
      "creating index...\n",
      "index created!\n",
      "Running per image evaluation...\n",
      "Evaluate annotation type *bbox*\n",
      "DONE (t=1.89s).\n",
      "Accumulating evaluation results...\n",
      "DONE (t=0.37s).\n",
      " Average Precision  (AP) @[ IoU=0.40:0.40 | area=   all | maxDets=100 ] = 0.242\n",
      " Average Precision  (AP) @[ IoU=0.50      | area=   all | maxDets=100 ] = -1.000\n",
      " Average Precision  (AP) @[ IoU=0.75      | area=   all | maxDets=100 ] = -1.000\n",
      " Average Precision  (AP) @[ IoU=0.40:0.40 | area= small | maxDets=100 ] = 0.247\n",
      " Average Precision  (AP) @[ IoU=0.40:0.40 | area=medium | maxDets=100 ] = 0.322\n",
      " Average Precision  (AP) @[ IoU=0.40:0.40 | area= large | maxDets=100 ] = 0.508\n",
      " Average Recall     (AR) @[ IoU=0.40:0.40 | area=   all | maxDets=  1 ] = 0.237\n",
      " Average Recall     (AR) @[ IoU=0.40:0.40 | area=   all | maxDets= 10 ] = 0.573\n",
      " Average Recall     (AR) @[ IoU=0.40:0.40 | area=   all | maxDets=100 ] = 0.599\n",
      " Average Recall     (AR) @[ IoU=0.40:0.40 | area= small | maxDets=100 ] = 0.561\n",
      " Average Recall     (AR) @[ IoU=0.40:0.40 | area=medium | maxDets=100 ] = 0.589\n",
      " Average Recall     (AR) @[ IoU=0.40:0.40 | area= large | maxDets=100 ] = 0.603\n"
     ]
    },
    {
     "data": {
      "application/vnd.jupyter.widget-view+json": {
       "model_id": "",
       "version_major": 2,
       "version_minor": 0
      },
      "text/plain": [
       "Validating: 0it [00:00, ?it/s]"
      ]
     },
     "metadata": {},
     "output_type": "display_data"
    },
    {
     "name": "stdout",
     "output_type": "stream",
     "text": [
      "Generating prediction data...\n",
      "creating index...\n",
      "index created!\n",
      "creating index...\n",
      "index created!\n",
      "Running per image evaluation...\n",
      "Evaluate annotation type *bbox*\n",
      "DONE (t=1.91s).\n",
      "Accumulating evaluation results...\n",
      "DONE (t=0.57s).\n",
      " Average Precision  (AP) @[ IoU=0.40:0.40 | area=   all | maxDets=100 ] = 0.261\n",
      " Average Precision  (AP) @[ IoU=0.50      | area=   all | maxDets=100 ] = -1.000\n",
      " Average Precision  (AP) @[ IoU=0.75      | area=   all | maxDets=100 ] = -1.000\n",
      " Average Precision  (AP) @[ IoU=0.40:0.40 | area= small | maxDets=100 ] = 0.309\n",
      " Average Precision  (AP) @[ IoU=0.40:0.40 | area=medium | maxDets=100 ] = 0.302\n",
      " Average Precision  (AP) @[ IoU=0.40:0.40 | area= large | maxDets=100 ] = 0.419\n",
      " Average Recall     (AR) @[ IoU=0.40:0.40 | area=   all | maxDets=  1 ] = 0.276\n",
      " Average Recall     (AR) @[ IoU=0.40:0.40 | area=   all | maxDets= 10 ] = 0.641\n",
      " Average Recall     (AR) @[ IoU=0.40:0.40 | area=   all | maxDets=100 ] = 0.657\n",
      " Average Recall     (AR) @[ IoU=0.40:0.40 | area= small | maxDets=100 ] = 0.584\n",
      " Average Recall     (AR) @[ IoU=0.40:0.40 | area=medium | maxDets=100 ] = 0.672\n",
      " Average Recall     (AR) @[ IoU=0.40:0.40 | area= large | maxDets=100 ] = 0.610\n"
     ]
    },
    {
     "data": {
      "application/vnd.jupyter.widget-view+json": {
       "model_id": "",
       "version_major": 2,
       "version_minor": 0
      },
      "text/plain": [
       "Validating: 0it [00:00, ?it/s]"
      ]
     },
     "metadata": {},
     "output_type": "display_data"
    },
    {
     "name": "stdout",
     "output_type": "stream",
     "text": [
      "Generating prediction data...\n",
      "creating index...\n",
      "index created!\n",
      "creating index...\n",
      "index created!\n",
      "Running per image evaluation...\n",
      "Evaluate annotation type *bbox*\n",
      "DONE (t=1.84s).\n",
      "Accumulating evaluation results...\n",
      "DONE (t=0.36s).\n",
      " Average Precision  (AP) @[ IoU=0.40:0.40 | area=   all | maxDets=100 ] = 0.264\n",
      " Average Precision  (AP) @[ IoU=0.50      | area=   all | maxDets=100 ] = -1.000\n",
      " Average Precision  (AP) @[ IoU=0.75      | area=   all | maxDets=100 ] = -1.000\n",
      " Average Precision  (AP) @[ IoU=0.40:0.40 | area= small | maxDets=100 ] = 0.288\n",
      " Average Precision  (AP) @[ IoU=0.40:0.40 | area=medium | maxDets=100 ] = 0.334\n",
      " Average Precision  (AP) @[ IoU=0.40:0.40 | area= large | maxDets=100 ] = 0.465\n",
      " Average Recall     (AR) @[ IoU=0.40:0.40 | area=   all | maxDets=  1 ] = 0.258\n",
      " Average Recall     (AR) @[ IoU=0.40:0.40 | area=   all | maxDets= 10 ] = 0.623\n",
      " Average Recall     (AR) @[ IoU=0.40:0.40 | area=   all | maxDets=100 ] = 0.646\n",
      " Average Recall     (AR) @[ IoU=0.40:0.40 | area= small | maxDets=100 ] = 0.580\n",
      " Average Recall     (AR) @[ IoU=0.40:0.40 | area=medium | maxDets=100 ] = 0.664\n",
      " Average Recall     (AR) @[ IoU=0.40:0.40 | area= large | maxDets=100 ] = 0.666\n"
     ]
    },
    {
     "data": {
      "application/vnd.jupyter.widget-view+json": {
       "model_id": "",
       "version_major": 2,
       "version_minor": 0
      },
      "text/plain": [
       "Validating: 0it [00:00, ?it/s]"
      ]
     },
     "metadata": {},
     "output_type": "display_data"
    },
    {
     "name": "stdout",
     "output_type": "stream",
     "text": [
      "Generating prediction data...\n",
      "creating index...\n",
      "index created!\n",
      "creating index...\n",
      "index created!\n",
      "Running per image evaluation...\n",
      "Evaluate annotation type *bbox*\n",
      "DONE (t=1.67s).\n",
      "Accumulating evaluation results...\n",
      "DONE (t=0.33s).\n",
      " Average Precision  (AP) @[ IoU=0.40:0.40 | area=   all | maxDets=100 ] = 0.254\n",
      " Average Precision  (AP) @[ IoU=0.50      | area=   all | maxDets=100 ] = -1.000\n",
      " Average Precision  (AP) @[ IoU=0.75      | area=   all | maxDets=100 ] = -1.000\n",
      " Average Precision  (AP) @[ IoU=0.40:0.40 | area= small | maxDets=100 ] = 0.242\n",
      " Average Precision  (AP) @[ IoU=0.40:0.40 | area=medium | maxDets=100 ] = 0.331\n",
      " Average Precision  (AP) @[ IoU=0.40:0.40 | area= large | maxDets=100 ] = 0.529\n",
      " Average Recall     (AR) @[ IoU=0.40:0.40 | area=   all | maxDets=  1 ] = 0.263\n",
      " Average Recall     (AR) @[ IoU=0.40:0.40 | area=   all | maxDets= 10 ] = 0.590\n",
      " Average Recall     (AR) @[ IoU=0.40:0.40 | area=   all | maxDets=100 ] = 0.607\n",
      " Average Recall     (AR) @[ IoU=0.40:0.40 | area= small | maxDets=100 ] = 0.556\n",
      " Average Recall     (AR) @[ IoU=0.40:0.40 | area=medium | maxDets=100 ] = 0.628\n",
      " Average Recall     (AR) @[ IoU=0.40:0.40 | area= large | maxDets=100 ] = 0.644\n"
     ]
    },
    {
     "data": {
      "application/vnd.jupyter.widget-view+json": {
       "model_id": "",
       "version_major": 2,
       "version_minor": 0
      },
      "text/plain": [
       "Validating: 0it [00:00, ?it/s]"
      ]
     },
     "metadata": {},
     "output_type": "display_data"
    },
    {
     "name": "stdout",
     "output_type": "stream",
     "text": [
      "Generating prediction data...\n",
      "creating index...\n",
      "index created!\n",
      "creating index...\n",
      "index created!\n",
      "Running per image evaluation...\n",
      "Evaluate annotation type *bbox*\n",
      "DONE (t=1.74s).\n",
      "Accumulating evaluation results...\n",
      "DONE (t=0.32s).\n",
      " Average Precision  (AP) @[ IoU=0.40:0.40 | area=   all | maxDets=100 ] = 0.274\n",
      " Average Precision  (AP) @[ IoU=0.50      | area=   all | maxDets=100 ] = -1.000\n",
      " Average Precision  (AP) @[ IoU=0.75      | area=   all | maxDets=100 ] = -1.000\n",
      " Average Precision  (AP) @[ IoU=0.40:0.40 | area= small | maxDets=100 ] = 0.239\n",
      " Average Precision  (AP) @[ IoU=0.40:0.40 | area=medium | maxDets=100 ] = 0.356\n",
      " Average Precision  (AP) @[ IoU=0.40:0.40 | area= large | maxDets=100 ] = 0.537\n",
      " Average Recall     (AR) @[ IoU=0.40:0.40 | area=   all | maxDets=  1 ] = 0.266\n",
      " Average Recall     (AR) @[ IoU=0.40:0.40 | area=   all | maxDets= 10 ] = 0.602\n",
      " Average Recall     (AR) @[ IoU=0.40:0.40 | area=   all | maxDets=100 ] = 0.621\n",
      " Average Recall     (AR) @[ IoU=0.40:0.40 | area= small | maxDets=100 ] = 0.555\n",
      " Average Recall     (AR) @[ IoU=0.40:0.40 | area=medium | maxDets=100 ] = 0.634\n",
      " Average Recall     (AR) @[ IoU=0.40:0.40 | area= large | maxDets=100 ] = 0.629\n"
     ]
    },
    {
     "data": {
      "text/plain": [
       "1"
      ]
     },
     "execution_count": 17,
     "metadata": {},
     "output_type": "execute_result"
    }
   ],
   "source": [
    "early_stop_callback = EarlyStopping(monitor='valid_mAP@.4', min_delta=0.00, patience=config.patience, verbose=True, mode='max')\n",
    "trainer = pl.Trainer(gpus=1, max_epochs=config.epochs, weights_summary='full', callbacks=[early_stop_callback])\n",
    "\n",
    "detector = ObjectDetector(model=load_faster_rcnn(), train_evaluator=train_evaluator, valid_evaluator=valid_evaluator)\n",
    "trainer.fit(detector, train_loader, valid_loader)"
   ]
  },
  {
   "cell_type": "code",
   "execution_count": 18,
   "id": "polish-covering",
   "metadata": {},
   "outputs": [],
   "source": [
    "detector.to_dataframe().to_csv(str(base_dir / config.outdir / 'history.csv'))\n",
    "torch.save(detector.state_dict(), str(base_dir / config.outdir / 'model_last.pt'))"
   ]
  },
  {
   "cell_type": "code",
   "execution_count": 26,
   "id": "resident-capability",
   "metadata": {},
   "outputs": [
    {
     "data": {
      "image/png": "[encoded data removed]",
      "text/plain": [
       "<Figure size 720x576 with 2 Axes>"
      ]
     },
     "metadata": {},
     "output_type": "display_data"
    }
   ],
   "source": [
    "history = pd.read_csv(base_dir / config.outdir / 'history.csv', index_col=0)\n",
    "\n",
    "fig, axes = plt.subplots(1, 2, figsize=(10, 8))\n",
    "axes[0].plot(history['train_loss'], label='train')\n",
    "axes[0].plot(history['valid_loss'], label='valid')\n",
    "axes[0].set_title('Loss')\n",
    "axes[0].set_xlabel('epochs')\n",
    "axes[0].set_ylabel('loss')\n",
    "axes[0].legend()\n",
    "\n",
    "axes[1].plot(history['valid_mAP@.4'], label='normal')\n",
    "axes[1].plot(history['valid_mAP@.4_s'], label='small')\n",
    "axes[1].plot(history['valid_mAP@.4_m'], label='middle')\n",
    "axes[1].plot(history['valid_mAP@.4_l'], label='large')\n",
    "axes[1].set_title('mAP@.4')\n",
    "axes[1].set_xlabel('epochs')\n",
    "axes[1].set_ylabel('mAP@.4')\n",
    "axes[1].legend()\n",
    "plt.show()"
   ]
  },
  {
   "cell_type": "code",
   "execution_count": 18,
   "id": "relevant-boring",
   "metadata": {},
   "outputs": [],
   "source": [
    "# device = torch.device(config.device)\n",
    "# detector.to(device)\n",
    "\n",
    "# for batch in valid_loader:\n",
    "#     images, targets, _ = batch\n",
    "#     images = list(image.to(device) for image in images)\n",
    "#     targets = [{k: v.to(device) for k, v in t.items()} for t in targets]\n",
    "#     detector.eval()\n",
    "#     preds = detector.model(images)\n",
    "#     break"
   ]
  },
  {
   "cell_type": "markdown",
   "id": "split-occupation",
   "metadata": {},
   "source": [
    "### Prediction"
   ]
  },
  {
   "cell_type": "code",
   "execution_count": 36,
   "id": "polish-yellow",
   "metadata": {},
   "outputs": [
    {
     "name": "stdout",
     "output_type": "stream",
     "text": [
      "Load from cache dataset_dicts_cache_test_debug0.pkl\n"
     ]
    }
   ],
   "source": [
    "test_meta = pd.read_csv(str(base_dir / config.imgdir_name / 'test_meta.csv'))\n",
    "dataset_dicts_test = get_vinbigdata_dicts_test(base_dir / config.imgdir_name, test_meta, debug=config.debug)"
   ]
  },
  {
   "cell_type": "code",
   "execution_count": 40,
   "id": "effective-lesbian",
   "metadata": {},
   "outputs": [],
   "source": [
    "test_dataset = VinBigDataset(dataset_dicts=dataset_dicts_test, transform=Transform(config.test_aug_kwargs), train=False)\n",
    "test_loader = DataLoader(\n",
    "    test_dataset,\n",
    "    batch_size=config.batch_size,\n",
    "    shuffle=False,\n",
    "    num_workers=4,\n",
    "    collate_fn=collate_fn\n",
    ")"
   ]
  },
  {
   "cell_type": "code",
   "execution_count": 110,
   "id": "qualified-request",
   "metadata": {},
   "outputs": [
    {
     "data": {
      "application/vnd.jupyter.widget-view+json": {
       "model_id": "362e381638ed4cbc8055a06bb09897b0",
       "version_major": 2,
       "version_minor": 0
      },
      "text/plain": [
       "  0%|          | 0/120 [00:00<?, ?it/s]"
      ]
     },
     "metadata": {},
     "output_type": "display_data"
    }
   ],
   "source": [
    "device = torch.device(config.device)\n",
    "\n",
    "detector = ObjectDetector(model=load_faster_rcnn(), train_evaluator=None, valid_evaluator=None)\n",
    "detector.load_state_dict(torch.load(str(base_dir / config.outdir / 'model_last.pt')))\n",
    "detector.to(device)\n",
    "detector.eval()\n",
    "\n",
    "preds_list = list()\n",
    "for batch in tqdm(test_loader):\n",
    "    images, image_ids = batch\n",
    "    images = list(image.to(device) for image in images)\n",
    "    preds = detector(images)\n",
    "    \n",
    "    del images\n",
    "    gc.collect()\n",
    "    \n",
    "    for i in range(len(preds)):\n",
    "        preds[i] = {k: preds[i][k].detach().cpu().numpy() for k in preds[i].keys()}\n",
    "        preds[i]['image_id'] = image_ids[i]\n",
    "    preds_list += preds"
   ]
  },
  {
   "cell_type": "code",
   "execution_count": 112,
   "id": "pediatric-production",
   "metadata": {},
   "outputs": [
    {
     "data": {
      "application/vnd.jupyter.widget-view+json": {
       "model_id": "a02ed157c93048c4ad3fe6a1335ffee0",
       "version_major": 2,
       "version_minor": 0
      },
      "text/plain": [
       "  0%|          | 0/3000 [00:00<?, ?it/s]"
      ]
     },
     "metadata": {},
     "output_type": "display_data"
    }
   ],
   "source": [
    "records = {'image_id': list(), 'PredictionString': list()}\n",
    "\n",
    "for preds in tqdm(preds_list):\n",
    "    image_id = preds['image_id']\n",
    "    x_dicom = int(test_meta.loc[test_meta['image_id'] == image_id, 'dim1'])\n",
    "    y_dicom = int(test_meta.loc[test_meta['image_id'] == image_id, 'dim0'])\n",
    "    \n",
    "    pred_str = list()\n",
    "    for box, label, score in zip(preds['boxes'], preds['labels'], preds['scores']):\n",
    "        box_ = [\n",
    "            str(int(box[0] * (x_dicom / config.img_size))), # x_min\n",
    "            str(int(box[1] * (y_dicom / config.img_size))), # y_min\n",
    "            str(int(box[2] * (x_dicom / config.img_size))), # x_max\n",
    "            str(int(box[3] * (y_dicom / config.img_size))), # y_max\n",
    "        ]\n",
    "        pred_str += [str(label)] + [str(score)] + box_\n",
    "    \n",
    "    records['image_id'] += [image_id]\n",
    "    records['PredictionString'] += [' '.join(pred_str)]\n",
    "    \n",
    "preds_df = pd.DataFrame(records)"
   ]
  },
  {
   "cell_type": "code",
   "execution_count": 117,
   "id": "sunset-ivory",
   "metadata": {},
   "outputs": [
    {
     "data": {
      "text/html": [
       "<div>\n",
       "<style scoped>\n",
       "    .dataframe tbody tr th:only-of-type {\n",
       "        vertical-align: middle;\n",
       "    }\n",
       "\n",
       "    .dataframe tbody tr th {\n",
       "        vertical-align: top;\n",
       "    }\n",
       "\n",
       "    .dataframe thead th {\n",
       "        text-align: right;\n",
       "    }\n",
       "</style>\n",
       "<table border=\"1\" class=\"dataframe\">\n",
       "  <thead>\n",
       "    <tr style=\"text-align: right;\">\n",
       "      <th></th>\n",
       "      <th>image_id</th>\n",
       "      <th>class0</th>\n",
       "      <th>class1</th>\n",
       "    </tr>\n",
       "  </thead>\n",
       "  <tbody>\n",
       "    <tr>\n",
       "      <th>0</th>\n",
       "      <td>8dec5497ecc246766acfba5a4be4e619</td>\n",
       "      <td>0.999985</td>\n",
       "      <td>0.000015</td>\n",
       "    </tr>\n",
       "    <tr>\n",
       "      <th>1</th>\n",
       "      <td>287422bed1d9d153387361889619abed</td>\n",
       "      <td>0.049089</td>\n",
       "      <td>0.950911</td>\n",
       "    </tr>\n",
       "    <tr>\n",
       "      <th>2</th>\n",
       "      <td>1d12b94b7acbeadef7d7700b50aa90d4</td>\n",
       "      <td>0.991706</td>\n",
       "      <td>0.008294</td>\n",
       "    </tr>\n",
       "    <tr>\n",
       "      <th>3</th>\n",
       "      <td>6b872791e23742f6c33a08fc24f77365</td>\n",
       "      <td>0.788935</td>\n",
       "      <td>0.211065</td>\n",
       "    </tr>\n",
       "    <tr>\n",
       "      <th>4</th>\n",
       "      <td>d0d2addff91ad7beb1d92126ff74d621</td>\n",
       "      <td>0.995391</td>\n",
       "      <td>0.004608</td>\n",
       "    </tr>\n",
       "    <tr>\n",
       "      <th>...</th>\n",
       "      <td>...</td>\n",
       "      <td>...</td>\n",
       "      <td>...</td>\n",
       "    </tr>\n",
       "    <tr>\n",
       "      <th>2995</th>\n",
       "      <td>78b44b96b121d6075d7ae27135278e03</td>\n",
       "      <td>0.999924</td>\n",
       "      <td>0.000076</td>\n",
       "    </tr>\n",
       "    <tr>\n",
       "      <th>2996</th>\n",
       "      <td>afee8ff90f29b8827d0eb78774d25324</td>\n",
       "      <td>0.999992</td>\n",
       "      <td>0.000008</td>\n",
       "    </tr>\n",
       "    <tr>\n",
       "      <th>2997</th>\n",
       "      <td>6e07fab2014be723250f7897ab6e3df2</td>\n",
       "      <td>0.996261</td>\n",
       "      <td>0.003739</td>\n",
       "    </tr>\n",
       "    <tr>\n",
       "      <th>2998</th>\n",
       "      <td>690bb572300ef08bbbb7ebf4196099cf</td>\n",
       "      <td>0.939969</td>\n",
       "      <td>0.060031</td>\n",
       "    </tr>\n",
       "    <tr>\n",
       "      <th>2999</th>\n",
       "      <td>0a08191a658edb1327e7282045ec71cf</td>\n",
       "      <td>0.990715</td>\n",
       "      <td>0.009285</td>\n",
       "    </tr>\n",
       "  </tbody>\n",
       "</table>\n",
       "<p>3000 rows × 3 columns</p>\n",
       "</div>"
      ],
      "text/plain": [
       "                              image_id    class0    class1\n",
       "0     8dec5497ecc246766acfba5a4be4e619  0.999985  0.000015\n",
       "1     287422bed1d9d153387361889619abed  0.049089  0.950911\n",
       "2     1d12b94b7acbeadef7d7700b50aa90d4  0.991706  0.008294\n",
       "3     6b872791e23742f6c33a08fc24f77365  0.788935  0.211065\n",
       "4     d0d2addff91ad7beb1d92126ff74d621  0.995391  0.004608\n",
       "...                                ...       ...       ...\n",
       "2995  78b44b96b121d6075d7ae27135278e03  0.999924  0.000076\n",
       "2996  afee8ff90f29b8827d0eb78774d25324  0.999992  0.000008\n",
       "2997  6e07fab2014be723250f7897ab6e3df2  0.996261  0.003739\n",
       "2998  690bb572300ef08bbbb7ebf4196099cf  0.939969  0.060031\n",
       "2999  0a08191a658edb1327e7282045ec71cf  0.990715  0.009285\n",
       "\n",
       "[3000 rows x 3 columns]"
      ]
     },
     "execution_count": 117,
     "metadata": {},
     "output_type": "execute_result"
    }
   ],
   "source": [
    "pred_test_2class = pd.read_csv(str(base_dir / 'pfn_copy_test_pred.csv'))\n",
    "pred_test_2class"
   ]
  },
  {
   "cell_type": "code",
   "execution_count": 118,
   "id": "joint-rescue",
   "metadata": {},
   "outputs": [
    {
     "data": {
      "text/html": [
       "<div>\n",
       "<style scoped>\n",
       "    .dataframe tbody tr th:only-of-type {\n",
       "        vertical-align: middle;\n",
       "    }\n",
       "\n",
       "    .dataframe tbody tr th {\n",
       "        vertical-align: top;\n",
       "    }\n",
       "\n",
       "    .dataframe thead th {\n",
       "        text-align: right;\n",
       "    }\n",
       "</style>\n",
       "<table border=\"1\" class=\"dataframe\">\n",
       "  <thead>\n",
       "    <tr style=\"text-align: right;\">\n",
       "      <th></th>\n",
       "      <th>image_id</th>\n",
       "      <th>class0</th>\n",
       "      <th>class1</th>\n",
       "      <th>PredictionString</th>\n",
       "    </tr>\n",
       "  </thead>\n",
       "  <tbody>\n",
       "    <tr>\n",
       "      <th>0</th>\n",
       "      <td>8dec5497ecc246766acfba5a4be4e619</td>\n",
       "      <td>0.999985</td>\n",
       "      <td>0.000015</td>\n",
       "      <td>11 0.3702839 1168 250 1425 337 13 0.2567468 64...</td>\n",
       "    </tr>\n",
       "    <tr>\n",
       "      <th>1</th>\n",
       "      <td>287422bed1d9d153387361889619abed</td>\n",
       "      <td>0.049089</td>\n",
       "      <td>0.950911</td>\n",
       "      <td>3 0.9710684 721 1219 1849 1747 8 0.41055265 12...</td>\n",
       "    </tr>\n",
       "    <tr>\n",
       "      <th>2</th>\n",
       "      <td>1d12b94b7acbeadef7d7700b50aa90d4</td>\n",
       "      <td>0.991706</td>\n",
       "      <td>0.008294</td>\n",
       "      <td>3 0.89736754 892 1561 1888 2002 8 0.19867702 1...</td>\n",
       "    </tr>\n",
       "    <tr>\n",
       "      <th>3</th>\n",
       "      <td>6b872791e23742f6c33a08fc24f77365</td>\n",
       "      <td>0.788935</td>\n",
       "      <td>0.211065</td>\n",
       "      <td>3 0.42776328 731 1511 1597 1958 13 0.3586427 1...</td>\n",
       "    </tr>\n",
       "    <tr>\n",
       "      <th>4</th>\n",
       "      <td>d0d2addff91ad7beb1d92126ff74d621</td>\n",
       "      <td>0.995391</td>\n",
       "      <td>0.004608</td>\n",
       "      <td>3 0.921645 1183 1482 2131 1825 11 0.4532307 17...</td>\n",
       "    </tr>\n",
       "    <tr>\n",
       "      <th>...</th>\n",
       "      <td>...</td>\n",
       "      <td>...</td>\n",
       "      <td>...</td>\n",
       "      <td>...</td>\n",
       "    </tr>\n",
       "    <tr>\n",
       "      <th>2995</th>\n",
       "      <td>78b44b96b121d6075d7ae27135278e03</td>\n",
       "      <td>0.999924</td>\n",
       "      <td>0.000076</td>\n",
       "      <td>3 0.37810236 784 1384 1451 1675 11 0.13506201 ...</td>\n",
       "    </tr>\n",
       "    <tr>\n",
       "      <th>2996</th>\n",
       "      <td>afee8ff90f29b8827d0eb78774d25324</td>\n",
       "      <td>0.999992</td>\n",
       "      <td>0.000008</td>\n",
       "      <td>3 0.29446602 766 1440 1475 1786 11 0.2503568 1...</td>\n",
       "    </tr>\n",
       "    <tr>\n",
       "      <th>2997</th>\n",
       "      <td>6e07fab2014be723250f7897ab6e3df2</td>\n",
       "      <td>0.996261</td>\n",
       "      <td>0.003739</td>\n",
       "      <td>3 0.9190446 1340 1414 2326 1826 11 0.29103407 ...</td>\n",
       "    </tr>\n",
       "    <tr>\n",
       "      <th>2998</th>\n",
       "      <td>690bb572300ef08bbbb7ebf4196099cf</td>\n",
       "      <td>0.939969</td>\n",
       "      <td>0.060031</td>\n",
       "      <td>2 0.35949397 1486 1533 1585 1639 11 0.27965432...</td>\n",
       "    </tr>\n",
       "    <tr>\n",
       "      <th>2999</th>\n",
       "      <td>0a08191a658edb1327e7282045ec71cf</td>\n",
       "      <td>0.990715</td>\n",
       "      <td>0.009285</td>\n",
       "      <td>11 0.40207648 591 381 875 474 11 0.34150255 63...</td>\n",
       "    </tr>\n",
       "  </tbody>\n",
       "</table>\n",
       "<p>3000 rows × 4 columns</p>\n",
       "</div>"
      ],
      "text/plain": [
       "                              image_id    class0    class1  \\\n",
       "0     8dec5497ecc246766acfba5a4be4e619  0.999985  0.000015   \n",
       "1     287422bed1d9d153387361889619abed  0.049089  0.950911   \n",
       "2     1d12b94b7acbeadef7d7700b50aa90d4  0.991706  0.008294   \n",
       "3     6b872791e23742f6c33a08fc24f77365  0.788935  0.211065   \n",
       "4     d0d2addff91ad7beb1d92126ff74d621  0.995391  0.004608   \n",
       "...                                ...       ...       ...   \n",
       "2995  78b44b96b121d6075d7ae27135278e03  0.999924  0.000076   \n",
       "2996  afee8ff90f29b8827d0eb78774d25324  0.999992  0.000008   \n",
       "2997  6e07fab2014be723250f7897ab6e3df2  0.996261  0.003739   \n",
       "2998  690bb572300ef08bbbb7ebf4196099cf  0.939969  0.060031   \n",
       "2999  0a08191a658edb1327e7282045ec71cf  0.990715  0.009285   \n",
       "\n",
       "                                       PredictionString  \n",
       "0     11 0.3702839 1168 250 1425 337 13 0.2567468 64...  \n",
       "1     3 0.9710684 721 1219 1849 1747 8 0.41055265 12...  \n",
       "2     3 0.89736754 892 1561 1888 2002 8 0.19867702 1...  \n",
       "3     3 0.42776328 731 1511 1597 1958 13 0.3586427 1...  \n",
       "4     3 0.921645 1183 1482 2131 1825 11 0.4532307 17...  \n",
       "...                                                 ...  \n",
       "2995  3 0.37810236 784 1384 1451 1675 11 0.13506201 ...  \n",
       "2996  3 0.29446602 766 1440 1475 1786 11 0.2503568 1...  \n",
       "2997  3 0.9190446 1340 1414 2326 1826 11 0.29103407 ...  \n",
       "2998  2 0.35949397 1486 1533 1585 1639 11 0.27965432...  \n",
       "2999  11 0.40207648 591 381 875 474 11 0.34150255 63...  \n",
       "\n",
       "[3000 rows x 4 columns]"
      ]
     },
     "execution_count": 118,
     "metadata": {},
     "output_type": "execute_result"
    }
   ],
   "source": [
    "submission = pd.merge(pred_test_2class, preds_df, how='left', on='image_id')\n",
    "submission"
   ]
  },
  {
   "cell_type": "code",
   "execution_count": 119,
   "id": "numerical-statistics",
   "metadata": {},
   "outputs": [],
   "source": [
    "low_threshold = 0.0\n",
    "high_threshold = 0.976\n",
    "\n",
    "for i in submission.index:\n",
    "    p0 = submission.loc[i, 'class0']\n",
    "    \n",
    "    if p0 < low_threshold:\n",
    "        pass\n",
    "    elif low_threshold <= p0 and p0 < high_threshold:\n",
    "        submission.loc[i, 'PredictionString'] += f\" 14 {p0} 0 0 1 1\"\n",
    "    else:\n",
    "        submission.loc[i, 'PredictionString'] = '14 1 0 0 1 1'\n",
    "\n",
    "submission = submission.drop(columns=['class0', 'class1'])"
   ]
  },
  {
   "cell_type": "code",
   "execution_count": 120,
   "id": "robust-mercury",
   "metadata": {},
   "outputs": [
    {
     "data": {
      "text/html": [
       "<div>\n",
       "<style scoped>\n",
       "    .dataframe tbody tr th:only-of-type {\n",
       "        vertical-align: middle;\n",
       "    }\n",
       "\n",
       "    .dataframe tbody tr th {\n",
       "        vertical-align: top;\n",
       "    }\n",
       "\n",
       "    .dataframe thead th {\n",
       "        text-align: right;\n",
       "    }\n",
       "</style>\n",
       "<table border=\"1\" class=\"dataframe\">\n",
       "  <thead>\n",
       "    <tr style=\"text-align: right;\">\n",
       "      <th></th>\n",
       "      <th>image_id</th>\n",
       "      <th>PredictionString</th>\n",
       "    </tr>\n",
       "  </thead>\n",
       "  <tbody>\n",
       "    <tr>\n",
       "      <th>0</th>\n",
       "      <td>8dec5497ecc246766acfba5a4be4e619</td>\n",
       "      <td>14 1 0 0 1 1</td>\n",
       "    </tr>\n",
       "    <tr>\n",
       "      <th>1</th>\n",
       "      <td>287422bed1d9d153387361889619abed</td>\n",
       "      <td>3 0.9710684 721 1219 1849 1747 8 0.41055265 12...</td>\n",
       "    </tr>\n",
       "    <tr>\n",
       "      <th>2</th>\n",
       "      <td>1d12b94b7acbeadef7d7700b50aa90d4</td>\n",
       "      <td>14 1 0 0 1 1</td>\n",
       "    </tr>\n",
       "    <tr>\n",
       "      <th>3</th>\n",
       "      <td>6b872791e23742f6c33a08fc24f77365</td>\n",
       "      <td>3 0.42776328 731 1511 1597 1958 13 0.3586427 1...</td>\n",
       "    </tr>\n",
       "    <tr>\n",
       "      <th>4</th>\n",
       "      <td>d0d2addff91ad7beb1d92126ff74d621</td>\n",
       "      <td>14 1 0 0 1 1</td>\n",
       "    </tr>\n",
       "  </tbody>\n",
       "</table>\n",
       "</div>"
      ],
      "text/plain": [
       "                           image_id  \\\n",
       "0  8dec5497ecc246766acfba5a4be4e619   \n",
       "1  287422bed1d9d153387361889619abed   \n",
       "2  1d12b94b7acbeadef7d7700b50aa90d4   \n",
       "3  6b872791e23742f6c33a08fc24f77365   \n",
       "4  d0d2addff91ad7beb1d92126ff74d621   \n",
       "\n",
       "                                    PredictionString  \n",
       "0                                       14 1 0 0 1 1  \n",
       "1  3 0.9710684 721 1219 1849 1747 8 0.41055265 12...  \n",
       "2                                       14 1 0 0 1 1  \n",
       "3  3 0.42776328 731 1511 1597 1958 13 0.3586427 1...  \n",
       "4                                       14 1 0 0 1 1  "
      ]
     },
     "execution_count": 120,
     "metadata": {},
     "output_type": "execute_result"
    }
   ],
   "source": [
    "submission.head()"
   ]
  },
  {
   "cell_type": "code",
   "execution_count": 121,
   "id": "cardiac-craps",
   "metadata": {},
   "outputs": [],
   "source": [
    "submission.to_csv(str(base_dir / config.outdir / 'submission.csv'), index=False)"
   ]
  },
  {
   "cell_type": "code",
   "execution_count": null,
   "id": "premium-voltage",
   "metadata": {},
   "outputs": [],
   "source": []
  }
 ],
 "metadata": {
  "kernelspec": {
   "display_name": "Python 3",
   "language": "python",
   "name": "python3"
  },
  "language_info": {
   "codemirror_mode": {
    "name": "ipython",
    "version": 3
   },
   "file_extension": ".py",
   "mimetype": "text/x-python",
   "name": "python",
   "nbconvert_exporter": "python",
   "pygments_lexer": "ipython3",
   "version": "3.7.6"
  }
 },
 "nbformat": 4,
 "nbformat_minor": 5
}
