{
 "cells": [
  {
   "cell_type": "code",
   "execution_count": 1,
   "id": "surrounded-comparison",
   "metadata": {},
   "outputs": [],
   "source": [
    "import os\n",
    "import sys\n",
    "import gc\n",
    "import pickle\n",
    "import warnings\n",
    "import pandas as pd\n",
    "import numpy as np\n",
    "import seaborn as sns\n",
    "from typing import *\n",
    "from tqdm.notebook import tqdm\n",
    "from pathlib import Path\n",
    "from matplotlib import pyplot as plt\n",
    "\n",
    "pd.set_option('max_columns', 50)\n",
    "pd.set_option('max_rows', 200)\n",
    "warnings.simplefilter('ignore')\n",
    "sns.set()"
   ]
  },
  {
   "cell_type": "code",
   "execution_count": 2,
   "id": "significant-opinion",
   "metadata": {},
   "outputs": [
    {
     "name": "stderr",
     "output_type": "stream",
     "text": [
      "fail to import apex_C: apex was not installed or installed without --cpp_ext.\n",
      "fail to import amp_C: apex was not installed or installed without --cpp_ext.\n",
      "** fvcore version of PathManager will be deprecated soon. **\n",
      "** Please migrate to the version in iopath repo. **\n",
      "https://github.com/facebookresearch/iopath \n",
      "\n",
      "** fvcore version of PathManager will be deprecated soon. **\n",
      "** Please migrate to the version in iopath repo. **\n",
      "https://github.com/facebookresearch/iopath \n",
      "\n"
     ]
    },
    {
     "name": "stdout",
     "output_type": "stream",
     "text": [
      "HACKING: overriding COCOeval.summarize = vin_summarize...\n"
     ]
    }
   ],
   "source": [
    "base_dir = Path().resolve()\n",
    "sys.path.append(str(base_dir / '../'))\n",
    "\n",
    "from utils.preprocess import *\n",
    "from utils.model import *\n",
    "from utils.train import *\n",
    "from utils.eval import *\n",
    "from utils.detectron2helper import *"
   ]
  },
  {
   "cell_type": "code",
   "execution_count": 3,
   "id": "another-syndrome",
   "metadata": {},
   "outputs": [],
   "source": [
    "def seed_everything(seed: int, device: str):\n",
    "    random.seed(seed)\n",
    "    np.random.seed(seed)\n",
    "    torch.manual_seed(seed)\n",
    "    torch.cuda.manual_seed(seed)\n",
    "    torch.backends.cudnn.deterministic = True\n",
    "    with torch.cuda.device(device):\n",
    "        torch.cuda.empty_cache()"
   ]
  },
  {
   "cell_type": "code",
   "execution_count": 4,
   "id": "measured-triumph",
   "metadata": {},
   "outputs": [],
   "source": [
    "from dataclasses import dataclass, field, asdict\n",
    "import yaml\n",
    "\n",
    "\n",
    "@dataclass\n",
    "class Config:\n",
    "    # General\n",
    "    debug: bool = False\n",
    "    outdir: str = \"detectron2_results/retinanet_R_50_FPN_3x_mkf_5_256_rm_b30\"\n",
    "    device: str = \"cuda:0\"\n",
    "    device_id: int = 0\n",
    "    num_workers: int = 8\n",
    "\n",
    "    # Data config\n",
    "    imgconf_file: str = '../../data/VinBigData/train.csv'\n",
    "    meta_file: str = '../../data/VinBigData/train_meta.csv'\n",
    "    test_meta_file: str = '../../data/VinBigData/test_meta.csv'\n",
    "    imgdir_name: str = \"../../data/VinBigData/png256\"\n",
    "    img_size: int = 256\n",
    "    seed: int = 111\n",
    "    n_splits: int = 5\n",
    "    iou_thr: float = 0.4\n",
    "    skip_box_thr: float = 0.1\n",
    "    sigma: float = 0.1\n",
    "    \n",
    "#     model_config: str = 'COCO-Detection/faster_rcnn_X_101_32x8d_FPN_3x.yaml'\n",
    "#     model_config: str = 'COCO-Detection/faster_rcnn_R_50_FPN_3x.yaml'\n",
    "#     model_config: str = 'Misc/cascade_mask_rcnn_R_50_FPN_3x.yaml'\n",
    "#     model_config: str = 'COCO-Detection/retinanet_R_101_FPN_3x.yaml'\n",
    "    model_config: str = 'COCO-Detection/retinanet_R_50_FPN_3x.yaml'\n",
    "    \n",
    "    # Training config\n",
    "    batch_size: int = 8\n",
    "    iter: int = 10000\n",
    "    lr_scheduler_name: str = \"WarmupCosineLR\"  # WarmupMultiStepLR (default) or WarmupCosineLR\n",
    "    base_lr: float = 0.00025\n",
    "    roi_batch_size_per_image: int = 512\n",
    "    eval_period: int = 10000\n",
    "    checkpoint_period: int = 10000\n",
    "        \n",
    "    aug_kwargs: Dict = field(default_factory=lambda: {})\n",
    "        \n",
    "\n",
    "    def update(self, param_dict: Dict) -> \"Config\":\n",
    "        # Overwrite by `param_dict`\n",
    "        for key, value in param_dict.items():\n",
    "            if not hasattr(self, key):\n",
    "                raise ValueError(f\"[ERROR] Unexpected key for flag = {key}\")\n",
    "            setattr(self, key, value)\n",
    "        return self\n",
    "    \n",
    "    def to_yaml(self, filepath: str, width: int = 120):\n",
    "        with open(filepath, 'w') as f:\n",
    "            yaml.dump(asdict(self), f, width=width)"
   ]
  },
  {
   "cell_type": "code",
   "execution_count": 5,
   "id": "attractive-pickup",
   "metadata": {},
   "outputs": [],
   "source": [
    "config_dict = {\n",
    "    'debug': False,\n",
    "    'batch_size': 25,\n",
    "    'base_lr': 1e-3,\n",
    "    'iter': 10000,\n",
    "    'eval_period': 1000,\n",
    "    'checkpoint_period': 1000,\n",
    "    \"aug_kwargs\": {\n",
    "        \"HorizontalFlip\": {\"p\": 0.5},\n",
    "        \"ShiftScaleRotate\": {\"scale_limit\": 0.15, \"rotate_limit\": 10, \"p\": 0.5},\n",
    "        \"RandomBrightnessContrast\": {\"p\": 0.5},\n",
    "    },\n",
    "    'iou_thr': 0.4,\n",
    "    'skip_box_thr': 0.05,\n",
    "}\n",
    "config = Config().update(config_dict)"
   ]
  },
  {
   "cell_type": "code",
   "execution_count": 6,
   "id": "dedicated-peoples",
   "metadata": {},
   "outputs": [],
   "source": [
    "classes_nms = [\n",
    "    \"Aortic enlargement\",\n",
    "    \"Atelectasis\",\n",
    "    \"Calcification\",\n",
    "    \"Cardiomegaly\",\n",
    "    \"Consolidation\",\n",
    "    \"ILD\",\n",
    "    \"Infiltration\",\n",
    "    \"Lung Opacity\",\n",
    "    \"Nodule/Mass\",\n",
    "    \"Other lesion\",\n",
    "    \"Pleural effusion\",\n",
    "    \"Pleural thickening\",\n",
    "    \"Pneumothorax\",\n",
    "    \"Pulmonary fibrosis\",\n",
    "#     \"No Finding\"\n",
    "]\n",
    "classes_dict = {index: class_name  for index, class_name in enumerate(classes_nms)}"
   ]
  },
  {
   "cell_type": "code",
   "execution_count": 7,
   "id": "hairy-folder",
   "metadata": {},
   "outputs": [],
   "source": [
    "test_meta = pd.read_csv(str(base_dir / config.test_meta_file))\n",
    "# dataset_dicts_test = get_vinbigdata_dicts_test(\n",
    "#     base_dir / config.imgdir_name, \n",
    "#     test_meta,\n",
    "#     test_data_type=f'png{config.img_size}',\n",
    "#     debug=config.debug\n",
    "# )"
   ]
  },
  {
   "cell_type": "code",
   "execution_count": 8,
   "id": "czech-institute",
   "metadata": {},
   "outputs": [
    {
     "name": "stdout",
     "output_type": "stream",
     "text": [
      "Load from cache dataset_dicts_cache_test_png256_debug0.pkl\n"
     ]
    }
   ],
   "source": [
    "DatasetCatalog.register(\n",
    "    \"vinbigdata_test\", lambda: get_vinbigdata_dicts_test(config.imgdir_name, test_meta, debug=config.debug)\n",
    ")\n",
    "MetadataCatalog.get(\"vinbigdata_test\").set(thing_classes=classes_nms)\n",
    "metadata = MetadataCatalog.get(\"vinbigdata_test\")\n",
    "dataset_dicts = get_vinbigdata_dicts_test(\n",
    "    base_dir / config.imgdir_name, \n",
    "    test_meta,\n",
    "    test_data_type=f'png{config.img_size}',\n",
    "    debug=config.debug\n",
    ")"
   ]
  },
  {
   "cell_type": "code",
   "execution_count": 10,
   "id": "worthy-passion",
   "metadata": {},
   "outputs": [
    {
     "name": "stderr",
     "output_type": "stream",
     "text": [
      "Loading config /home/yamaguchi-milkcocholate/.pyenv/versions/3.7.6/envs/VinBigData/lib/python3.7/site-packages/detectron2/model_zoo/configs/COCO-Detection/../Base-RetinaNet.yaml with yaml.unsafe_load. Your machine may be at risk if the file contains malicious content.\n"
     ]
    },
    {
     "name": "stdout",
     "output_type": "stream",
     "text": [
      "fold: 0\n",
      "cfg.OUTPUT_DIR ./output -> /home/yamaguchi-milkcocholate/VinBigData/src/VinBigData-ObjectDetection/detectron2_results/retinanet_R_50_FPN_3x_mkf_5_256_rm_b30/fold-1\n",
      "Original thresh 0.05\n",
      "Changed  thresh 0.0\n"
     ]
    },
    {
     "data": {
      "application/vnd.jupyter.widget-view+json": {
       "model_id": "e0cd59f6196b45b9ab22d37904bc054a",
       "version_major": 2,
       "version_minor": 0
      },
      "text/plain": [
       "  0%|          | 0/120 [00:00<?, ?it/s]"
      ]
     },
     "metadata": {},
     "output_type": "display_data"
    },
    {
     "name": "stderr",
     "output_type": "stream",
     "text": [
      "Loading config /home/yamaguchi-milkcocholate/.pyenv/versions/3.7.6/envs/VinBigData/lib/python3.7/site-packages/detectron2/model_zoo/configs/COCO-Detection/../Base-RetinaNet.yaml with yaml.unsafe_load. Your machine may be at risk if the file contains malicious content.\n"
     ]
    },
    {
     "name": "stdout",
     "output_type": "stream",
     "text": [
      "fold: 1\n",
      "cfg.OUTPUT_DIR ./output -> /home/yamaguchi-milkcocholate/VinBigData/src/VinBigData-ObjectDetection/detectron2_results/retinanet_R_50_FPN_3x_mkf_5_256_rm_b30/fold-2\n",
      "Original thresh 0.05\n",
      "Changed  thresh 0.0\n"
     ]
    },
    {
     "data": {
      "application/vnd.jupyter.widget-view+json": {
       "model_id": "b646c41928d0441f87a18e4c8bf32b69",
       "version_major": 2,
       "version_minor": 0
      },
      "text/plain": [
       "  0%|          | 0/120 [00:00<?, ?it/s]"
      ]
     },
     "metadata": {},
     "output_type": "display_data"
    },
    {
     "name": "stderr",
     "output_type": "stream",
     "text": [
      "Loading config /home/yamaguchi-milkcocholate/.pyenv/versions/3.7.6/envs/VinBigData/lib/python3.7/site-packages/detectron2/model_zoo/configs/COCO-Detection/../Base-RetinaNet.yaml with yaml.unsafe_load. Your machine may be at risk if the file contains malicious content.\n"
     ]
    },
    {
     "name": "stdout",
     "output_type": "stream",
     "text": [
      "fold: 2\n",
      "cfg.OUTPUT_DIR ./output -> /home/yamaguchi-milkcocholate/VinBigData/src/VinBigData-ObjectDetection/detectron2_results/retinanet_R_50_FPN_3x_mkf_5_256_rm_b30/fold-3\n",
      "Original thresh 0.05\n",
      "Changed  thresh 0.0\n"
     ]
    },
    {
     "data": {
      "application/vnd.jupyter.widget-view+json": {
       "model_id": "6f85c807ea5e437ba1f71c70c5343023",
       "version_major": 2,
       "version_minor": 0
      },
      "text/plain": [
       "  0%|          | 0/120 [00:00<?, ?it/s]"
      ]
     },
     "metadata": {},
     "output_type": "display_data"
    },
    {
     "name": "stderr",
     "output_type": "stream",
     "text": [
      "Loading config /home/yamaguchi-milkcocholate/.pyenv/versions/3.7.6/envs/VinBigData/lib/python3.7/site-packages/detectron2/model_zoo/configs/COCO-Detection/../Base-RetinaNet.yaml with yaml.unsafe_load. Your machine may be at risk if the file contains malicious content.\n"
     ]
    },
    {
     "name": "stdout",
     "output_type": "stream",
     "text": [
      "fold: 3\n",
      "cfg.OUTPUT_DIR ./output -> /home/yamaguchi-milkcocholate/VinBigData/src/VinBigData-ObjectDetection/detectron2_results/retinanet_R_50_FPN_3x_mkf_5_256_rm_b30/fold-4\n",
      "Original thresh 0.05\n",
      "Changed  thresh 0.0\n"
     ]
    },
    {
     "data": {
      "application/vnd.jupyter.widget-view+json": {
       "model_id": "e2aa466495e04e6ba138d98d23c0fd4f",
       "version_major": 2,
       "version_minor": 0
      },
      "text/plain": [
       "  0%|          | 0/120 [00:00<?, ?it/s]"
      ]
     },
     "metadata": {},
     "output_type": "display_data"
    },
    {
     "name": "stderr",
     "output_type": "stream",
     "text": [
      "Loading config /home/yamaguchi-milkcocholate/.pyenv/versions/3.7.6/envs/VinBigData/lib/python3.7/site-packages/detectron2/model_zoo/configs/COCO-Detection/../Base-RetinaNet.yaml with yaml.unsafe_load. Your machine may be at risk if the file contains malicious content.\n"
     ]
    },
    {
     "name": "stdout",
     "output_type": "stream",
     "text": [
      "fold: 4\n",
      "cfg.OUTPUT_DIR ./output -> /home/yamaguchi-milkcocholate/VinBigData/src/VinBigData-ObjectDetection/detectron2_results/retinanet_R_50_FPN_3x_mkf_5_256_rm_b30/fold-5\n",
      "Original thresh 0.05\n",
      "Changed  thresh 0.0\n"
     ]
    },
    {
     "data": {
      "application/vnd.jupyter.widget-view+json": {
       "model_id": "33bb41ab270a405cba3deae0b3d1a0ab",
       "version_major": 2,
       "version_minor": 0
      },
      "text/plain": [
       "  0%|          | 0/120 [00:00<?, ?it/s]"
      ]
     },
     "metadata": {},
     "output_type": "display_data"
    }
   ],
   "source": [
    "torch.cuda.set_device(config.device_id)\n",
    "\n",
    "pred_df_list = list()\n",
    "\n",
    "for fold in range(config.n_splits):\n",
    "    print(f'fold: {fold}')\n",
    "    seed_everything(seed=config.seed, device=config.device)\n",
    "    \n",
    "    cfg = get_cfg()\n",
    "    original_output_dir = cfg.OUTPUT_DIR\n",
    "    cfg.OUTPUT_DIR = str(base_dir / config.outdir / f'fold-{fold + 1}')\n",
    "    print(f\"cfg.OUTPUT_DIR {original_output_dir} -> {cfg.OUTPUT_DIR}\")\n",
    "\n",
    "    cfg.merge_from_file(model_zoo.get_config_file(config.model_config))\n",
    "    cfg.DATASETS.TRAIN = (\"vinbigdata_train\",)\n",
    "    cfg.DATASETS.TEST = ()\n",
    "\n",
    "    cfg.DATALOADER.NUM_WORKERS = config.num_workers\n",
    "    # Let training initialize from model zoo\n",
    "    cfg.MODEL.WEIGHTS = model_zoo.get_checkpoint_url(config.model_config)\n",
    "    cfg.SOLVER.IMS_PER_BATCH = config.batch_size\n",
    "    cfg.SOLVER.BASE_LR = config.base_lr  # pick a good LR\n",
    "    cfg.SOLVER.MAX_ITER = config.iter\n",
    "    cfg.MODEL.ROI_HEADS.BATCH_SIZE_PER_IMAGE = config.roi_batch_size_per_image\n",
    "    cfg.MODEL.ROI_HEADS.NUM_CLASSES = len(classes_nms)\n",
    "#     cfg.MODEL.ANCHOR_GENERATOR.SIZES = [[16], [32], [64], [128], [256], [512], [1024]]\n",
    "#     cfg.MODEL.RPN.IN_FEATURES = ['p2', 'p2', 'p3', 'p4', 'p5', 'p6', 'p6']\n",
    "#     cfg.MODEL.ANCHOR_GENERATOR.ASPECT_RATIOS = [[0.33, 0.5, 1.0, 2.0, 3.0]]\n",
    "\n",
    "    # NOTE: this config means the number of classes, but a few popular unofficial tutorials incorrect uses num_classes+1 here.\n",
    "\n",
    "    ### --- Inference & Evaluation ---\n",
    "    # Inference should use the config with parameters that are used in training\n",
    "    # cfg now already contains everything we've set previously. We changed it a little bit for inference:\n",
    "    # path to the model we just trained\n",
    "    cfg.MODEL.WEIGHTS = str(base_dir / config.outdir / f'fold-{fold + 1}' / \"model_final.pth\")\n",
    "    print(\"Original thresh\", cfg.MODEL.ROI_HEADS.SCORE_THRESH_TEST)  # 0.05\n",
    "    cfg.MODEL.ROI_HEADS.SCORE_THRESH_TEST = 0.0  # set a custom testing threshold\n",
    "    print(\"Changed  thresh\", cfg.MODEL.ROI_HEADS.SCORE_THRESH_TEST)\n",
    "    predictor = DefaultPredictor(cfg)\n",
    "    \n",
    "    results_list = []\n",
    "    index = 0\n",
    "    batch_size = config.batch_size\n",
    "\n",
    "    for i in tqdm(range(ceil(len(dataset_dicts) / batch_size))):\n",
    "        inds = list(range(batch_size * i, min(batch_size * (i + 1), len(dataset_dicts))))\n",
    "        dataset_dicts_batch = [dataset_dicts[i] for i in inds]\n",
    "        im_list = [cv2.imread(d[\"file_name\"]) for d in dataset_dicts_batch]\n",
    "        outputs_list = predict_batch(predictor, im_list)\n",
    "\n",
    "        for im, outputs, d in zip(im_list, outputs_list, dataset_dicts_batch):\n",
    "            resized_height, resized_width, ch = im.shape\n",
    "            outputs = predictor(im)\n",
    "            pred_classes = outputs[\"instances\"].to(\"cpu\").get_fields()['pred_classes'].numpy()\n",
    "            can_visualize = np.all((0 <= pred_classes) & (pred_classes <= len(classes_nms)))\n",
    "            if index < 5 and can_visualize:\n",
    "                # format is documented at https://detectron2.readthedocs.io/tutorials/models.html#model-output-format\n",
    "                v = Visualizer(\n",
    "                    im[:, :, ::-1],\n",
    "                    metadata=metadata,\n",
    "                    scale=0.5,\n",
    "                    instance_mode=ColorMode.IMAGE_BW\n",
    "                    # remove the colors of unsegmented pixels. This option is only available for segmentation models\n",
    "                )\n",
    "                out = v.draw_instance_predictions(outputs[\"instances\"].to(\"cpu\"))\n",
    "                # cv2_imshow(out.get_image()[:, :, ::-1])\n",
    "                cv2.imwrite(str(base_dir / config.outdir / f'fold-{fold + 1}' / f\"pred_{index}.jpg\"), out.get_image()[:, :, ::-1])\n",
    "\n",
    "            image_id, dim0, dim1 = test_meta.iloc[index].values\n",
    "\n",
    "            instances = outputs[\"instances\"]\n",
    "            if len(instances) == 0:\n",
    "                # No finding, let's set 14 1 0 0 1 1x.\n",
    "                result = {\"image_id\": image_id, \"PredictionString\": \"14 1.0 0 0 1 1\"}\n",
    "            else:\n",
    "                # Find some bbox...\n",
    "                # print(f\"index={index}, find {len(instances)} bbox.\")\n",
    "                fields: Dict[str, Any] = instances.get_fields()\n",
    "                pred_classes = fields[\"pred_classes\"]  # (n_boxes,)\n",
    "                pred_scores = fields[\"scores\"]\n",
    "                # shape (n_boxes, 4). (xmin, ymin, xmax, ymax)\n",
    "                pred_boxes = fields[\"pred_boxes\"].tensor\n",
    "\n",
    "                h_ratio = dim0 / resized_height\n",
    "                w_ratio = dim1 / resized_width\n",
    "                pred_boxes[:, [0, 2]] *= w_ratio\n",
    "                pred_boxes[:, [1, 3]] *= h_ratio\n",
    "\n",
    "                pred_classes_array = pred_classes.cpu().numpy()\n",
    "                pred_boxes_array = pred_boxes.cpu().numpy()\n",
    "                pred_scores_array = pred_scores.cpu().numpy()\n",
    "\n",
    "                mask = (0 <= pred_classes_array) & (pred_classes_array < len(classes_nms))  # RetinaNet's outputs uncorrectly contain unknown class_id\n",
    "\n",
    "                result = {\n",
    "                    \"image_id\": image_id,\n",
    "                    \"PredictionString\": format_pred(\n",
    "                        pred_classes_array[mask], pred_boxes_array[mask], pred_scores_array[mask]\n",
    "                    ),\n",
    "                }\n",
    "            results_list.append(result)\n",
    "            index += 1\n",
    "    \n",
    "    pred_df_list += [pd.DataFrame(results_list, columns=['image_id', 'PredictionString'])]"
   ]
  },
  {
   "cell_type": "code",
   "execution_count": 11,
   "id": "frozen-tenant",
   "metadata": {},
   "outputs": [],
   "source": [
    "# save predictions, which isn't post processed\n",
    "for fold, pred_df in enumerate(pred_df_list):\n",
    "    pred_df.to_csv(str(base_dir / config.outdir / f'fold-{fold + 1}' / 'submission.csv'), index=False)"
   ]
  },
  {
   "cell_type": "code",
   "execution_count": 13,
   "id": "voluntary-military",
   "metadata": {
    "jupyter": {
     "source_hidden": true
    },
    "tags": []
   },
   "outputs": [],
   "source": [
    "from typing import List, Tuple\n",
    "\n",
    "import matplotlib.patches as patches\n",
    "import numpy as np\n",
    "from PIL import Image\n",
    "\n",
    "\n",
    "def add_bboxes_to_image(ax, image: np.ndarray,\n",
    "                        bboxes: List[Tuple[int, int, int, int]],\n",
    "                        labels: List[str] = None,\n",
    "                        label_size: int = 10,\n",
    "                        line_width: int = 2,\n",
    "                        border_color=(0, 1, 0, 1)) -> None:\n",
    "    \"\"\"\n",
    "    Add bbox to ax\n",
    "\n",
    "    :param image: dtype=np.uint8\n",
    "    :param bbox: [(left, top, right, bottom)]\n",
    "    :param label: List[str] or None\n",
    "    :return: ax\n",
    "    \"\"\"\n",
    "    # Display the image\n",
    "    ax.imshow(image)\n",
    "\n",
    "    if labels is None:\n",
    "        labels = [None] * len(bboxes)\n",
    "\n",
    "    for bbox, label in zip(bboxes, labels):\n",
    "        # Add bounding box\n",
    "        x_min, y_min, x_max, y_max = bbox\n",
    "        rect = patches.Rectangle((x_min, y_min), x_max - x_min, y_max - y_min,\n",
    "                                 linewidth=line_width,\n",
    "                                 edgecolor=border_color,\n",
    "                                 facecolor='none')\n",
    "        ax.add_patch(rect)\n",
    "\n",
    "        # label\n",
    "        if label:\n",
    "            bbox_props = dict(boxstyle=\"square,pad=0\",\n",
    "                              linewidth=line_width, facecolor=border_color,\n",
    "                              edgecolor=border_color)\n",
    "            ax.text(x_min, y_min, label,\n",
    "                    ha=\"left\", va=\"bottom\", rotation=0,\n",
    "                    size=label_size, bbox=bbox_props)\n",
    "    return ax\n",
    "\n",
    "\n",
    "def plot_samples(dataset_dicts):\n",
    "    train_dataset = VinBigDataset(dataset_dicts=dataset_dicts, transform=Transform({}, train=True))\n",
    "    fig, axes = plt.subplots(1, 4, figsize=(25, 6))\n",
    "    for i, ax in enumerate(axes):\n",
    "        img, target, _ = train_dataset[i]\n",
    "        img = img.numpy().transpose((1, 2, 0))\n",
    "        add_bboxes_to_image(ax, np.uint8(img), target['boxes'], target['labels'].numpy())\n",
    "        ax.axis(\"off\")\n",
    "    plt.show()"
   ]
  },
  {
   "cell_type": "code",
   "execution_count": 40,
   "id": "obvious-warrant",
   "metadata": {
    "jupyter": {
     "source_hidden": true
    },
    "tags": []
   },
   "outputs": [],
   "source": [
    "# i = 0\n",
    "# fig, ax = plt.subplots(1, 1, figsize=(6, 6))\n",
    "\n",
    "\n",
    "# img = cv2.imread(dataset_dicts[i]['file_name'])\n",
    "# image_id, width, height = test_meta.values[i]\n",
    "# assert image_id == dataset_dicts[i]['image_id']\n",
    "# img = cv2.resize(img, (width, height))\n",
    "# pred = np.array(pred_df.loc[i, 'PredictionString'].split(' ')).reshape(-1, 6)\n",
    "\n",
    "# boxes = pred[:, 2:].astype(float)\n",
    "# labels = pred[:, 0].astype(int)\n",
    "# scores = pred[:, 1].astype(float)\n",
    "\n",
    "# mask = (scores > 0.3)\n",
    "\n",
    "# add_bboxes_to_image(ax, np.uint8(img), boxes[mask, :], labels[mask])\n",
    "# ax.axis(\"off\")\n",
    "\n",
    "# plt.show()"
   ]
  },
  {
   "cell_type": "code",
   "execution_count": 11,
   "id": "naval-disabled",
   "metadata": {},
   "outputs": [],
   "source": [
    "pred_df_list = [pd.read_csv(base_dir / config.outdir / f'fold-{fold + 1}' / 'submission.csv') for fold in range(config.n_splits)]"
   ]
  },
  {
   "cell_type": "code",
   "execution_count": 12,
   "id": "soviet-amsterdam",
   "metadata": {},
   "outputs": [],
   "source": [
    "def nms_by_class(\n",
    "    boxes: np.ndarray, scores: np.ndarray, labels: np.ndarray, \n",
    "    cls_id: int, iou_thr: float, skip_box_thr: float, sigma: float\n",
    ") -> Tuple[List[List[float]], List[float], List[int]]:\n",
    "    mask = (labels == cls_id)\n",
    "    if mask.sum() == 1:\n",
    "        return boxes[mask, :], scores[mask], labels[mask]\n",
    "    else:\n",
    "        return nms(\n",
    "            [boxes[mask, :].tolist()],\n",
    "            [scores[mask].tolist()],\n",
    "            [labels[mask].tolist()],\n",
    "            weights=None, \n",
    "            iou_thr=iou_thr,\n",
    "        )"
   ]
  },
  {
   "cell_type": "code",
   "execution_count": 13,
   "id": "pressed-compensation",
   "metadata": {
    "tags": []
   },
   "outputs": [
    {
     "data": {
      "application/vnd.jupyter.widget-view+json": {
       "model_id": "7d253894584642848a615ea56a1eb4b4",
       "version_major": 2,
       "version_minor": 0
      },
      "text/plain": [
       "0it [00:00, ?it/s]"
      ]
     },
     "metadata": {},
     "output_type": "display_data"
    }
   ],
   "source": [
    "# post process using soft-NMS for each fold\n",
    "from ensemble_boxes import *\n",
    "\n",
    "iou_threshes = {\n",
    "    \"Aortic enlargement\": 0.4,\n",
    "    \"Atelectasis\": 0.4,\n",
    "    \"Calcification\": 0.1,\n",
    "    \"Cardiomegaly\": 0.4,\n",
    "    \"Consolidation\": 0.4,\n",
    "    \"ILD\": 0.4,\n",
    "    \"Infiltration\": 0.4,\n",
    "    \"Lung Opacity\": 0.4,\n",
    "    \"Nodule/Mass\": 0.4,\n",
    "    \"Other lesion\": 0.4,\n",
    "    \"Pleural effusion\": 0.4,\n",
    "    \"Pleural thickening\": 0.0001,\n",
    "    \"Pneumothorax\": 0.4,\n",
    "    \"Pulmonary fibrosis\": 0.4,\n",
    "}\n",
    "\n",
    "for pred_df in pred_df_list:\n",
    "    \n",
    "    for i, (image_id, height, width) in tqdm(enumerate(test_meta.values)):\n",
    "        f_image_id, f_pred_str = pred_df.values[i]\n",
    "        assert image_id == f_image_id\n",
    "        \n",
    "        boxes, scores, labels = list(), list(), list()\n",
    "        \n",
    "        objs = np.array(f_pred_str.split(' ')).reshape(-1, 6)\n",
    "        f_boxes = objs[:, 2:].astype(float)\n",
    "        f_boxes[:, [0, 2]] /= width\n",
    "        f_boxes[:, [1, 3]] /= height\n",
    "        f_labels = objs[:, 0].astype(int)\n",
    "        f_scores = objs[:, 1].astype(float)\n",
    "        \n",
    "        for class_id in range(len(classes_nms)):\n",
    "            if (f_labels == class_id).sum() == 0:\n",
    "                continue\n",
    "            c_boxes, c_scores, c_labels = nms_by_class(\n",
    "                boxes=f_boxes,\n",
    "                scores=f_scores,\n",
    "                labels=f_labels,\n",
    "                cls_id=class_id,\n",
    "                iou_thr=list(iou_threshes.values())[class_id],\n",
    "                skip_box_thr=config.skip_box_thr,\n",
    "                sigma=config.sigma,\n",
    "            )\n",
    "\n",
    "            c_boxes = np.array(c_boxes)\n",
    "            c_boxes[:, [0, 2]] *= width\n",
    "            c_boxes[:, [1, 3]] *= height\n",
    "\n",
    "            boxes += c_boxes.tolist()\n",
    "            scores += c_scores.tolist()\n",
    "            labels += c_labels.tolist()\n",
    "        \n",
    "        pred_str = list()\n",
    "        for label, score, box in zip(labels, scores, boxes):\n",
    "            pred_str += [str(int(label))] + [str(score)] + np.array(box).astype(str).tolist()\n",
    "    \n",
    "        pred_df.loc[i, 'PredictionString'] = ' '.join(pred_str)"
   ]
  },
  {
   "cell_type": "code",
   "execution_count": 14,
   "id": "still-hours",
   "metadata": {},
   "outputs": [],
   "source": [
    "# save predictions, which is post processed by NMS\n",
    "for fold, pred_df in enumerate(pred_df_list):\n",
    "    pred_df.to_csv(str(base_dir / config.outdir / f'fold-{fold + 1}' / 'submission_nms.csv'), index=False)"
   ]
  },
  {
   "cell_type": "code",
   "execution_count": 15,
   "id": "interstate-sector",
   "metadata": {},
   "outputs": [],
   "source": [
    "pred_df_list = [pd.read_csv(base_dir / config.outdir / f'fold-{fold + 1}' / 'submission_nms.csv') for fold in range(config.n_splits)]"
   ]
  },
  {
   "cell_type": "code",
   "execution_count": 31,
   "id": "novel-hughes",
   "metadata": {},
   "outputs": [
    {
     "data": {
      "application/vnd.jupyter.widget-view+json": {
       "model_id": "56d59db071d84927b22fb22c0d2ffb49",
       "version_major": 2,
       "version_minor": 0
      },
      "text/plain": [
       "  0%|          | 0/5 [00:00<?, ?it/s]"
      ]
     },
     "metadata": {},
     "output_type": "display_data"
    }
   ],
   "source": [
    "# remove instances with low score\n",
    "THRESHOLD = 0.25\n",
    "MIN_NUM_PREDS = 5\n",
    "\n",
    "for pred_df in tqdm(pred_df_list):\n",
    "    for i in range(len(pred_df)):\n",
    "        objs = np.array(pred_df.loc[i, 'PredictionString'].split(' ')).reshape(-1, 6)\n",
    "        objs = sorted(objs, key=lambda x: -float(x[1]))\n",
    "        \n",
    "        if float(objs[MIN_NUM_PREDS][1]) < THRESHOLD:\n",
    "            remains = objs[:5]\n",
    "        else:\n",
    "            remains = [obj for obj in objs if float(obj[1]) > THRESHOLD]\n",
    "        pred_str = list()\n",
    "        \n",
    "        for remain in remains:\n",
    "            pred_str += [remain[0]] + [remain[1]] + remain[2:].tolist()\n",
    "                \n",
    "        pred_df.loc[i, 'PredictionString'] = ' '.join(pred_str)"
   ]
  },
  {
   "cell_type": "code",
   "execution_count": 32,
   "id": "formal-craft",
   "metadata": {},
   "outputs": [],
   "source": [
    "# save predictions, which is post processed by NMS\n",
    "for fold, pred_df in enumerate(pred_df_list):\n",
    "    pred_df.to_csv(str(base_dir / config.outdir / f'fold-{fold + 1}' / 'submission_nms_thr.csv'), index=False)"
   ]
  },
  {
   "cell_type": "code",
   "execution_count": 43,
   "id": "phantom-arbor",
   "metadata": {},
   "outputs": [],
   "source": [
    "pred_df_list = [pd.read_csv(base_dir / config.outdir / f'fold-{fold + 1}' / 'submission_nms_thr.csv') for fold in range(config.n_splits)]"
   ]
  },
  {
   "cell_type": "code",
   "execution_count": 16,
   "id": "interpreted-crack",
   "metadata": {},
   "outputs": [
    {
     "data": {
      "application/vnd.jupyter.widget-view+json": {
       "model_id": "4e131619edc0468c90804e14a236261a",
       "version_major": 2,
       "version_minor": 0
      },
      "text/plain": [
       "0it [00:00, ?it/s]"
      ]
     },
     "metadata": {},
     "output_type": "display_data"
    }
   ],
   "source": [
    "# ensemble all fold's predictions\n",
    "\n",
    "records = {'image_id': list(), 'PredictionString': list()}\n",
    "\n",
    "for i, (image_id, height, width) in tqdm(enumerate(test_meta.values)):  \n",
    "    e_labels = list()\n",
    "    e_scores = list()\n",
    "    e_boxes = list()\n",
    "    \n",
    "    for fold, pred_df in enumerate(pred_df_list):\n",
    "        f_image_id, f_pred_str = pred_df.values[i]\n",
    "        assert image_id == f_image_id\n",
    "        \n",
    "        objs = np.array(f_pred_str.split(' ')).reshape(-1, 6)\n",
    "        f_boxes = objs[:, 2:].astype(float)\n",
    "        f_boxes[:, [0, 2]] /= width\n",
    "        f_boxes[:, [1, 3]] /= height\n",
    "        \n",
    "        e_labels += objs[:, 0].astype(int).tolist()\n",
    "        e_scores += objs[:, 1].astype(float).tolist()\n",
    "        e_boxes += f_boxes.tolist()\n",
    "    \n",
    "    boxes, scores, labels = weighted_boxes_fusion([e_boxes], [e_scores], [e_labels], weights=None, iou_thr=config.iou_thr, skip_box_thr=config.skip_box_thr)\n",
    "    \n",
    "    boxes = np.array(boxes)\n",
    "    boxes[:, [0, 2]] *= width\n",
    "    boxes[:, [1, 3]] *= height\n",
    "    \n",
    "    e_pred_str = list()\n",
    "    for label, score, box in zip(labels, scores, boxes):\n",
    "        e_pred_str += [str(int(label))] + [str(score)] + box.astype(str).tolist()\n",
    "    \n",
    "    records['image_id'] += [image_id]\n",
    "    records['PredictionString'] += [' '.join(e_pred_str)]\n",
    "    \n",
    "ensemble_df = pd.DataFrame(records)"
   ]
  },
  {
   "cell_type": "code",
   "execution_count": 17,
   "id": "shared-firewall",
   "metadata": {},
   "outputs": [
    {
     "data": {
      "text/html": [
       "<div>\n",
       "<style scoped>\n",
       "    .dataframe tbody tr th:only-of-type {\n",
       "        vertical-align: middle;\n",
       "    }\n",
       "\n",
       "    .dataframe tbody tr th {\n",
       "        vertical-align: top;\n",
       "    }\n",
       "\n",
       "    .dataframe thead th {\n",
       "        text-align: right;\n",
       "    }\n",
       "</style>\n",
       "<table border=\"1\" class=\"dataframe\">\n",
       "  <thead>\n",
       "    <tr style=\"text-align: right;\">\n",
       "      <th></th>\n",
       "      <th>image_id</th>\n",
       "      <th>PredictionString</th>\n",
       "    </tr>\n",
       "  </thead>\n",
       "  <tbody>\n",
       "    <tr>\n",
       "      <th>0</th>\n",
       "      <td>002a34c58c5b758217ed1f584ccbcfe9</td>\n",
       "      <td>14 1 0 0 1 1</td>\n",
       "    </tr>\n",
       "    <tr>\n",
       "      <th>1</th>\n",
       "      <td>004f33259ee4aef671c2b95d54e4be68</td>\n",
       "      <td>11 0.097 1406 302 1701 367 0 0.838 1254 585 15...</td>\n",
       "    </tr>\n",
       "    <tr>\n",
       "      <th>2</th>\n",
       "      <td>008bdde2af2462e86fd373a445d0f4cd</td>\n",
       "      <td>13 0.009 734 1097 833 1198 11 0.05 1589 439 18...</td>\n",
       "    </tr>\n",
       "    <tr>\n",
       "      <th>3</th>\n",
       "      <td>009bc039326338823ca3aa84381f17f1</td>\n",
       "      <td>14 1 0 0 1 1</td>\n",
       "    </tr>\n",
       "    <tr>\n",
       "      <th>4</th>\n",
       "      <td>00a2145de1886cb9eb88869c85d74080</td>\n",
       "      <td>13 0.064 555 1289 809 1406 3 0.854 776 1270 18...</td>\n",
       "    </tr>\n",
       "    <tr>\n",
       "      <th>...</th>\n",
       "      <td>...</td>\n",
       "      <td>...</td>\n",
       "    </tr>\n",
       "    <tr>\n",
       "      <th>2995</th>\n",
       "      <td>ff91fb82429a27521bbec8569b041f02</td>\n",
       "      <td>13 0.385 2334 1212 2412 1302 13 0.014 858 1344...</td>\n",
       "    </tr>\n",
       "    <tr>\n",
       "      <th>2996</th>\n",
       "      <td>ff9fcc4087ed5e941209aa3fa948e364</td>\n",
       "      <td>11 0.075 1296 383 1503 456 7 0.023 819 742 101...</td>\n",
       "    </tr>\n",
       "    <tr>\n",
       "      <th>2997</th>\n",
       "      <td>ffaa288c8abca300974f043b57d81521</td>\n",
       "      <td>14 1 0 0 1 1</td>\n",
       "    </tr>\n",
       "    <tr>\n",
       "      <th>2998</th>\n",
       "      <td>ffc441e0c8b7153844047483a577e7c3</td>\n",
       "      <td>0 0.248 983 646 1230 932 14 0 0 0 1 1</td>\n",
       "    </tr>\n",
       "    <tr>\n",
       "      <th>2999</th>\n",
       "      <td>ffccf1709d0081d122a1d1f9edbefdf1</td>\n",
       "      <td>13 0.715 522 752 1087 1567 13 0.673 1571 734 2...</td>\n",
       "    </tr>\n",
       "  </tbody>\n",
       "</table>\n",
       "<p>3000 rows × 2 columns</p>\n",
       "</div>"
      ],
      "text/plain": [
       "                              image_id  \\\n",
       "0     002a34c58c5b758217ed1f584ccbcfe9   \n",
       "1     004f33259ee4aef671c2b95d54e4be68   \n",
       "2     008bdde2af2462e86fd373a445d0f4cd   \n",
       "3     009bc039326338823ca3aa84381f17f1   \n",
       "4     00a2145de1886cb9eb88869c85d74080   \n",
       "...                                ...   \n",
       "2995  ff91fb82429a27521bbec8569b041f02   \n",
       "2996  ff9fcc4087ed5e941209aa3fa948e364   \n",
       "2997  ffaa288c8abca300974f043b57d81521   \n",
       "2998  ffc441e0c8b7153844047483a577e7c3   \n",
       "2999  ffccf1709d0081d122a1d1f9edbefdf1   \n",
       "\n",
       "                                       PredictionString  \n",
       "0                                          14 1 0 0 1 1  \n",
       "1     11 0.097 1406 302 1701 367 0 0.838 1254 585 15...  \n",
       "2     13 0.009 734 1097 833 1198 11 0.05 1589 439 18...  \n",
       "3                                          14 1 0 0 1 1  \n",
       "4     13 0.064 555 1289 809 1406 3 0.854 776 1270 18...  \n",
       "...                                                 ...  \n",
       "2995  13 0.385 2334 1212 2412 1302 13 0.014 858 1344...  \n",
       "2996  11 0.075 1296 383 1503 456 7 0.023 819 742 101...  \n",
       "2997                                       14 1 0 0 1 1  \n",
       "2998              0 0.248 983 646 1230 932 14 0 0 0 1 1  \n",
       "2999  13 0.715 522 752 1087 1567 13 0.673 1571 734 2...  \n",
       "\n",
       "[3000 rows x 2 columns]"
      ]
     },
     "execution_count": 17,
     "metadata": {},
     "output_type": "execute_result"
    }
   ],
   "source": [
    "pred_0246_df = pd.read_csv(base_dir / '0246_copy_submission_postprocessed.csv')\n",
    "pred_0246_df"
   ]
  },
  {
   "cell_type": "code",
   "execution_count": 46,
   "id": "collected-declaration",
   "metadata": {},
   "outputs": [
    {
     "data": {
      "text/html": [
       "<div>\n",
       "<style scoped>\n",
       "    .dataframe tbody tr th:only-of-type {\n",
       "        vertical-align: middle;\n",
       "    }\n",
       "\n",
       "    .dataframe tbody tr th {\n",
       "        vertical-align: top;\n",
       "    }\n",
       "\n",
       "    .dataframe thead th {\n",
       "        text-align: right;\n",
       "    }\n",
       "</style>\n",
       "<table border=\"1\" class=\"dataframe\">\n",
       "  <thead>\n",
       "    <tr style=\"text-align: right;\">\n",
       "      <th></th>\n",
       "      <th>image_id</th>\n",
       "      <th>PredictionString_x</th>\n",
       "      <th>PredictionString_y</th>\n",
       "      <th>dim0</th>\n",
       "      <th>dim1</th>\n",
       "    </tr>\n",
       "  </thead>\n",
       "  <tbody>\n",
       "    <tr>\n",
       "      <th>0</th>\n",
       "      <td>002a34c58c5b758217ed1f584ccbcfe9</td>\n",
       "      <td>14 1 0 0 1 1</td>\n",
       "      <td>3 0.45567163825035095 832.916237860918 1239.87...</td>\n",
       "      <td>2584</td>\n",
       "      <td>2345</td>\n",
       "    </tr>\n",
       "    <tr>\n",
       "      <th>1</th>\n",
       "      <td>004f33259ee4aef671c2b95d54e4be68</td>\n",
       "      <td>11 0.097 1406 302 1701 367 0 0.838 1254 585 15...</td>\n",
       "      <td>0 0.7147951126098633 1258.5649607777596 581.17...</td>\n",
       "      <td>3028</td>\n",
       "      <td>2517</td>\n",
       "    </tr>\n",
       "    <tr>\n",
       "      <th>2</th>\n",
       "      <td>008bdde2af2462e86fd373a445d0f4cd</td>\n",
       "      <td>13 0.009 734 1097 833 1198 11 0.05 1589 439 18...</td>\n",
       "      <td>0 0.7219107151031494 1434.7842407226562 817.23...</td>\n",
       "      <td>2880</td>\n",
       "      <td>2304</td>\n",
       "    </tr>\n",
       "    <tr>\n",
       "      <th>3</th>\n",
       "      <td>009bc039326338823ca3aa84381f17f1</td>\n",
       "      <td>14 1 0 0 1 1</td>\n",
       "      <td>3 0.64862305 667.86584 1044.4628 1559.1077 134...</td>\n",
       "      <td>2430</td>\n",
       "      <td>1994</td>\n",
       "    </tr>\n",
       "    <tr>\n",
       "      <th>4</th>\n",
       "      <td>00a2145de1886cb9eb88869c85d74080</td>\n",
       "      <td>13 0.064 555 1289 809 1406 3 0.854 776 1270 18...</td>\n",
       "      <td>3 0.68199414 781.6629 1286.36 1853.743 1638.14...</td>\n",
       "      <td>2408</td>\n",
       "      <td>2136</td>\n",
       "    </tr>\n",
       "    <tr>\n",
       "      <th>...</th>\n",
       "      <td>...</td>\n",
       "      <td>...</td>\n",
       "      <td>...</td>\n",
       "      <td>...</td>\n",
       "      <td>...</td>\n",
       "    </tr>\n",
       "    <tr>\n",
       "      <th>2995</th>\n",
       "      <td>ff91fb82429a27521bbec8569b041f02</td>\n",
       "      <td>13 0.385 2334 1212 2412 1302 13 0.014 858 1344...</td>\n",
       "      <td>0 0.7568007707595825 1614.6069946289062 621.57...</td>\n",
       "      <td>3072</td>\n",
       "      <td>3072</td>\n",
       "    </tr>\n",
       "    <tr>\n",
       "      <th>2996</th>\n",
       "      <td>ff9fcc4087ed5e941209aa3fa948e364</td>\n",
       "      <td>11 0.075 1296 383 1503 456 7 0.023 819 742 101...</td>\n",
       "      <td>0 0.6967495679855347 1140.2225875854492 692.80...</td>\n",
       "      <td>2880</td>\n",
       "      <td>2304</td>\n",
       "    </tr>\n",
       "    <tr>\n",
       "      <th>2997</th>\n",
       "      <td>ffaa288c8abca300974f043b57d81521</td>\n",
       "      <td>14 1 0 0 1 1</td>\n",
       "      <td>10 0.591392457485199 1895.0778176784515 1572.7...</td>\n",
       "      <td>2958</td>\n",
       "      <td>2684</td>\n",
       "    </tr>\n",
       "    <tr>\n",
       "      <th>2998</th>\n",
       "      <td>ffc441e0c8b7153844047483a577e7c3</td>\n",
       "      <td>0 0.248 983 646 1230 932 14 0 0 0 1 1</td>\n",
       "      <td>3 0.48256078362464905 748.0262625217438 1256.8...</td>\n",
       "      <td>2328</td>\n",
       "      <td>1944</td>\n",
       "    </tr>\n",
       "    <tr>\n",
       "      <th>2999</th>\n",
       "      <td>ffccf1709d0081d122a1d1f9edbefdf1</td>\n",
       "      <td>13 0.715 522 752 1087 1567 13 0.673 1571 734 2...</td>\n",
       "      <td>0 0.6280993819236755 1373.5205359458923 871.95...</td>\n",
       "      <td>3184</td>\n",
       "      <td>2812</td>\n",
       "    </tr>\n",
       "  </tbody>\n",
       "</table>\n",
       "<p>3000 rows × 5 columns</p>\n",
       "</div>"
      ],
      "text/plain": [
       "                              image_id  \\\n",
       "0     002a34c58c5b758217ed1f584ccbcfe9   \n",
       "1     004f33259ee4aef671c2b95d54e4be68   \n",
       "2     008bdde2af2462e86fd373a445d0f4cd   \n",
       "3     009bc039326338823ca3aa84381f17f1   \n",
       "4     00a2145de1886cb9eb88869c85d74080   \n",
       "...                                ...   \n",
       "2995  ff91fb82429a27521bbec8569b041f02   \n",
       "2996  ff9fcc4087ed5e941209aa3fa948e364   \n",
       "2997  ffaa288c8abca300974f043b57d81521   \n",
       "2998  ffc441e0c8b7153844047483a577e7c3   \n",
       "2999  ffccf1709d0081d122a1d1f9edbefdf1   \n",
       "\n",
       "                                     PredictionString_x  \\\n",
       "0                                          14 1 0 0 1 1   \n",
       "1     11 0.097 1406 302 1701 367 0 0.838 1254 585 15...   \n",
       "2     13 0.009 734 1097 833 1198 11 0.05 1589 439 18...   \n",
       "3                                          14 1 0 0 1 1   \n",
       "4     13 0.064 555 1289 809 1406 3 0.854 776 1270 18...   \n",
       "...                                                 ...   \n",
       "2995  13 0.385 2334 1212 2412 1302 13 0.014 858 1344...   \n",
       "2996  11 0.075 1296 383 1503 456 7 0.023 819 742 101...   \n",
       "2997                                       14 1 0 0 1 1   \n",
       "2998              0 0.248 983 646 1230 932 14 0 0 0 1 1   \n",
       "2999  13 0.715 522 752 1087 1567 13 0.673 1571 734 2...   \n",
       "\n",
       "                                     PredictionString_y  dim0  dim1  \n",
       "0     3 0.45567163825035095 832.916237860918 1239.87...  2584  2345  \n",
       "1     0 0.7147951126098633 1258.5649607777596 581.17...  3028  2517  \n",
       "2     0 0.7219107151031494 1434.7842407226562 817.23...  2880  2304  \n",
       "3     3 0.64862305 667.86584 1044.4628 1559.1077 134...  2430  1994  \n",
       "4     3 0.68199414 781.6629 1286.36 1853.743 1638.14...  2408  2136  \n",
       "...                                                 ...   ...   ...  \n",
       "2995  0 0.7568007707595825 1614.6069946289062 621.57...  3072  3072  \n",
       "2996  0 0.6967495679855347 1140.2225875854492 692.80...  2880  2304  \n",
       "2997  10 0.591392457485199 1895.0778176784515 1572.7...  2958  2684  \n",
       "2998  3 0.48256078362464905 748.0262625217438 1256.8...  2328  1944  \n",
       "2999  0 0.6280993819236755 1373.5205359458923 871.95...  3184  2812  \n",
       "\n",
       "[3000 rows x 5 columns]"
      ]
     },
     "execution_count": 46,
     "metadata": {},
     "output_type": "execute_result"
    }
   ],
   "source": [
    "submission = pd.merge(pred_0246_df, ensemble_df, how='left', on='image_id')\n",
    "submission = pd.merge(submission, test_meta, how='left', on='image_id')\n",
    "submission"
   ]
  },
  {
   "cell_type": "code",
   "execution_count": 47,
   "id": "touched-privacy",
   "metadata": {},
   "outputs": [
    {
     "data": {
      "application/vnd.jupyter.widget-view+json": {
       "model_id": "130329217a49431da30d95e90a909f61",
       "version_major": 2,
       "version_minor": 0
      },
      "text/plain": [
       "0it [00:00, ?it/s]"
      ]
     },
     "metadata": {},
     "output_type": "display_data"
    }
   ],
   "source": [
    "NORMAL = '14 1 0 0 1 1'\n",
    "SCORE_THRESH = 0.05\n",
    "records = {'image_id': list(), 'PredictionString': list()}\n",
    "submission['PredictionString'] = ''\n",
    "\n",
    "for i, (image_id, kernel, my, height, width) in tqdm(enumerate(submission.values[:, :-1])):\n",
    "    if kernel == NORMAL:\n",
    "        submission.loc[i, 'PredictionString'] = NORMAL\n",
    "        continue\n",
    "        \n",
    "    e_labels = list()\n",
    "    e_scores = list()\n",
    "    e_boxes = list()\n",
    "    \n",
    "    k_objs = np.array(kernel.split(' ')).reshape(-1, 6)\n",
    "    k_boxes = k_objs[:, 2:].astype(float)\n",
    "    k_boxes[:, [0, 2]] /= width\n",
    "    k_boxes[:, [1, 3]] /= height\n",
    "\n",
    "    k_labels = k_objs[:, 0].astype(int).tolist()\n",
    "    k_scores = k_objs[:, 1].astype(float).tolist()\n",
    "    k_boxes = k_boxes.tolist()\n",
    "    \n",
    "    m_objs = np.array(my.split(' ')).reshape(-1, 6)\n",
    "    m_boxes = m_objs[:, 2:].astype(float)\n",
    "    m_boxes[:, [0, 2]] /= width\n",
    "    m_boxes[:, [1, 3]] /= height\n",
    "\n",
    "    m_labels = m_objs[:, 0].astype(int).tolist()\n",
    "    m_scores = m_objs[:, 1].astype(float).tolist()\n",
    "    m_boxes = m_boxes.tolist()\n",
    "    \n",
    "    boxes, scores, labels = weighted_boxes_fusion([k_boxes, m_boxes], [k_scores, m_scores], [k_labels, m_labels], weights=[1.5, 1], iou_thr=config.iou_thr, skip_box_thr=config.skip_box_thr)\n",
    "    \n",
    "    boxes = np.array(boxes)\n",
    "    boxes[:, [0, 2]] *= width\n",
    "    boxes[:, [1, 3]] *= height\n",
    "    \n",
    "    e_pred_str = list()\n",
    "    for label, score, box in zip(labels, scores, boxes):\n",
    "        if score > SCORE_THRESH:\n",
    "            e_pred_str += [str(int(label))] + [str(score)] + box.astype(int).astype(str).tolist()\n",
    "    \n",
    "    submission.loc[i, 'PredictionString'] = ' '.join(e_pred_str)"
   ]
  },
  {
   "cell_type": "code",
   "execution_count": 18,
   "id": "ready-melbourne",
   "metadata": {},
   "outputs": [
    {
     "data": {
      "text/html": [
       "<div>\n",
       "<style scoped>\n",
       "    .dataframe tbody tr th:only-of-type {\n",
       "        vertical-align: middle;\n",
       "    }\n",
       "\n",
       "    .dataframe tbody tr th {\n",
       "        vertical-align: top;\n",
       "    }\n",
       "\n",
       "    .dataframe thead th {\n",
       "        text-align: right;\n",
       "    }\n",
       "</style>\n",
       "<table border=\"1\" class=\"dataframe\">\n",
       "  <thead>\n",
       "    <tr style=\"text-align: right;\">\n",
       "      <th></th>\n",
       "      <th>image_id</th>\n",
       "      <th>target</th>\n",
       "    </tr>\n",
       "  </thead>\n",
       "  <tbody>\n",
       "    <tr>\n",
       "      <th>0</th>\n",
       "      <td>002a34c58c5b758217ed1f584ccbcfe9</td>\n",
       "      <td>0.013326</td>\n",
       "    </tr>\n",
       "    <tr>\n",
       "      <th>1</th>\n",
       "      <td>004f33259ee4aef671c2b95d54e4be68</td>\n",
       "      <td>0.037235</td>\n",
       "    </tr>\n",
       "    <tr>\n",
       "      <th>2</th>\n",
       "      <td>008bdde2af2462e86fd373a445d0f4cd</td>\n",
       "      <td>0.939700</td>\n",
       "    </tr>\n",
       "    <tr>\n",
       "      <th>3</th>\n",
       "      <td>009bc039326338823ca3aa84381f17f1</td>\n",
       "      <td>0.123799</td>\n",
       "    </tr>\n",
       "    <tr>\n",
       "      <th>4</th>\n",
       "      <td>00a2145de1886cb9eb88869c85d74080</td>\n",
       "      <td>0.654006</td>\n",
       "    </tr>\n",
       "    <tr>\n",
       "      <th>...</th>\n",
       "      <td>...</td>\n",
       "      <td>...</td>\n",
       "    </tr>\n",
       "    <tr>\n",
       "      <th>2995</th>\n",
       "      <td>ff91fb82429a27521bbec8569b041f02</td>\n",
       "      <td>0.936325</td>\n",
       "    </tr>\n",
       "    <tr>\n",
       "      <th>2996</th>\n",
       "      <td>ff9fcc4087ed5e941209aa3fa948e364</td>\n",
       "      <td>0.963583</td>\n",
       "    </tr>\n",
       "    <tr>\n",
       "      <th>2997</th>\n",
       "      <td>ffaa288c8abca300974f043b57d81521</td>\n",
       "      <td>0.178720</td>\n",
       "    </tr>\n",
       "    <tr>\n",
       "      <th>2998</th>\n",
       "      <td>ffc441e0c8b7153844047483a577e7c3</td>\n",
       "      <td>0.225196</td>\n",
       "    </tr>\n",
       "    <tr>\n",
       "      <th>2999</th>\n",
       "      <td>ffccf1709d0081d122a1d1f9edbefdf1</td>\n",
       "      <td>0.987406</td>\n",
       "    </tr>\n",
       "  </tbody>\n",
       "</table>\n",
       "<p>3000 rows × 2 columns</p>\n",
       "</div>"
      ],
      "text/plain": [
       "                              image_id    target\n",
       "0     002a34c58c5b758217ed1f584ccbcfe9  0.013326\n",
       "1     004f33259ee4aef671c2b95d54e4be68  0.037235\n",
       "2     008bdde2af2462e86fd373a445d0f4cd  0.939700\n",
       "3     009bc039326338823ca3aa84381f17f1  0.123799\n",
       "4     00a2145de1886cb9eb88869c85d74080  0.654006\n",
       "...                                ...       ...\n",
       "2995  ff91fb82429a27521bbec8569b041f02  0.936325\n",
       "2996  ff9fcc4087ed5e941209aa3fa948e364  0.963583\n",
       "2997  ffaa288c8abca300974f043b57d81521  0.178720\n",
       "2998  ffc441e0c8b7153844047483a577e7c3  0.225196\n",
       "2999  ffccf1709d0081d122a1d1f9edbefdf1  0.987406\n",
       "\n",
       "[3000 rows x 2 columns]"
      ]
     },
     "execution_count": 18,
     "metadata": {},
     "output_type": "execute_result"
    }
   ],
   "source": [
    "pred_2class_df = pd.read_csv(base_dir / '0246_2-cls_test_pred.csv')\n",
    "pred_2class_df"
   ]
  },
  {
   "cell_type": "code",
   "execution_count": 49,
   "id": "innocent-carrier",
   "metadata": {},
   "outputs": [],
   "source": [
    "# submission_2class = pd.read_csv(str(base_dir / 'pfn_copy_test_pred.csv'))\n",
    "# submission_2class"
   ]
  },
  {
   "cell_type": "code",
   "execution_count": 19,
   "id": "painful-balance",
   "metadata": {},
   "outputs": [
    {
     "data": {
      "text/html": [
       "<div>\n",
       "<style scoped>\n",
       "    .dataframe tbody tr th:only-of-type {\n",
       "        vertical-align: middle;\n",
       "    }\n",
       "\n",
       "    .dataframe tbody tr th {\n",
       "        vertical-align: top;\n",
       "    }\n",
       "\n",
       "    .dataframe thead th {\n",
       "        text-align: right;\n",
       "    }\n",
       "</style>\n",
       "<table border=\"1\" class=\"dataframe\">\n",
       "  <thead>\n",
       "    <tr style=\"text-align: right;\">\n",
       "      <th></th>\n",
       "      <th>image_id</th>\n",
       "      <th>PredictionString</th>\n",
       "      <th>target</th>\n",
       "    </tr>\n",
       "  </thead>\n",
       "  <tbody>\n",
       "    <tr>\n",
       "      <th>0</th>\n",
       "      <td>8dec5497ecc246766acfba5a4be4e619</td>\n",
       "      <td>0 0.2501046061515808 1037.0 595.0 1252.0 878.0...</td>\n",
       "      <td>0.010527</td>\n",
       "    </tr>\n",
       "    <tr>\n",
       "      <th>1</th>\n",
       "      <td>287422bed1d9d153387361889619abed</td>\n",
       "      <td>3 0.5412694215774536 673.0000000000001 1142.0 ...</td>\n",
       "      <td>0.686638</td>\n",
       "    </tr>\n",
       "    <tr>\n",
       "      <th>2</th>\n",
       "      <td>1d12b94b7acbeadef7d7700b50aa90d4</td>\n",
       "      <td>0 0.522853434085846 1170.0 884.9999999999999 1...</td>\n",
       "      <td>0.006848</td>\n",
       "    </tr>\n",
       "    <tr>\n",
       "      <th>3</th>\n",
       "      <td>6b872791e23742f6c33a08fc24f77365</td>\n",
       "      <td>5 0.2051709145307541 1455.0 1406.0 1902.0 2144...</td>\n",
       "      <td>0.043275</td>\n",
       "    </tr>\n",
       "    <tr>\n",
       "      <th>4</th>\n",
       "      <td>d0d2addff91ad7beb1d92126ff74d621</td>\n",
       "      <td>3 0.44704851508140564 1117.0 1481.0 2102.0 189...</td>\n",
       "      <td>0.013268</td>\n",
       "    </tr>\n",
       "    <tr>\n",
       "      <th>...</th>\n",
       "      <td>...</td>\n",
       "      <td>...</td>\n",
       "      <td>...</td>\n",
       "    </tr>\n",
       "    <tr>\n",
       "      <th>2995</th>\n",
       "      <td>78b44b96b121d6075d7ae27135278e03</td>\n",
       "      <td>3 0.2045578807592392 754.0 1345.0 1481.0 1717....</td>\n",
       "      <td>0.013812</td>\n",
       "    </tr>\n",
       "    <tr>\n",
       "      <th>2996</th>\n",
       "      <td>afee8ff90f29b8827d0eb78774d25324</td>\n",
       "      <td>0 0.3264782428741455 1046.0 698.0 1251.0 973.9...</td>\n",
       "      <td>0.012585</td>\n",
       "    </tr>\n",
       "    <tr>\n",
       "      <th>2997</th>\n",
       "      <td>6e07fab2014be723250f7897ab6e3df2</td>\n",
       "      <td>0 0.3811582922935486 1499.0 793.0 1965.0 1211....</td>\n",
       "      <td>0.047763</td>\n",
       "    </tr>\n",
       "    <tr>\n",
       "      <th>2998</th>\n",
       "      <td>690bb572300ef08bbbb7ebf4196099cf</td>\n",
       "      <td>0 0.26047706604003906 1113.0 678.0 1345.0 976....</td>\n",
       "      <td>0.020076</td>\n",
       "    </tr>\n",
       "    <tr>\n",
       "      <th>2999</th>\n",
       "      <td>0a08191a658edb1327e7282045ec71cf</td>\n",
       "      <td>0 0.28066423535346985 1066.0 735.0 1289.0 1024...</td>\n",
       "      <td>0.036355</td>\n",
       "    </tr>\n",
       "  </tbody>\n",
       "</table>\n",
       "<p>3000 rows × 3 columns</p>\n",
       "</div>"
      ],
      "text/plain": [
       "                              image_id  \\\n",
       "0     8dec5497ecc246766acfba5a4be4e619   \n",
       "1     287422bed1d9d153387361889619abed   \n",
       "2     1d12b94b7acbeadef7d7700b50aa90d4   \n",
       "3     6b872791e23742f6c33a08fc24f77365   \n",
       "4     d0d2addff91ad7beb1d92126ff74d621   \n",
       "...                                ...   \n",
       "2995  78b44b96b121d6075d7ae27135278e03   \n",
       "2996  afee8ff90f29b8827d0eb78774d25324   \n",
       "2997  6e07fab2014be723250f7897ab6e3df2   \n",
       "2998  690bb572300ef08bbbb7ebf4196099cf   \n",
       "2999  0a08191a658edb1327e7282045ec71cf   \n",
       "\n",
       "                                       PredictionString    target  \n",
       "0     0 0.2501046061515808 1037.0 595.0 1252.0 878.0...  0.010527  \n",
       "1     3 0.5412694215774536 673.0000000000001 1142.0 ...  0.686638  \n",
       "2     0 0.522853434085846 1170.0 884.9999999999999 1...  0.006848  \n",
       "3     5 0.2051709145307541 1455.0 1406.0 1902.0 2144...  0.043275  \n",
       "4     3 0.44704851508140564 1117.0 1481.0 2102.0 189...  0.013268  \n",
       "...                                                 ...       ...  \n",
       "2995  3 0.2045578807592392 754.0 1345.0 1481.0 1717....  0.013812  \n",
       "2996  0 0.3264782428741455 1046.0 698.0 1251.0 973.9...  0.012585  \n",
       "2997  0 0.3811582922935486 1499.0 793.0 1965.0 1211....  0.047763  \n",
       "2998  0 0.26047706604003906 1113.0 678.0 1345.0 976....  0.020076  \n",
       "2999  0 0.28066423535346985 1066.0 735.0 1289.0 1024...  0.036355  \n",
       "\n",
       "[3000 rows x 3 columns]"
      ]
     },
     "execution_count": 19,
     "metadata": {},
     "output_type": "execute_result"
    }
   ],
   "source": [
    "# submission = pd.merge(submission, pred_2class_df, how='left', on='image_id')\n",
    "# submission\n",
    "\n",
    "submission = pd.merge(ensemble_df, pred_2class_df, how='left', on='image_id')\n",
    "submission"
   ]
  },
  {
   "cell_type": "code",
   "execution_count": 20,
   "id": "violent-dating",
   "metadata": {},
   "outputs": [
    {
     "data": {
      "application/vnd.jupyter.widget-view+json": {
       "model_id": "210c867d15b94da1ab5d62af394fe835",
       "version_major": 2,
       "version_minor": 0
      },
      "text/plain": [
       "  0%|          | 0/3000 [00:00<?, ?it/s]"
      ]
     },
     "metadata": {},
     "output_type": "display_data"
    },
    {
     "name": "stdout",
     "output_type": "stream",
     "text": [
      "Keep 0 Add 937 Replace 2063\n"
     ]
    }
   ],
   "source": [
    "low_threshold = 0.001\n",
    "high_threshold = 0.87\n",
    "\n",
    "c0, c1, c2 = 0, 0, 0\n",
    "\n",
    "for i in tqdm(submission.index):\n",
    "    p0 = 1 - submission.loc[i, 'target']\n",
    "    \n",
    "    if p0 < low_threshold:\n",
    "        c0 += 1\n",
    "        pass\n",
    "    elif low_threshold <= p0 and p0 < high_threshold:\n",
    "        c1 += 1\n",
    "        submission.loc[i, 'PredictionString'] += f\" 14 0 0 0 1 1\"\n",
    "    else:\n",
    "        c2 += 1\n",
    "        submission.loc[i, 'PredictionString'] = '14 1 0 0 1 1'\n",
    "        \n",
    "print(f\"Keep {c0} Add {c1} Replace {c2}\")"
   ]
  },
  {
   "cell_type": "code",
   "execution_count": 21,
   "id": "approximate-crest",
   "metadata": {},
   "outputs": [
    {
     "data": {
      "text/html": [
       "<div>\n",
       "<style scoped>\n",
       "    .dataframe tbody tr th:only-of-type {\n",
       "        vertical-align: middle;\n",
       "    }\n",
       "\n",
       "    .dataframe tbody tr th {\n",
       "        vertical-align: top;\n",
       "    }\n",
       "\n",
       "    .dataframe thead th {\n",
       "        text-align: right;\n",
       "    }\n",
       "</style>\n",
       "<table border=\"1\" class=\"dataframe\">\n",
       "  <thead>\n",
       "    <tr style=\"text-align: right;\">\n",
       "      <th></th>\n",
       "      <th>image_id</th>\n",
       "      <th>PredictionString</th>\n",
       "    </tr>\n",
       "  </thead>\n",
       "  <tbody>\n",
       "    <tr>\n",
       "      <th>0</th>\n",
       "      <td>8dec5497ecc246766acfba5a4be4e619</td>\n",
       "      <td>14 1 0 0 1 1</td>\n",
       "    </tr>\n",
       "    <tr>\n",
       "      <th>1</th>\n",
       "      <td>287422bed1d9d153387361889619abed</td>\n",
       "      <td>3 0.5412694215774536 673.0000000000001 1142.0 ...</td>\n",
       "    </tr>\n",
       "    <tr>\n",
       "      <th>2</th>\n",
       "      <td>1d12b94b7acbeadef7d7700b50aa90d4</td>\n",
       "      <td>14 1 0 0 1 1</td>\n",
       "    </tr>\n",
       "    <tr>\n",
       "      <th>3</th>\n",
       "      <td>6b872791e23742f6c33a08fc24f77365</td>\n",
       "      <td>14 1 0 0 1 1</td>\n",
       "    </tr>\n",
       "    <tr>\n",
       "      <th>4</th>\n",
       "      <td>d0d2addff91ad7beb1d92126ff74d621</td>\n",
       "      <td>14 1 0 0 1 1</td>\n",
       "    </tr>\n",
       "    <tr>\n",
       "      <th>...</th>\n",
       "      <td>...</td>\n",
       "      <td>...</td>\n",
       "    </tr>\n",
       "    <tr>\n",
       "      <th>2995</th>\n",
       "      <td>78b44b96b121d6075d7ae27135278e03</td>\n",
       "      <td>14 1 0 0 1 1</td>\n",
       "    </tr>\n",
       "    <tr>\n",
       "      <th>2996</th>\n",
       "      <td>afee8ff90f29b8827d0eb78774d25324</td>\n",
       "      <td>14 1 0 0 1 1</td>\n",
       "    </tr>\n",
       "    <tr>\n",
       "      <th>2997</th>\n",
       "      <td>6e07fab2014be723250f7897ab6e3df2</td>\n",
       "      <td>14 1 0 0 1 1</td>\n",
       "    </tr>\n",
       "    <tr>\n",
       "      <th>2998</th>\n",
       "      <td>690bb572300ef08bbbb7ebf4196099cf</td>\n",
       "      <td>14 1 0 0 1 1</td>\n",
       "    </tr>\n",
       "    <tr>\n",
       "      <th>2999</th>\n",
       "      <td>0a08191a658edb1327e7282045ec71cf</td>\n",
       "      <td>14 1 0 0 1 1</td>\n",
       "    </tr>\n",
       "  </tbody>\n",
       "</table>\n",
       "<p>3000 rows × 2 columns</p>\n",
       "</div>"
      ],
      "text/plain": [
       "                              image_id  \\\n",
       "0     8dec5497ecc246766acfba5a4be4e619   \n",
       "1     287422bed1d9d153387361889619abed   \n",
       "2     1d12b94b7acbeadef7d7700b50aa90d4   \n",
       "3     6b872791e23742f6c33a08fc24f77365   \n",
       "4     d0d2addff91ad7beb1d92126ff74d621   \n",
       "...                                ...   \n",
       "2995  78b44b96b121d6075d7ae27135278e03   \n",
       "2996  afee8ff90f29b8827d0eb78774d25324   \n",
       "2997  6e07fab2014be723250f7897ab6e3df2   \n",
       "2998  690bb572300ef08bbbb7ebf4196099cf   \n",
       "2999  0a08191a658edb1327e7282045ec71cf   \n",
       "\n",
       "                                       PredictionString  \n",
       "0                                          14 1 0 0 1 1  \n",
       "1     3 0.5412694215774536 673.0000000000001 1142.0 ...  \n",
       "2                                          14 1 0 0 1 1  \n",
       "3                                          14 1 0 0 1 1  \n",
       "4                                          14 1 0 0 1 1  \n",
       "...                                                 ...  \n",
       "2995                                       14 1 0 0 1 1  \n",
       "2996                                       14 1 0 0 1 1  \n",
       "2997                                       14 1 0 0 1 1  \n",
       "2998                                       14 1 0 0 1 1  \n",
       "2999                                       14 1 0 0 1 1  \n",
       "\n",
       "[3000 rows x 2 columns]"
      ]
     },
     "execution_count": 21,
     "metadata": {},
     "output_type": "execute_result"
    }
   ],
   "source": [
    "submission = submission[['image_id', 'PredictionString']]\n",
    "submission.to_csv(str(base_dir / 'submission.csv'), index=False)\n",
    "submission"
   ]
  },
  {
   "cell_type": "code",
   "execution_count": 226,
   "id": "noticed-stopping",
   "metadata": {},
   "outputs": [],
   "source": [
    "pred_by_class = [list() for i in range(len(classes_nms) + 1)]\n",
    "for obj in np.array(' '.join(submission.values[:, 1].tolist()).split(' ')).reshape(-1, 6):\n",
    "    try:\n",
    "        pred_by_class[int(obj[0])] += [float(obj[1])]\n",
    "    except IndexError as e:\n",
    "        print(obj)\n",
    "        raise e"
   ]
  },
  {
   "cell_type": "code",
   "execution_count": 228,
   "id": "incredible-outreach",
   "metadata": {},
   "outputs": [
    {
     "data": {
      "image/png": "[encoded data removed]",
      "text/plain": [
       "<Figure size 1800x864 with 15 Axes>"
      ]
     },
     "metadata": {},
     "output_type": "display_data"
    }
   ],
   "source": [
    "fig, axes = plt.subplots(3, 5, figsize=(25, 12))\n",
    "for i in range(len(pred_by_class)):\n",
    "    sns.distplot(pred_by_class[i], ax=axes[i // 5][i % 5])\n",
    "plt.show()"
   ]
  },
  {
   "cell_type": "code",
   "execution_count": 230,
   "id": "armed-expert",
   "metadata": {
    "tags": []
   },
   "outputs": [],
   "source": [
    "pred_by_class = [list() for i in range(len(classes_nms) + 1)]\n",
    "for obj in np.array(' '.join(pred_0246_df.values[:, 1].tolist()).split(' ')).reshape(-1, 6):\n",
    "    try:\n",
    "        pred_by_class[int(obj[0])] += [float(obj[1])]\n",
    "    except IndexError as e:\n",
    "        print(obj)\n",
    "        raise e"
   ]
  },
  {
   "cell_type": "code",
   "execution_count": 231,
   "id": "joined-granny",
   "metadata": {
    "tags": []
   },
   "outputs": [
    {
     "data": {
      "image/png": "[encoded data removed]",
      "text/plain": [
       "<Figure size 1800x864 with 15 Axes>"
      ]
     },
     "metadata": {},
     "output_type": "display_data"
    }
   ],
   "source": [
    "fig, axes = plt.subplots(3, 5, figsize=(25, 12))\n",
    "for i in range(len(pred_by_class)):\n",
    "    sns.distplot(pred_by_class[i], ax=axes[i // 5][i % 5])\n",
    "plt.show()"
   ]
  }
 ],
 "metadata": {
  "kernelspec": {
   "display_name": "Python 3",
   "language": "python",
   "name": "python3"
  },
  "language_info": {
   "codemirror_mode": {
    "name": "ipython",
    "version": 3
   },
   "file_extension": ".py",
   "mimetype": "text/x-python",
   "name": "python",
   "nbconvert_exporter": "python",
   "pygments_lexer": "ipython3",
   "version": "3.7.6"
  }
 },
 "nbformat": 4,
 "nbformat_minor": 5
}
