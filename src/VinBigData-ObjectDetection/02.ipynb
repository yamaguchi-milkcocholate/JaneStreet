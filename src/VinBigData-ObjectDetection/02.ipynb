{
 "cells": [
  {
   "cell_type": "code",
   "execution_count": 1,
   "id": "horizontal-material",
   "metadata": {},
   "outputs": [],
   "source": [
    "import os\n",
    "import sys\n",
    "import gc\n",
    "import pickle\n",
    "import warnings\n",
    "import pandas as pd\n",
    "import numpy as np\n",
    "import seaborn as sns\n",
    "from typing import *\n",
    "from tqdm.notebook import tqdm\n",
    "from pathlib import Path\n",
    "from matplotlib import pyplot as plt\n",
    "\n",
    "pd.set_option('max_columns', 50)\n",
    "pd.set_option('max_rows', 200)\n",
    "warnings.simplefilter('ignore')\n",
    "sns.set()"
   ]
  },
  {
   "cell_type": "code",
   "execution_count": 2,
   "id": "presidential-following",
   "metadata": {},
   "outputs": [
    {
     "name": "stderr",
     "output_type": "stream",
     "text": [
      "fail to import apex_C: apex was not installed or installed without --cpp_ext.\n",
      "fail to import amp_C: apex was not installed or installed without --cpp_ext.\n"
     ]
    }
   ],
   "source": [
    "base_dir = Path().resolve()\n",
    "sys.path.append(str(base_dir / '../'))\n",
    "\n",
    "from utils.preprocess import *\n",
    "from utils.model import *\n",
    "from utils.train import *\n",
    "from utils.eval import *"
   ]
  },
  {
   "cell_type": "code",
   "execution_count": 3,
   "id": "printable-nevada",
   "metadata": {},
   "outputs": [],
   "source": [
    "def seed_everything(seed: int, device: str):\n",
    "    random.seed(seed)\n",
    "    np.random.seed(seed)\n",
    "    torch.manual_seed(seed)\n",
    "    torch.cuda.manual_seed(seed)\n",
    "    torch.backends.cudnn.deterministic = True\n",
    "    with torch.cuda.device(device):\n",
    "        torch.cuda.empty_cache()"
   ]
  },
  {
   "cell_type": "code",
   "execution_count": 4,
   "id": "superb-insider",
   "metadata": {},
   "outputs": [],
   "source": [
    "from dataclasses import dataclass, field, asdict\n",
    "import yaml\n",
    "\n",
    "\n",
    "@dataclass\n",
    "class Config:\n",
    "    # General\n",
    "    debug: bool = False\n",
    "    outdir: str = \"results02\"\n",
    "    device: str = \"cuda:2\"\n",
    "    device_id: int = 2\n",
    "\n",
    "    # Data config\n",
    "    imgconf_file: str = '../../data/VinBigData/train.csv'\n",
    "    meta_file: str = '../../data/VinBigData/train_meta.csv'\n",
    "    imgdir_name: str = \"../../data/VinBigData/png1024\"\n",
    "    img_size: int = 1024\n",
    "    seed: int = 111\n",
    "    n_splits: int = 5\n",
    "    iou_thr: float = 0.5\n",
    "    skip_box_thr: float = 0.0001\n",
    "    \n",
    "    # Training config\n",
    "    batch_size: int = 8\n",
    "    patience: int = 10\n",
    "    epochs: int = 20\n",
    "    train_aug_kwargs: Dict[str, Dict[str, Any]] = field(default_factory=lambda: {})\n",
    "    valid_aug_kwargs: Dict[str, Dict[str, Any]] = field(default_factory=lambda: {})\n",
    "    test_aug_kwargs: Dict[str, Dict[str, Any]] = field(default_factory=lambda: {})\n",
    "\n",
    "    def update(self, param_dict: Dict) -> \"Config\":\n",
    "        # Overwrite by `param_dict`\n",
    "        for key, value in param_dict.items():\n",
    "            if not hasattr(self, key):\n",
    "                raise ValueError(f\"[ERROR] Unexpected key for flag = {key}\")\n",
    "            setattr(self, key, value)\n",
    "        return self\n",
    "    \n",
    "    def to_yaml(self, filepath: str, width: int = 120):\n",
    "        with open(filepath, 'w') as f:\n",
    "            yaml.dump(asdict(self), f, width=width)"
   ]
  },
  {
   "cell_type": "code",
   "execution_count": 5,
   "id": "speaking-consumer",
   "metadata": {},
   "outputs": [],
   "source": [
    "config_dict = {\n",
    "    'debug': False,\n",
    "    'batch_size': 25,\n",
    "    'patience': 10,\n",
    "    'epochs': 100,\n",
    "    'iou_thr': 0.4,\n",
    "    'skip_box_thr': 0.0001,\n",
    "    \"train_aug_kwargs\": {\n",
    "        'HorizontalFlip': {'p': 0.5},\n",
    "#         'VerticalFlip': {'p': 0.5},\n",
    "#         'ShiftScaleRotate': {'scale_limit': 0.15, 'rotate_limit': 10, 'p': 0.5},\n",
    "#         'GaussNoise': {'var_limit': 0.002, 'p': 0.5},\n",
    "#         'Blur': {'blur_limit': (3, 10), 'p': 0.5},\n",
    "#         'RandomBrightnessContrast': {'p': 0.5},\n",
    "#         'Cutout': {'num_holes': 20, 'max_h_size': 20, 'max_w_size': 20, 'p': 0.5},\n",
    "        \"Normalize\": {\"mean\": (0.485, 0.456, 0.406), \"std\": (0.229, 0.224, 0.225)}\n",
    "    },\n",
    "    \"valid_aug_kwargs\": {\n",
    "        \"Normalize\": {\"mean\": (0.485, 0.456, 0.406), \"std\": (0.229, 0.224, 0.225)}\n",
    "    },\n",
    "    \"test_aug_kwargs\": {\n",
    "        \"Normalize\": {\"mean\": (0.485, 0.456, 0.406), \"std\": (0.229, 0.224, 0.225)}\n",
    "    },\n",
    "}\n",
    "config = Config().update(config_dict)\n",
    "config.to_yaml(base_dir / config.outdir / 'config.yaml')"
   ]
  },
  {
   "cell_type": "code",
   "execution_count": 6,
   "id": "renewable-parameter",
   "metadata": {},
   "outputs": [],
   "source": [
    "classes_nms = [\n",
    "    \"Aortic enlargement\",\n",
    "    \"Atelectasis\",\n",
    "    \"Calcification\",\n",
    "    \"Cardiomegaly\",\n",
    "    \"Consolidation\",\n",
    "    \"ILD\",\n",
    "    \"Infiltration\",\n",
    "    \"Lung Opacity\",\n",
    "    \"Nodule/Mass\",\n",
    "    \"Other lesion\",\n",
    "    \"Pleural effusion\",\n",
    "    \"Pleural thickening\",\n",
    "    \"Pneumothorax\",\n",
    "    \"Pulmonary fibrosis\"\n",
    "]\n",
    "classes_dict = {index + 1: class_name  for index, class_name in enumerate(classes_nms)} # background (id = 0)"
   ]
  },
  {
   "cell_type": "code",
   "execution_count": 7,
   "id": "filled-fundamental",
   "metadata": {},
   "outputs": [],
   "source": [
    "def load_train_data(filepath: str, meta_filepath: str, img_size: int) -> pd.DataFrame:\n",
    "    train = pd.read_csv(filepath)\n",
    "    train.fillna(0, inplace=True)\n",
    "    train.loc[train[\"class_id\"] == 14, ['x_max', 'y_max']] = 1.0\n",
    "    \n",
    "    train_meta = pd.read_csv(meta_filepath)\n",
    "    \n",
    "    train = pd.merge(train, train_meta, how='left', on='image_id')\n",
    "    \n",
    "    train[f'x_min_{img_size}'] = (img_size / train['dim1'] * train['x_min']).astype(int)\n",
    "    train[f'x_max_{img_size}'] = (img_size / train['dim1'] * train['x_max']).astype(int)\n",
    "    train[f'y_min_{img_size}'] = (img_size / train['dim0'] * train['y_min']).astype(int)\n",
    "    train[f'y_max_{img_size}'] = (img_size / train['dim0'] * train['y_max']).astype(int)\n",
    "    \n",
    "    return train"
   ]
  },
  {
   "cell_type": "code",
   "execution_count": 8,
   "id": "assumed-divide",
   "metadata": {},
   "outputs": [],
   "source": [
    "def collate_fn(batch):\n",
    "    return tuple(zip(*batch))"
   ]
  },
  {
   "cell_type": "code",
   "execution_count": 9,
   "id": "material-sarah",
   "metadata": {},
   "outputs": [],
   "source": [
    "class FasterRCNNVinBigDataset(VinBigDataset):\n",
    "    def __init__(self, dataset_dicts: Dict[str, Any], transform: Transform, train: bool = True):\n",
    "        super().__init__(dataset_dicts=dataset_dicts, transform=transform, train=train)\n",
    "        \n",
    "        for i in range(len(self.dataset_dicts)):\n",
    "            n_annot = len(self.dataset_dicts[i]['annotations'])\n",
    "            for j in range(n_annot):\n",
    "                self.dataset_dicts[i]['annotations'][j]['category_id'] += 1 # background (id = 0)"
   ]
  },
  {
   "cell_type": "code",
   "execution_count": 10,
   "id": "korean-moment",
   "metadata": {},
   "outputs": [],
   "source": [
    "from ensemble_boxes import *\n",
    "\n",
    "\n",
    "def change_wbf(dataset_dict: Dict[str, Any], iou_thr: float, skip_box_thr: float, n_cls: int):\n",
    "    cls_ids = list(range(n_cls))\n",
    "    \n",
    "    height, width = dataset_dict['height'], dataset_dict['width']\n",
    "    \n",
    "    boxes = list()\n",
    "    labels = list()\n",
    "    scores = [1.0] * len(dataset_dict['annotations'])\n",
    "        \n",
    "    for obj in dataset_dict['annotations']:\n",
    "        box = [\n",
    "            obj['bbox'][0] / width,\n",
    "            obj['bbox'][1] / height,\n",
    "            obj['bbox'][2] / width,\n",
    "            obj['bbox'][3] / height\n",
    "        ]\n",
    "        boxes += [box]\n",
    "        labels += [obj['category_id']]\n",
    "    \n",
    "    boxes, scores, labels = weighted_boxes_fusion([boxes], [scores], [labels], weights=None, iou_thr=iou_thr, skip_box_thr=skip_box_thr)\n",
    "    \n",
    "    annots = list()\n",
    "    for box_, label_ in zip(boxes, labels):\n",
    "        annots += [{\n",
    "            'bbox': [\n",
    "                box_[0] * width,\n",
    "                box_[1] * height,\n",
    "                box_[2] * width,\n",
    "                box_[3] * height\n",
    "            ],\n",
    "            'category_id': label_\n",
    "        }]\n",
    "        \n",
    "    return {\n",
    "        'file_name': dataset_dict['file_name'],\n",
    "        'image_id': dataset_dict['image_id'],\n",
    "        'height': height,\n",
    "        'width': width,\n",
    "        'annotations': annots\n",
    "    }"
   ]
  },
  {
   "cell_type": "code",
   "execution_count": 11,
   "id": "reserved-overview",
   "metadata": {},
   "outputs": [],
   "source": [
    "train = load_train_data(filepath=str(base_dir / config.imgconf_file), meta_filepath=str(base_dir / config.meta_file), img_size=config.img_size)\n",
    "# mkf = MultilabelKFoldWrapper(train, n_splits=config.n_splits, seed=config.seed)"
   ]
  },
  {
   "cell_type": "code",
   "execution_count": 12,
   "id": "breeding-discharge",
   "metadata": {},
   "outputs": [
    {
     "name": "stdout",
     "output_type": "stream",
     "text": [
      "Load from cache dataset_dicts_cache_png1024_debug0.pkl\n"
     ]
    }
   ],
   "source": [
    "dataset_dicts = get_vinbigdata_dicts(\n",
    "    imgdir=base_dir / config.imgdir_name,\n",
    "    meta_filepath=base_dir / config.meta_file,\n",
    "    train_df=train,\n",
    "    train_data_type=f'png{config.img_size}',\n",
    "    debug=config.debug,\n",
    ")"
   ]
  },
  {
   "cell_type": "code",
   "execution_count": 13,
   "id": "lucky-trail",
   "metadata": {},
   "outputs": [],
   "source": [
    "# remove no finding\n",
    "dataset_dicts = [dd for dd in dataset_dicts if len(dd['annotations']) > 0]\n",
    "# label cleaning\n",
    "dataset_dicts = [change_wbf(dd, iou_thr=config.iou_thr, skip_box_thr=config.skip_box_thr, n_cls=len(classes_dict)) for dd in dataset_dicts]"
   ]
  },
  {
   "cell_type": "code",
   "execution_count": 14,
   "id": "comfortable-porter",
   "metadata": {},
   "outputs": [],
   "source": [
    "# check outdir\n",
    "assert len([f for f in os.listdir(str(base_dir / config.outdir)) if 'fold' in f]) == 0"
   ]
  },
  {
   "cell_type": "code",
   "execution_count": 15,
   "id": "alert-steal",
   "metadata": {},
   "outputs": [],
   "source": [
    "cols = ['x_min', 'y_min', 'x_max', 'y_max']\n",
    "train_ = train.drop(columns=['x_min', 'y_min', 'x_max', 'y_max']).rename(columns={f'{c}_{config.img_size}': c for c in cols})\n",
    "train_['class_id'] += 1"
   ]
  },
  {
   "cell_type": "code",
   "execution_count": 17,
   "id": "under-cemetery",
   "metadata": {},
   "outputs": [],
   "source": [
    "random.seed(config.seed)\n",
    "rnd_idx = random.sample(list(range(len(dataset_dicts))), len(dataset_dicts))\n",
    "train_idx, valid_idx = rnd_idx[:int(len(rnd_idx) * 0.8)], rnd_idx[int(len(rnd_idx) * 0.8):]"
   ]
  },
  {
   "cell_type": "code",
   "execution_count": 18,
   "id": "elegant-admission",
   "metadata": {
    "tags": []
   },
   "outputs": [
    {
     "name": "stdout",
     "output_type": "stream",
     "text": [
      "Generating image data...\n",
      "Generating category data...\n",
      "Generating annotation data...\n",
      "Generating image data...\n",
      "Generating category data...\n",
      "Generating annotation data...\n"
     ]
    },
    {
     "name": "stderr",
     "output_type": "stream",
     "text": [
      "GPU available: True, used: True\n",
      "TPU available: None, using: 0 TPU cores\n",
      "\n",
      "    | Name                                      | Type                     | Params\n",
      "-----------------------------------------------------------------------------------------\n",
      "0   | model                                     | FasterRCNN               | 41.4 M\n",
      "1   | model.transform                           | GeneralizedRCNNTransform | 0     \n",
      "2   | model.backbone                            | BackboneWithFPN          | 26.8 M\n",
      "3   | model.backbone.body                       | IntermediateLayerGetter  | 23.5 M\n",
      "4   | model.backbone.body.conv1                 | Conv2d                   | 9.4 K \n",
      "5   | model.backbone.body.bn1                   | FrozenBatchNorm2d        | 0     \n",
      "6   | model.backbone.body.relu                  | ReLU                     | 0     \n",
      "7   | model.backbone.body.maxpool               | MaxPool2d                | 0     \n",
      "8   | model.backbone.body.layer1                | Sequential               | 212 K \n",
      "9   | model.backbone.body.layer1.0              | Bottleneck               | 73.7 K\n",
      "10  | model.backbone.body.layer1.0.conv1        | Conv2d                   | 4.1 K \n",
      "11  | model.backbone.body.layer1.0.bn1          | FrozenBatchNorm2d        | 0     \n",
      "12  | model.backbone.body.layer1.0.conv2        | Conv2d                   | 36.9 K\n",
      "13  | model.backbone.body.layer1.0.bn2          | FrozenBatchNorm2d        | 0     \n",
      "14  | model.backbone.body.layer1.0.conv3        | Conv2d                   | 16.4 K\n",
      "15  | model.backbone.body.layer1.0.bn3          | FrozenBatchNorm2d        | 0     \n",
      "16  | model.backbone.body.layer1.0.relu         | ReLU                     | 0     \n",
      "17  | model.backbone.body.layer1.0.downsample   | Sequential               | 16.4 K\n",
      "18  | model.backbone.body.layer1.0.downsample.0 | Conv2d                   | 16.4 K\n",
      "19  | model.backbone.body.layer1.0.downsample.1 | FrozenBatchNorm2d        | 0     \n",
      "20  | model.backbone.body.layer1.1              | Bottleneck               | 69.6 K\n",
      "21  | model.backbone.body.layer1.1.conv1        | Conv2d                   | 16.4 K\n",
      "22  | model.backbone.body.layer1.1.bn1          | FrozenBatchNorm2d        | 0     \n",
      "23  | model.backbone.body.layer1.1.conv2        | Conv2d                   | 36.9 K\n",
      "24  | model.backbone.body.layer1.1.bn2          | FrozenBatchNorm2d        | 0     \n",
      "25  | model.backbone.body.layer1.1.conv3        | Conv2d                   | 16.4 K\n",
      "26  | model.backbone.body.layer1.1.bn3          | FrozenBatchNorm2d        | 0     \n",
      "27  | model.backbone.body.layer1.1.relu         | ReLU                     | 0     \n",
      "28  | model.backbone.body.layer1.2              | Bottleneck               | 69.6 K\n",
      "29  | model.backbone.body.layer1.2.conv1        | Conv2d                   | 16.4 K\n",
      "30  | model.backbone.body.layer1.2.bn1          | FrozenBatchNorm2d        | 0     \n",
      "31  | model.backbone.body.layer1.2.conv2        | Conv2d                   | 36.9 K\n",
      "32  | model.backbone.body.layer1.2.bn2          | FrozenBatchNorm2d        | 0     \n",
      "33  | model.backbone.body.layer1.2.conv3        | Conv2d                   | 16.4 K\n",
      "34  | model.backbone.body.layer1.2.bn3          | FrozenBatchNorm2d        | 0     \n",
      "35  | model.backbone.body.layer1.2.relu         | ReLU                     | 0     \n",
      "36  | model.backbone.body.layer2                | Sequential               | 1.2 M \n",
      "37  | model.backbone.body.layer2.0              | Bottleneck               | 376 K \n",
      "38  | model.backbone.body.layer2.0.conv1        | Conv2d                   | 32.8 K\n",
      "39  | model.backbone.body.layer2.0.bn1          | FrozenBatchNorm2d        | 0     \n",
      "40  | model.backbone.body.layer2.0.conv2        | Conv2d                   | 147 K \n",
      "41  | model.backbone.body.layer2.0.bn2          | FrozenBatchNorm2d        | 0     \n",
      "42  | model.backbone.body.layer2.0.conv3        | Conv2d                   | 65.5 K\n",
      "43  | model.backbone.body.layer2.0.bn3          | FrozenBatchNorm2d        | 0     \n",
      "44  | model.backbone.body.layer2.0.relu         | ReLU                     | 0     \n",
      "45  | model.backbone.body.layer2.0.downsample   | Sequential               | 131 K \n",
      "46  | model.backbone.body.layer2.0.downsample.0 | Conv2d                   | 131 K \n",
      "47  | model.backbone.body.layer2.0.downsample.1 | FrozenBatchNorm2d        | 0     \n",
      "48  | model.backbone.body.layer2.1              | Bottleneck               | 278 K \n",
      "49  | model.backbone.body.layer2.1.conv1        | Conv2d                   | 65.5 K\n",
      "50  | model.backbone.body.layer2.1.bn1          | FrozenBatchNorm2d        | 0     \n",
      "51  | model.backbone.body.layer2.1.conv2        | Conv2d                   | 147 K \n",
      "52  | model.backbone.body.layer2.1.bn2          | FrozenBatchNorm2d        | 0     \n",
      "53  | model.backbone.body.layer2.1.conv3        | Conv2d                   | 65.5 K\n",
      "54  | model.backbone.body.layer2.1.bn3          | FrozenBatchNorm2d        | 0     \n",
      "55  | model.backbone.body.layer2.1.relu         | ReLU                     | 0     \n",
      "56  | model.backbone.body.layer2.2              | Bottleneck               | 278 K \n",
      "57  | model.backbone.body.layer2.2.conv1        | Conv2d                   | 65.5 K\n",
      "58  | model.backbone.body.layer2.2.bn1          | FrozenBatchNorm2d        | 0     \n",
      "59  | model.backbone.body.layer2.2.conv2        | Conv2d                   | 147 K \n",
      "60  | model.backbone.body.layer2.2.bn2          | FrozenBatchNorm2d        | 0     \n",
      "61  | model.backbone.body.layer2.2.conv3        | Conv2d                   | 65.5 K\n",
      "62  | model.backbone.body.layer2.2.bn3          | FrozenBatchNorm2d        | 0     \n",
      "63  | model.backbone.body.layer2.2.relu         | ReLU                     | 0     \n",
      "64  | model.backbone.body.layer2.3              | Bottleneck               | 278 K \n",
      "65  | model.backbone.body.layer2.3.conv1        | Conv2d                   | 65.5 K\n",
      "66  | model.backbone.body.layer2.3.bn1          | FrozenBatchNorm2d        | 0     \n",
      "67  | model.backbone.body.layer2.3.conv2        | Conv2d                   | 147 K \n",
      "68  | model.backbone.body.layer2.3.bn2          | FrozenBatchNorm2d        | 0     \n",
      "69  | model.backbone.body.layer2.3.conv3        | Conv2d                   | 65.5 K\n",
      "70  | model.backbone.body.layer2.3.bn3          | FrozenBatchNorm2d        | 0     \n",
      "71  | model.backbone.body.layer2.3.relu         | ReLU                     | 0     \n",
      "72  | model.backbone.body.layer3                | Sequential               | 7.1 M \n",
      "73  | model.backbone.body.layer3.0              | Bottleneck               | 1.5 M \n",
      "74  | model.backbone.body.layer3.0.conv1        | Conv2d                   | 131 K \n",
      "75  | model.backbone.body.layer3.0.bn1          | FrozenBatchNorm2d        | 0     \n",
      "76  | model.backbone.body.layer3.0.conv2        | Conv2d                   | 589 K \n",
      "77  | model.backbone.body.layer3.0.bn2          | FrozenBatchNorm2d        | 0     \n",
      "78  | model.backbone.body.layer3.0.conv3        | Conv2d                   | 262 K \n",
      "79  | model.backbone.body.layer3.0.bn3          | FrozenBatchNorm2d        | 0     \n",
      "80  | model.backbone.body.layer3.0.relu         | ReLU                     | 0     \n",
      "81  | model.backbone.body.layer3.0.downsample   | Sequential               | 524 K \n",
      "82  | model.backbone.body.layer3.0.downsample.0 | Conv2d                   | 524 K \n",
      "83  | model.backbone.body.layer3.0.downsample.1 | FrozenBatchNorm2d        | 0     \n",
      "84  | model.backbone.body.layer3.1              | Bottleneck               | 1.1 M \n",
      "85  | model.backbone.body.layer3.1.conv1        | Conv2d                   | 262 K \n",
      "86  | model.backbone.body.layer3.1.bn1          | FrozenBatchNorm2d        | 0     \n",
      "87  | model.backbone.body.layer3.1.conv2        | Conv2d                   | 589 K \n",
      "88  | model.backbone.body.layer3.1.bn2          | FrozenBatchNorm2d        | 0     \n",
      "89  | model.backbone.body.layer3.1.conv3        | Conv2d                   | 262 K \n",
      "90  | model.backbone.body.layer3.1.bn3          | FrozenBatchNorm2d        | 0     \n",
      "91  | model.backbone.body.layer3.1.relu         | ReLU                     | 0     \n",
      "92  | model.backbone.body.layer3.2              | Bottleneck               | 1.1 M \n",
      "93  | model.backbone.body.layer3.2.conv1        | Conv2d                   | 262 K \n",
      "94  | model.backbone.body.layer3.2.bn1          | FrozenBatchNorm2d        | 0     \n",
      "95  | model.backbone.body.layer3.2.conv2        | Conv2d                   | 589 K \n",
      "96  | model.backbone.body.layer3.2.bn2          | FrozenBatchNorm2d        | 0     \n",
      "97  | model.backbone.body.layer3.2.conv3        | Conv2d                   | 262 K \n",
      "98  | model.backbone.body.layer3.2.bn3          | FrozenBatchNorm2d        | 0     \n",
      "99  | model.backbone.body.layer3.2.relu         | ReLU                     | 0     \n",
      "100 | model.backbone.body.layer3.3              | Bottleneck               | 1.1 M \n",
      "101 | model.backbone.body.layer3.3.conv1        | Conv2d                   | 262 K \n",
      "102 | model.backbone.body.layer3.3.bn1          | FrozenBatchNorm2d        | 0     \n",
      "103 | model.backbone.body.layer3.3.conv2        | Conv2d                   | 589 K \n",
      "104 | model.backbone.body.layer3.3.bn2          | FrozenBatchNorm2d        | 0     \n",
      "105 | model.backbone.body.layer3.3.conv3        | Conv2d                   | 262 K \n",
      "106 | model.backbone.body.layer3.3.bn3          | FrozenBatchNorm2d        | 0     \n",
      "107 | model.backbone.body.layer3.3.relu         | ReLU                     | 0     \n",
      "108 | model.backbone.body.layer3.4              | Bottleneck               | 1.1 M \n",
      "109 | model.backbone.body.layer3.4.conv1        | Conv2d                   | 262 K \n",
      "110 | model.backbone.body.layer3.4.bn1          | FrozenBatchNorm2d        | 0     \n",
      "111 | model.backbone.body.layer3.4.conv2        | Conv2d                   | 589 K \n",
      "112 | model.backbone.body.layer3.4.bn2          | FrozenBatchNorm2d        | 0     \n",
      "113 | model.backbone.body.layer3.4.conv3        | Conv2d                   | 262 K \n",
      "114 | model.backbone.body.layer3.4.bn3          | FrozenBatchNorm2d        | 0     \n",
      "115 | model.backbone.body.layer3.4.relu         | ReLU                     | 0     \n",
      "116 | model.backbone.body.layer3.5              | Bottleneck               | 1.1 M \n",
      "117 | model.backbone.body.layer3.5.conv1        | Conv2d                   | 262 K \n",
      "118 | model.backbone.body.layer3.5.bn1          | FrozenBatchNorm2d        | 0     \n",
      "119 | model.backbone.body.layer3.5.conv2        | Conv2d                   | 589 K \n",
      "120 | model.backbone.body.layer3.5.bn2          | FrozenBatchNorm2d        | 0     \n",
      "121 | model.backbone.body.layer3.5.conv3        | Conv2d                   | 262 K \n",
      "122 | model.backbone.body.layer3.5.bn3          | FrozenBatchNorm2d        | 0     \n",
      "123 | model.backbone.body.layer3.5.relu         | ReLU                     | 0     \n",
      "124 | model.backbone.body.layer4                | Sequential               | 14.9 M\n",
      "125 | model.backbone.body.layer4.0              | Bottleneck               | 6.0 M \n",
      "126 | model.backbone.body.layer4.0.conv1        | Conv2d                   | 524 K \n",
      "127 | model.backbone.body.layer4.0.bn1          | FrozenBatchNorm2d        | 0     \n",
      "128 | model.backbone.body.layer4.0.conv2        | Conv2d                   | 2.4 M \n",
      "129 | model.backbone.body.layer4.0.bn2          | FrozenBatchNorm2d        | 0     \n",
      "130 | model.backbone.body.layer4.0.conv3        | Conv2d                   | 1.0 M \n",
      "131 | model.backbone.body.layer4.0.bn3          | FrozenBatchNorm2d        | 0     \n",
      "132 | model.backbone.body.layer4.0.relu         | ReLU                     | 0     \n",
      "133 | model.backbone.body.layer4.0.downsample   | Sequential               | 2.1 M \n",
      "134 | model.backbone.body.layer4.0.downsample.0 | Conv2d                   | 2.1 M \n",
      "135 | model.backbone.body.layer4.0.downsample.1 | FrozenBatchNorm2d        | 0     \n",
      "136 | model.backbone.body.layer4.1              | Bottleneck               | 4.5 M \n",
      "137 | model.backbone.body.layer4.1.conv1        | Conv2d                   | 1.0 M \n",
      "138 | model.backbone.body.layer4.1.bn1          | FrozenBatchNorm2d        | 0     \n",
      "139 | model.backbone.body.layer4.1.conv2        | Conv2d                   | 2.4 M \n",
      "140 | model.backbone.body.layer4.1.bn2          | FrozenBatchNorm2d        | 0     \n",
      "141 | model.backbone.body.layer4.1.conv3        | Conv2d                   | 1.0 M \n",
      "142 | model.backbone.body.layer4.1.bn3          | FrozenBatchNorm2d        | 0     \n",
      "143 | model.backbone.body.layer4.1.relu         | ReLU                     | 0     \n",
      "144 | model.backbone.body.layer4.2              | Bottleneck               | 4.5 M \n",
      "145 | model.backbone.body.layer4.2.conv1        | Conv2d                   | 1.0 M \n",
      "146 | model.backbone.body.layer4.2.bn1          | FrozenBatchNorm2d        | 0     \n",
      "147 | model.backbone.body.layer4.2.conv2        | Conv2d                   | 2.4 M \n",
      "148 | model.backbone.body.layer4.2.bn2          | FrozenBatchNorm2d        | 0     \n",
      "149 | model.backbone.body.layer4.2.conv3        | Conv2d                   | 1.0 M \n",
      "150 | model.backbone.body.layer4.2.bn3          | FrozenBatchNorm2d        | 0     \n",
      "151 | model.backbone.body.layer4.2.relu         | ReLU                     | 0     \n",
      "152 | model.backbone.fpn                        | FeaturePyramidNetwork    | 3.3 M \n",
      "153 | model.backbone.fpn.inner_blocks           | ModuleList               | 984 K \n",
      "154 | model.backbone.fpn.inner_blocks.0         | Conv2d                   | 65.8 K\n",
      "155 | model.backbone.fpn.inner_blocks.1         | Conv2d                   | 131 K \n",
      "156 | model.backbone.fpn.inner_blocks.2         | Conv2d                   | 262 K \n",
      "157 | model.backbone.fpn.inner_blocks.3         | Conv2d                   | 524 K \n",
      "158 | model.backbone.fpn.layer_blocks           | ModuleList               | 2.4 M \n",
      "159 | model.backbone.fpn.layer_blocks.0         | Conv2d                   | 590 K \n",
      "160 | model.backbone.fpn.layer_blocks.1         | Conv2d                   | 590 K \n",
      "161 | model.backbone.fpn.layer_blocks.2         | Conv2d                   | 590 K \n",
      "162 | model.backbone.fpn.layer_blocks.3         | Conv2d                   | 590 K \n",
      "163 | model.backbone.fpn.extra_blocks           | LastLevelMaxPool         | 0     \n",
      "164 | model.rpn                                 | RegionProposalNetwork    | 593 K \n",
      "165 | model.rpn.anchor_generator                | AnchorGenerator          | 0     \n",
      "166 | model.rpn.head                            | RPNHead                  | 593 K \n",
      "167 | model.rpn.head.conv                       | Conv2d                   | 590 K \n",
      "168 | model.rpn.head.cls_logits                 | Conv2d                   | 771   \n",
      "169 | model.rpn.head.bbox_pred                  | Conv2d                   | 3.1 K \n",
      "170 | model.roi_heads                           | RoIHeads                 | 14.0 M\n",
      "171 | model.roi_heads.box_roi_pool              | MultiScaleRoIAlign       | 0     \n",
      "172 | model.roi_heads.box_head                  | TwoMLPHead               | 13.9 M\n",
      "173 | model.roi_heads.box_head.fc6              | Linear                   | 12.8 M\n",
      "174 | model.roi_heads.box_head.fc7              | Linear                   | 1.0 M \n",
      "175 | model.roi_heads.box_predictor             | FastRCNNPredictor        | 76.9 K\n",
      "176 | model.roi_heads.box_predictor.cls_score   | Linear                   | 15.4 K\n",
      "177 | model.roi_heads.box_predictor.bbox_pred   | Linear                   | 61.5 K\n",
      "-----------------------------------------------------------------------------------------\n",
      "41.1 M    Trainable params\n",
      "222 K     Non-trainable params\n",
      "41.4 M    Total params\n",
      "165.463   Total estimated model params size (MB)\n"
     ]
    },
    {
     "data": {
      "application/vnd.jupyter.widget-view+json": {
       "model_id": "",
       "version_major": 2,
       "version_minor": 0
      },
      "text/plain": [
       "Validation sanity check: 0it [00:00, ?it/s]"
      ]
     },
     "metadata": {},
     "output_type": "display_data"
    },
    {
     "name": "stdout",
     "output_type": "stream",
     "text": [
      "Generating prediction data...\n",
      "creating index...\n",
      "index created!\n",
      "creating index...\n",
      "index created!\n",
      "Running per image evaluation...\n",
      "Evaluate annotation type *bbox*\n",
      "DONE (t=0.73s).\n",
      "Accumulating evaluation results...\n",
      "DONE (t=0.11s).\n",
      "Average Precision  (AP) @[ IoU=0.40:0.40 | area=   all | maxDets=100 ] = 0.000\n",
      "Average Precision  (AP) @[ IoU=0.50      | area=   all | maxDets=100 ] = -1.000\n",
      "Average Precision  (AP) @[ IoU=0.75      | area=   all | maxDets=100 ] = -1.000\n",
      "Average Precision  (AP) @[ IoU=0.40:0.40 | area= small | maxDets=100 ] = 0.000\n",
      "Average Precision  (AP) @[ IoU=0.40:0.40 | area=medium | maxDets=100 ] = 0.000\n",
      "Average Precision  (AP) @[ IoU=0.40:0.40 | area= large | maxDets=100 ] = 0.000\n",
      "Average Recall     (AR) @[ IoU=0.40:0.40 | area=   all | maxDets=  1 ] = 0.000\n",
      "Average Recall     (AR) @[ IoU=0.40:0.40 | area=   all | maxDets= 10 ] = 0.000\n",
      "Average Recall     (AR) @[ IoU=0.40:0.40 | area=   all | maxDets=100 ] = 0.000\n",
      "Average Recall     (AR) @[ IoU=0.40:0.40 | area= small | maxDets=100 ] = 0.000\n",
      "Average Recall     (AR) @[ IoU=0.40:0.40 | area=medium | maxDets=100 ] = 0.000\n",
      "Average Recall     (AR) @[ IoU=0.40:0.40 | area= large | maxDets=100 ] = 0.000\n"
     ]
    },
    {
     "data": {
      "application/vnd.jupyter.widget-view+json": {
       "model_id": "11e5712ea1274311b86fbc19122c3235",
       "version_major": 2,
       "version_minor": 0
      },
      "text/plain": [
       "Training: 0it [00:00, ?it/s]"
      ]
     },
     "metadata": {},
     "output_type": "display_data"
    },
    {
     "data": {
      "application/vnd.jupyter.widget-view+json": {
       "model_id": "",
       "version_major": 2,
       "version_minor": 0
      },
      "text/plain": [
       "Validating: 0it [00:00, ?it/s]"
      ]
     },
     "metadata": {},
     "output_type": "display_data"
    },
    {
     "name": "stdout",
     "output_type": "stream",
     "text": [
      "Generating prediction data...\n",
      "creating index...\n",
      "index created!\n",
      "creating index...\n",
      "index created!\n",
      "Running per image evaluation...\n",
      "Evaluate annotation type *bbox*\n",
      "DONE (t=0.75s).\n",
      "Accumulating evaluation results...\n",
      "DONE (t=0.11s).\n",
      "Average Precision  (AP) @[ IoU=0.40:0.40 | area=   all | maxDets=100 ] = 0.008\n",
      "Average Precision  (AP) @[ IoU=0.50      | area=   all | maxDets=100 ] = -1.000\n",
      "Average Precision  (AP) @[ IoU=0.75      | area=   all | maxDets=100 ] = -1.000\n",
      "Average Precision  (AP) @[ IoU=0.40:0.40 | area= small | maxDets=100 ] = 0.000\n",
      "Average Precision  (AP) @[ IoU=0.40:0.40 | area=medium | maxDets=100 ] = 0.000\n",
      "Average Precision  (AP) @[ IoU=0.40:0.40 | area= large | maxDets=100 ] = 0.009\n",
      "Average Recall     (AR) @[ IoU=0.40:0.40 | area=   all | maxDets=  1 ] = 0.008\n",
      "Average Recall     (AR) @[ IoU=0.40:0.40 | area=   all | maxDets= 10 ] = 0.015\n",
      "Average Recall     (AR) @[ IoU=0.40:0.40 | area=   all | maxDets=100 ] = 0.015\n",
      "Average Recall     (AR) @[ IoU=0.40:0.40 | area= small | maxDets=100 ] = 0.000\n",
      "Average Recall     (AR) @[ IoU=0.40:0.40 | area=medium | maxDets=100 ] = 0.002\n",
      "Average Recall     (AR) @[ IoU=0.40:0.40 | area= large | maxDets=100 ] = 0.016\n"
     ]
    },
    {
     "data": {
      "application/vnd.jupyter.widget-view+json": {
       "model_id": "",
       "version_major": 2,
       "version_minor": 0
      },
      "text/plain": [
       "Validating: 0it [00:00, ?it/s]"
      ]
     },
     "metadata": {},
     "output_type": "display_data"
    },
    {
     "name": "stdout",
     "output_type": "stream",
     "text": [
      "Generating prediction data...\n",
      "creating index...\n",
      "index created!\n",
      "creating index...\n",
      "index created!\n",
      "Running per image evaluation...\n",
      "Evaluate annotation type *bbox*\n",
      "DONE (t=1.32s).\n",
      "Accumulating evaluation results...\n",
      "DONE (t=0.23s).\n",
      "Average Precision  (AP) @[ IoU=0.40:0.40 | area=   all | maxDets=100 ] = 0.076\n",
      "Average Precision  (AP) @[ IoU=0.50      | area=   all | maxDets=100 ] = -1.000\n",
      "Average Precision  (AP) @[ IoU=0.75      | area=   all | maxDets=100 ] = -1.000\n",
      "Average Precision  (AP) @[ IoU=0.40:0.40 | area= small | maxDets=100 ] = 0.148\n",
      "Average Precision  (AP) @[ IoU=0.40:0.40 | area=medium | maxDets=100 ] = 0.106\n",
      "Average Precision  (AP) @[ IoU=0.40:0.40 | area= large | maxDets=100 ] = 0.091\n",
      "Average Recall     (AR) @[ IoU=0.40:0.40 | area=   all | maxDets=  1 ] = 0.084\n",
      "Average Recall     (AR) @[ IoU=0.40:0.40 | area=   all | maxDets= 10 ] = 0.217\n",
      "Average Recall     (AR) @[ IoU=0.40:0.40 | area=   all | maxDets=100 ] = 0.223\n",
      "Average Recall     (AR) @[ IoU=0.40:0.40 | area= small | maxDets=100 ] = 0.148\n",
      "Average Recall     (AR) @[ IoU=0.40:0.40 | area=medium | maxDets=100 ] = 0.160\n",
      "Average Recall     (AR) @[ IoU=0.40:0.40 | area= large | maxDets=100 ] = 0.238\n"
     ]
    },
    {
     "data": {
      "application/vnd.jupyter.widget-view+json": {
       "model_id": "",
       "version_major": 2,
       "version_minor": 0
      },
      "text/plain": [
       "Validating: 0it [00:00, ?it/s]"
      ]
     },
     "metadata": {},
     "output_type": "display_data"
    },
    {
     "name": "stdout",
     "output_type": "stream",
     "text": [
      "Generating prediction data...\n",
      "creating index...\n",
      "index created!\n",
      "creating index...\n",
      "index created!\n",
      "Running per image evaluation...\n",
      "Evaluate annotation type *bbox*\n",
      "DONE (t=1.65s).\n",
      "Accumulating evaluation results...\n",
      "DONE (t=0.26s).\n",
      "Average Precision  (AP) @[ IoU=0.40:0.40 | area=   all | maxDets=100 ] = 0.117\n",
      "Average Precision  (AP) @[ IoU=0.50      | area=   all | maxDets=100 ] = -1.000\n",
      "Average Precision  (AP) @[ IoU=0.75      | area=   all | maxDets=100 ] = -1.000\n",
      "Average Precision  (AP) @[ IoU=0.40:0.40 | area= small | maxDets=100 ] = 0.118\n",
      "Average Precision  (AP) @[ IoU=0.40:0.40 | area=medium | maxDets=100 ] = 0.146\n",
      "Average Precision  (AP) @[ IoU=0.40:0.40 | area= large | maxDets=100 ] = 0.152\n",
      "Average Recall     (AR) @[ IoU=0.40:0.40 | area=   all | maxDets=  1 ] = 0.127\n",
      "Average Recall     (AR) @[ IoU=0.40:0.40 | area=   all | maxDets= 10 ] = 0.301\n",
      "Average Recall     (AR) @[ IoU=0.40:0.40 | area=   all | maxDets=100 ] = 0.307\n",
      "Average Recall     (AR) @[ IoU=0.40:0.40 | area= small | maxDets=100 ] = 0.313\n",
      "Average Recall     (AR) @[ IoU=0.40:0.40 | area=medium | maxDets=100 ] = 0.263\n",
      "Average Recall     (AR) @[ IoU=0.40:0.40 | area= large | maxDets=100 ] = 0.287\n"
     ]
    },
    {
     "data": {
      "application/vnd.jupyter.widget-view+json": {
       "model_id": "",
       "version_major": 2,
       "version_minor": 0
      },
      "text/plain": [
       "Validating: 0it [00:00, ?it/s]"
      ]
     },
     "metadata": {},
     "output_type": "display_data"
    },
    {
     "name": "stdout",
     "output_type": "stream",
     "text": [
      "Generating prediction data...\n",
      "creating index...\n",
      "index created!\n",
      "creating index...\n",
      "index created!\n",
      "Running per image evaluation...\n",
      "Evaluate annotation type *bbox*\n",
      "DONE (t=1.56s).\n",
      "Accumulating evaluation results...\n",
      "DONE (t=0.54s).\n",
      "Average Precision  (AP) @[ IoU=0.40:0.40 | area=   all | maxDets=100 ] = 0.170\n",
      "Average Precision  (AP) @[ IoU=0.50      | area=   all | maxDets=100 ] = -1.000\n",
      "Average Precision  (AP) @[ IoU=0.75      | area=   all | maxDets=100 ] = -1.000\n",
      "Average Precision  (AP) @[ IoU=0.40:0.40 | area= small | maxDets=100 ] = 0.280\n",
      "Average Precision  (AP) @[ IoU=0.40:0.40 | area=medium | maxDets=100 ] = 0.251\n",
      "Average Precision  (AP) @[ IoU=0.40:0.40 | area= large | maxDets=100 ] = 0.210\n",
      "Average Recall     (AR) @[ IoU=0.40:0.40 | area=   all | maxDets=  1 ] = 0.190\n",
      "Average Recall     (AR) @[ IoU=0.40:0.40 | area=   all | maxDets= 10 ] = 0.488\n",
      "Average Recall     (AR) @[ IoU=0.40:0.40 | area=   all | maxDets=100 ] = 0.500\n",
      "Average Recall     (AR) @[ IoU=0.40:0.40 | area= small | maxDets=100 ] = 0.464\n",
      "Average Recall     (AR) @[ IoU=0.40:0.40 | area=medium | maxDets=100 ] = 0.390\n",
      "Average Recall     (AR) @[ IoU=0.40:0.40 | area= large | maxDets=100 ] = 0.496\n"
     ]
    },
    {
     "data": {
      "application/vnd.jupyter.widget-view+json": {
       "model_id": "",
       "version_major": 2,
       "version_minor": 0
      },
      "text/plain": [
       "Validating: 0it [00:00, ?it/s]"
      ]
     },
     "metadata": {},
     "output_type": "display_data"
    },
    {
     "name": "stdout",
     "output_type": "stream",
     "text": [
      "Generating prediction data...\n",
      "creating index...\n",
      "index created!\n",
      "creating index...\n",
      "index created!\n",
      "Running per image evaluation...\n",
      "Evaluate annotation type *bbox*\n",
      "DONE (t=1.88s).\n",
      "Accumulating evaluation results...\n",
      "DONE (t=0.35s).\n",
      "Average Precision  (AP) @[ IoU=0.40:0.40 | area=   all | maxDets=100 ] = 0.212\n",
      "Average Precision  (AP) @[ IoU=0.50      | area=   all | maxDets=100 ] = -1.000\n",
      "Average Precision  (AP) @[ IoU=0.75      | area=   all | maxDets=100 ] = -1.000\n",
      "Average Precision  (AP) @[ IoU=0.40:0.40 | area= small | maxDets=100 ] = 0.294\n",
      "Average Precision  (AP) @[ IoU=0.40:0.40 | area=medium | maxDets=100 ] = 0.230\n",
      "Average Precision  (AP) @[ IoU=0.40:0.40 | area= large | maxDets=100 ] = 0.275\n",
      "Average Recall     (AR) @[ IoU=0.40:0.40 | area=   all | maxDets=  1 ] = 0.242\n",
      "Average Recall     (AR) @[ IoU=0.40:0.40 | area=   all | maxDets= 10 ] = 0.579\n",
      "Average Recall     (AR) @[ IoU=0.40:0.40 | area=   all | maxDets=100 ] = 0.594\n",
      "Average Recall     (AR) @[ IoU=0.40:0.40 | area= small | maxDets=100 ] = 0.539\n",
      "Average Recall     (AR) @[ IoU=0.40:0.40 | area=medium | maxDets=100 ] = 0.474\n",
      "Average Recall     (AR) @[ IoU=0.40:0.40 | area= large | maxDets=100 ] = 0.593\n"
     ]
    },
    {
     "data": {
      "application/vnd.jupyter.widget-view+json": {
       "model_id": "",
       "version_major": 2,
       "version_minor": 0
      },
      "text/plain": [
       "Validating: 0it [00:00, ?it/s]"
      ]
     },
     "metadata": {},
     "output_type": "display_data"
    },
    {
     "name": "stdout",
     "output_type": "stream",
     "text": [
      "Generating prediction data...\n",
      "creating index...\n",
      "index created!\n",
      "creating index...\n",
      "index created!\n",
      "Running per image evaluation...\n",
      "Evaluate annotation type *bbox*\n",
      "DONE (t=1.79s).\n",
      "Accumulating evaluation results...\n",
      "DONE (t=0.33s).\n",
      "Average Precision  (AP) @[ IoU=0.40:0.40 | area=   all | maxDets=100 ] = 0.251\n",
      "Average Precision  (AP) @[ IoU=0.50      | area=   all | maxDets=100 ] = -1.000\n",
      "Average Precision  (AP) @[ IoU=0.75      | area=   all | maxDets=100 ] = -1.000\n",
      "Average Precision  (AP) @[ IoU=0.40:0.40 | area= small | maxDets=100 ] = 0.335\n",
      "Average Precision  (AP) @[ IoU=0.40:0.40 | area=medium | maxDets=100 ] = 0.199\n",
      "Average Precision  (AP) @[ IoU=0.40:0.40 | area= large | maxDets=100 ] = 0.322\n",
      "Average Recall     (AR) @[ IoU=0.40:0.40 | area=   all | maxDets=  1 ] = 0.278\n",
      "Average Recall     (AR) @[ IoU=0.40:0.40 | area=   all | maxDets= 10 ] = 0.580\n",
      "Average Recall     (AR) @[ IoU=0.40:0.40 | area=   all | maxDets=100 ] = 0.599\n",
      "Average Recall     (AR) @[ IoU=0.40:0.40 | area= small | maxDets=100 ] = 0.486\n",
      "Average Recall     (AR) @[ IoU=0.40:0.40 | area=medium | maxDets=100 ] = 0.475\n",
      "Average Recall     (AR) @[ IoU=0.40:0.40 | area= large | maxDets=100 ] = 0.618\n"
     ]
    },
    {
     "data": {
      "application/vnd.jupyter.widget-view+json": {
       "model_id": "",
       "version_major": 2,
       "version_minor": 0
      },
      "text/plain": [
       "Validating: 0it [00:00, ?it/s]"
      ]
     },
     "metadata": {},
     "output_type": "display_data"
    },
    {
     "name": "stdout",
     "output_type": "stream",
     "text": [
      "Generating prediction data...\n",
      "creating index...\n",
      "index created!\n",
      "creating index...\n",
      "index created!\n",
      "Running per image evaluation...\n",
      "Evaluate annotation type *bbox*\n",
      "DONE (t=1.99s).\n",
      "Accumulating evaluation results...\n",
      "DONE (t=0.32s).\n",
      "Average Precision  (AP) @[ IoU=0.40:0.40 | area=   all | maxDets=100 ] = 0.275\n",
      "Average Precision  (AP) @[ IoU=0.50      | area=   all | maxDets=100 ] = -1.000\n",
      "Average Precision  (AP) @[ IoU=0.75      | area=   all | maxDets=100 ] = -1.000\n",
      "Average Precision  (AP) @[ IoU=0.40:0.40 | area= small | maxDets=100 ] = 0.376\n",
      "Average Precision  (AP) @[ IoU=0.40:0.40 | area=medium | maxDets=100 ] = 0.291\n",
      "Average Precision  (AP) @[ IoU=0.40:0.40 | area= large | maxDets=100 ] = 0.338\n",
      "Average Recall     (AR) @[ IoU=0.40:0.40 | area=   all | maxDets=  1 ] = 0.283\n",
      "Average Recall     (AR) @[ IoU=0.40:0.40 | area=   all | maxDets= 10 ] = 0.640\n",
      "Average Recall     (AR) @[ IoU=0.40:0.40 | area=   all | maxDets=100 ] = 0.655\n",
      "Average Recall     (AR) @[ IoU=0.40:0.40 | area= small | maxDets=100 ] = 0.547\n",
      "Average Recall     (AR) @[ IoU=0.40:0.40 | area=medium | maxDets=100 ] = 0.542\n",
      "Average Recall     (AR) @[ IoU=0.40:0.40 | area= large | maxDets=100 ] = 0.672\n"
     ]
    },
    {
     "data": {
      "application/vnd.jupyter.widget-view+json": {
       "model_id": "",
       "version_major": 2,
       "version_minor": 0
      },
      "text/plain": [
       "Validating: 0it [00:00, ?it/s]"
      ]
     },
     "metadata": {},
     "output_type": "display_data"
    },
    {
     "name": "stdout",
     "output_type": "stream",
     "text": [
      "Generating prediction data...\n",
      "creating index...\n",
      "index created!\n",
      "creating index...\n",
      "index created!\n",
      "Running per image evaluation...\n",
      "Evaluate annotation type *bbox*\n",
      "DONE (t=1.63s).\n",
      "Accumulating evaluation results...\n",
      "DONE (t=0.37s).\n",
      "Average Precision  (AP) @[ IoU=0.40:0.40 | area=   all | maxDets=100 ] = 0.298\n",
      "Average Precision  (AP) @[ IoU=0.50      | area=   all | maxDets=100 ] = -1.000\n",
      "Average Precision  (AP) @[ IoU=0.75      | area=   all | maxDets=100 ] = -1.000\n",
      "Average Precision  (AP) @[ IoU=0.40:0.40 | area= small | maxDets=100 ] = 0.281\n",
      "Average Precision  (AP) @[ IoU=0.40:0.40 | area=medium | maxDets=100 ] = 0.242\n",
      "Average Precision  (AP) @[ IoU=0.40:0.40 | area= large | maxDets=100 ] = 0.375\n",
      "Average Recall     (AR) @[ IoU=0.40:0.40 | area=   all | maxDets=  1 ] = 0.280\n",
      "Average Recall     (AR) @[ IoU=0.40:0.40 | area=   all | maxDets= 10 ] = 0.608\n",
      "Average Recall     (AR) @[ IoU=0.40:0.40 | area=   all | maxDets=100 ] = 0.625\n",
      "Average Recall     (AR) @[ IoU=0.40:0.40 | area= small | maxDets=100 ] = 0.550\n",
      "Average Recall     (AR) @[ IoU=0.40:0.40 | area=medium | maxDets=100 ] = 0.488\n",
      "Average Recall     (AR) @[ IoU=0.40:0.40 | area= large | maxDets=100 ] = 0.644\n"
     ]
    },
    {
     "data": {
      "application/vnd.jupyter.widget-view+json": {
       "model_id": "",
       "version_major": 2,
       "version_minor": 0
      },
      "text/plain": [
       "Validating: 0it [00:00, ?it/s]"
      ]
     },
     "metadata": {},
     "output_type": "display_data"
    },
    {
     "name": "stdout",
     "output_type": "stream",
     "text": [
      "Generating prediction data...\n",
      "creating index...\n",
      "index created!\n",
      "creating index...\n",
      "index created!\n",
      "Running per image evaluation...\n",
      "Evaluate annotation type *bbox*\n",
      "DONE (t=2.21s).\n",
      "Accumulating evaluation results...\n",
      "DONE (t=0.38s).\n",
      "Average Precision  (AP) @[ IoU=0.40:0.40 | area=   all | maxDets=100 ] = 0.297\n",
      "Average Precision  (AP) @[ IoU=0.50      | area=   all | maxDets=100 ] = -1.000\n",
      "Average Precision  (AP) @[ IoU=0.75      | area=   all | maxDets=100 ] = -1.000\n",
      "Average Precision  (AP) @[ IoU=0.40:0.40 | area= small | maxDets=100 ] = 0.327\n",
      "Average Precision  (AP) @[ IoU=0.40:0.40 | area=medium | maxDets=100 ] = 0.313\n",
      "Average Precision  (AP) @[ IoU=0.40:0.40 | area= large | maxDets=100 ] = 0.346\n",
      "Average Recall     (AR) @[ IoU=0.40:0.40 | area=   all | maxDets=  1 ] = 0.300\n",
      "Average Recall     (AR) @[ IoU=0.40:0.40 | area=   all | maxDets= 10 ] = 0.707\n",
      "Average Recall     (AR) @[ IoU=0.40:0.40 | area=   all | maxDets=100 ] = 0.719\n",
      "Average Recall     (AR) @[ IoU=0.40:0.40 | area= small | maxDets=100 ] = 0.495\n",
      "Average Recall     (AR) @[ IoU=0.40:0.40 | area=medium | maxDets=100 ] = 0.583\n",
      "Average Recall     (AR) @[ IoU=0.40:0.40 | area= large | maxDets=100 ] = 0.756\n"
     ]
    },
    {
     "data": {
      "application/vnd.jupyter.widget-view+json": {
       "model_id": "",
       "version_major": 2,
       "version_minor": 0
      },
      "text/plain": [
       "Validating: 0it [00:00, ?it/s]"
      ]
     },
     "metadata": {},
     "output_type": "display_data"
    },
    {
     "name": "stdout",
     "output_type": "stream",
     "text": [
      "Generating prediction data...\n",
      "creating index...\n",
      "index created!\n",
      "creating index...\n",
      "index created!\n",
      "Running per image evaluation...\n",
      "Evaluate annotation type *bbox*\n",
      "DONE (t=2.28s).\n",
      "Accumulating evaluation results...\n",
      "DONE (t=0.51s).\n",
      "Average Precision  (AP) @[ IoU=0.40:0.40 | area=   all | maxDets=100 ] = 0.308\n",
      "Average Precision  (AP) @[ IoU=0.50      | area=   all | maxDets=100 ] = -1.000\n",
      "Average Precision  (AP) @[ IoU=0.75      | area=   all | maxDets=100 ] = -1.000\n",
      "Average Precision  (AP) @[ IoU=0.40:0.40 | area= small | maxDets=100 ] = 0.274\n",
      "Average Precision  (AP) @[ IoU=0.40:0.40 | area=medium | maxDets=100 ] = 0.343\n",
      "Average Precision  (AP) @[ IoU=0.40:0.40 | area= large | maxDets=100 ] = 0.375\n",
      "Average Recall     (AR) @[ IoU=0.40:0.40 | area=   all | maxDets=  1 ] = 0.304\n",
      "Average Recall     (AR) @[ IoU=0.40:0.40 | area=   all | maxDets= 10 ] = 0.739\n",
      "Average Recall     (AR) @[ IoU=0.40:0.40 | area=   all | maxDets=100 ] = 0.766\n",
      "Average Recall     (AR) @[ IoU=0.40:0.40 | area= small | maxDets=100 ] = 0.720\n",
      "Average Recall     (AR) @[ IoU=0.40:0.40 | area=medium | maxDets=100 ] = 0.648\n",
      "Average Recall     (AR) @[ IoU=0.40:0.40 | area= large | maxDets=100 ] = 0.773\n"
     ]
    },
    {
     "data": {
      "application/vnd.jupyter.widget-view+json": {
       "model_id": "",
       "version_major": 2,
       "version_minor": 0
      },
      "text/plain": [
       "Validating: 0it [00:00, ?it/s]"
      ]
     },
     "metadata": {},
     "output_type": "display_data"
    },
    {
     "name": "stdout",
     "output_type": "stream",
     "text": [
      "Generating prediction data...\n",
      "creating index...\n",
      "index created!\n",
      "creating index...\n",
      "index created!\n",
      "Running per image evaluation...\n",
      "Evaluate annotation type *bbox*\n",
      "DONE (t=1.94s).\n",
      "Accumulating evaluation results...\n",
      "DONE (t=0.37s).\n",
      "Average Precision  (AP) @[ IoU=0.40:0.40 | area=   all | maxDets=100 ] = 0.324\n",
      "Average Precision  (AP) @[ IoU=0.50      | area=   all | maxDets=100 ] = -1.000\n",
      "Average Precision  (AP) @[ IoU=0.75      | area=   all | maxDets=100 ] = -1.000\n",
      "Average Precision  (AP) @[ IoU=0.40:0.40 | area= small | maxDets=100 ] = 0.385\n",
      "Average Precision  (AP) @[ IoU=0.40:0.40 | area=medium | maxDets=100 ] = 0.307\n",
      "Average Precision  (AP) @[ IoU=0.40:0.40 | area= large | maxDets=100 ] = 0.370\n",
      "Average Recall     (AR) @[ IoU=0.40:0.40 | area=   all | maxDets=  1 ] = 0.312\n",
      "Average Recall     (AR) @[ IoU=0.40:0.40 | area=   all | maxDets= 10 ] = 0.720\n",
      "Average Recall     (AR) @[ IoU=0.40:0.40 | area=   all | maxDets=100 ] = 0.735\n",
      "Average Recall     (AR) @[ IoU=0.40:0.40 | area= small | maxDets=100 ] = 0.654\n",
      "Average Recall     (AR) @[ IoU=0.40:0.40 | area=medium | maxDets=100 ] = 0.656\n",
      "Average Recall     (AR) @[ IoU=0.40:0.40 | area= large | maxDets=100 ] = 0.733\n"
     ]
    },
    {
     "data": {
      "application/vnd.jupyter.widget-view+json": {
       "model_id": "",
       "version_major": 2,
       "version_minor": 0
      },
      "text/plain": [
       "Validating: 0it [00:00, ?it/s]"
      ]
     },
     "metadata": {},
     "output_type": "display_data"
    },
    {
     "name": "stdout",
     "output_type": "stream",
     "text": [
      "Generating prediction data...\n",
      "creating index...\n",
      "index created!\n",
      "creating index...\n",
      "index created!\n",
      "Running per image evaluation...\n",
      "Evaluate annotation type *bbox*\n",
      "DONE (t=2.37s).\n",
      "Accumulating evaluation results...\n",
      "DONE (t=0.42s).\n",
      "Average Precision  (AP) @[ IoU=0.40:0.40 | area=   all | maxDets=100 ] = 0.320\n",
      "Average Precision  (AP) @[ IoU=0.50      | area=   all | maxDets=100 ] = -1.000\n",
      "Average Precision  (AP) @[ IoU=0.75      | area=   all | maxDets=100 ] = -1.000\n",
      "Average Precision  (AP) @[ IoU=0.40:0.40 | area= small | maxDets=100 ] = 0.319\n",
      "Average Precision  (AP) @[ IoU=0.40:0.40 | area=medium | maxDets=100 ] = 0.334\n",
      "Average Precision  (AP) @[ IoU=0.40:0.40 | area= large | maxDets=100 ] = 0.386\n",
      "Average Recall     (AR) @[ IoU=0.40:0.40 | area=   all | maxDets=  1 ] = 0.323\n",
      "Average Recall     (AR) @[ IoU=0.40:0.40 | area=   all | maxDets= 10 ] = 0.752\n",
      "Average Recall     (AR) @[ IoU=0.40:0.40 | area=   all | maxDets=100 ] = 0.774\n",
      "Average Recall     (AR) @[ IoU=0.40:0.40 | area= small | maxDets=100 ] = 0.717\n",
      "Average Recall     (AR) @[ IoU=0.40:0.40 | area=medium | maxDets=100 ] = 0.710\n",
      "Average Recall     (AR) @[ IoU=0.40:0.40 | area= large | maxDets=100 ] = 0.776\n"
     ]
    },
    {
     "data": {
      "application/vnd.jupyter.widget-view+json": {
       "model_id": "",
       "version_major": 2,
       "version_minor": 0
      },
      "text/plain": [
       "Validating: 0it [00:00, ?it/s]"
      ]
     },
     "metadata": {},
     "output_type": "display_data"
    },
    {
     "name": "stdout",
     "output_type": "stream",
     "text": [
      "Generating prediction data...\n",
      "creating index...\n",
      "index created!\n",
      "creating index...\n",
      "index created!\n",
      "Running per image evaluation...\n",
      "Evaluate annotation type *bbox*\n",
      "DONE (t=1.77s).\n",
      "Accumulating evaluation results...\n",
      "DONE (t=0.34s).\n",
      "Average Precision  (AP) @[ IoU=0.40:0.40 | area=   all | maxDets=100 ] = 0.327\n",
      "Average Precision  (AP) @[ IoU=0.50      | area=   all | maxDets=100 ] = -1.000\n",
      "Average Precision  (AP) @[ IoU=0.75      | area=   all | maxDets=100 ] = -1.000\n",
      "Average Precision  (AP) @[ IoU=0.40:0.40 | area= small | maxDets=100 ] = 0.319\n",
      "Average Precision  (AP) @[ IoU=0.40:0.40 | area=medium | maxDets=100 ] = 0.362\n",
      "Average Precision  (AP) @[ IoU=0.40:0.40 | area= large | maxDets=100 ] = 0.397\n",
      "Average Recall     (AR) @[ IoU=0.40:0.40 | area=   all | maxDets=  1 ] = 0.329\n",
      "Average Recall     (AR) @[ IoU=0.40:0.40 | area=   all | maxDets= 10 ] = 0.710\n",
      "Average Recall     (AR) @[ IoU=0.40:0.40 | area=   all | maxDets=100 ] = 0.727\n",
      "Average Recall     (AR) @[ IoU=0.40:0.40 | area= small | maxDets=100 ] = 0.595\n",
      "Average Recall     (AR) @[ IoU=0.40:0.40 | area=medium | maxDets=100 ] = 0.633\n",
      "Average Recall     (AR) @[ IoU=0.40:0.40 | area= large | maxDets=100 ] = 0.750\n"
     ]
    },
    {
     "data": {
      "application/vnd.jupyter.widget-view+json": {
       "model_id": "",
       "version_major": 2,
       "version_minor": 0
      },
      "text/plain": [
       "Validating: 0it [00:00, ?it/s]"
      ]
     },
     "metadata": {},
     "output_type": "display_data"
    },
    {
     "name": "stdout",
     "output_type": "stream",
     "text": [
      "Generating prediction data...\n",
      "creating index...\n",
      "index created!\n",
      "creating index...\n",
      "index created!\n",
      "Running per image evaluation...\n",
      "Evaluate annotation type *bbox*\n",
      "DONE (t=2.01s).\n",
      "Accumulating evaluation results...\n",
      "DONE (t=0.33s).\n",
      "Average Precision  (AP) @[ IoU=0.40:0.40 | area=   all | maxDets=100 ] = 0.332\n",
      "Average Precision  (AP) @[ IoU=0.50      | area=   all | maxDets=100 ] = -1.000\n",
      "Average Precision  (AP) @[ IoU=0.75      | area=   all | maxDets=100 ] = -1.000\n",
      "Average Precision  (AP) @[ IoU=0.40:0.40 | area= small | maxDets=100 ] = 0.239\n",
      "Average Precision  (AP) @[ IoU=0.40:0.40 | area=medium | maxDets=100 ] = 0.297\n",
      "Average Precision  (AP) @[ IoU=0.40:0.40 | area= large | maxDets=100 ] = 0.414\n",
      "Average Recall     (AR) @[ IoU=0.40:0.40 | area=   all | maxDets=  1 ] = 0.319\n",
      "Average Recall     (AR) @[ IoU=0.40:0.40 | area=   all | maxDets= 10 ] = 0.692\n",
      "Average Recall     (AR) @[ IoU=0.40:0.40 | area=   all | maxDets=100 ] = 0.713\n",
      "Average Recall     (AR) @[ IoU=0.40:0.40 | area= small | maxDets=100 ] = 0.691\n",
      "Average Recall     (AR) @[ IoU=0.40:0.40 | area=medium | maxDets=100 ] = 0.646\n",
      "Average Recall     (AR) @[ IoU=0.40:0.40 | area= large | maxDets=100 ] = 0.724\n"
     ]
    },
    {
     "data": {
      "application/vnd.jupyter.widget-view+json": {
       "model_id": "",
       "version_major": 2,
       "version_minor": 0
      },
      "text/plain": [
       "Validating: 0it [00:00, ?it/s]"
      ]
     },
     "metadata": {},
     "output_type": "display_data"
    },
    {
     "name": "stdout",
     "output_type": "stream",
     "text": [
      "Generating prediction data...\n",
      "creating index...\n",
      "index created!\n",
      "creating index...\n",
      "index created!\n",
      "Running per image evaluation...\n",
      "Evaluate annotation type *bbox*\n",
      "DONE (t=1.90s).\n",
      "Accumulating evaluation results...\n",
      "DONE (t=0.35s).\n",
      "Average Precision  (AP) @[ IoU=0.40:0.40 | area=   all | maxDets=100 ] = 0.345\n",
      "Average Precision  (AP) @[ IoU=0.50      | area=   all | maxDets=100 ] = -1.000\n",
      "Average Precision  (AP) @[ IoU=0.75      | area=   all | maxDets=100 ] = -1.000\n",
      "Average Precision  (AP) @[ IoU=0.40:0.40 | area= small | maxDets=100 ] = 0.263\n",
      "Average Precision  (AP) @[ IoU=0.40:0.40 | area=medium | maxDets=100 ] = 0.354\n",
      "Average Precision  (AP) @[ IoU=0.40:0.40 | area= large | maxDets=100 ] = 0.407\n",
      "Average Recall     (AR) @[ IoU=0.40:0.40 | area=   all | maxDets=  1 ] = 0.336\n",
      "Average Recall     (AR) @[ IoU=0.40:0.40 | area=   all | maxDets= 10 ] = 0.745\n",
      "Average Recall     (AR) @[ IoU=0.40:0.40 | area=   all | maxDets=100 ] = 0.764\n",
      "Average Recall     (AR) @[ IoU=0.40:0.40 | area= small | maxDets=100 ] = 0.633\n",
      "Average Recall     (AR) @[ IoU=0.40:0.40 | area=medium | maxDets=100 ] = 0.671\n",
      "Average Recall     (AR) @[ IoU=0.40:0.40 | area= large | maxDets=100 ] = 0.777\n"
     ]
    },
    {
     "data": {
      "application/vnd.jupyter.widget-view+json": {
       "model_id": "",
       "version_major": 2,
       "version_minor": 0
      },
      "text/plain": [
       "Validating: 0it [00:00, ?it/s]"
      ]
     },
     "metadata": {},
     "output_type": "display_data"
    },
    {
     "name": "stdout",
     "output_type": "stream",
     "text": [
      "Generating prediction data...\n",
      "creating index...\n",
      "index created!\n",
      "creating index...\n",
      "index created!\n",
      "Running per image evaluation...\n",
      "Evaluate annotation type *bbox*\n",
      "DONE (t=2.18s).\n",
      "Accumulating evaluation results...\n",
      "DONE (t=0.43s).\n",
      "Average Precision  (AP) @[ IoU=0.40:0.40 | area=   all | maxDets=100 ] = 0.313\n",
      "Average Precision  (AP) @[ IoU=0.50      | area=   all | maxDets=100 ] = -1.000\n",
      "Average Precision  (AP) @[ IoU=0.75      | area=   all | maxDets=100 ] = -1.000\n",
      "Average Precision  (AP) @[ IoU=0.40:0.40 | area= small | maxDets=100 ] = 0.416\n",
      "Average Precision  (AP) @[ IoU=0.40:0.40 | area=medium | maxDets=100 ] = 0.335\n",
      "Average Precision  (AP) @[ IoU=0.40:0.40 | area= large | maxDets=100 ] = 0.349\n",
      "Average Recall     (AR) @[ IoU=0.40:0.40 | area=   all | maxDets=  1 ] = 0.314\n",
      "Average Recall     (AR) @[ IoU=0.40:0.40 | area=   all | maxDets= 10 ] = 0.743\n",
      "Average Recall     (AR) @[ IoU=0.40:0.40 | area=   all | maxDets=100 ] = 0.768\n",
      "Average Recall     (AR) @[ IoU=0.40:0.40 | area= small | maxDets=100 ] = 0.661\n",
      "Average Recall     (AR) @[ IoU=0.40:0.40 | area=medium | maxDets=100 ] = 0.648\n",
      "Average Recall     (AR) @[ IoU=0.40:0.40 | area= large | maxDets=100 ] = 0.787\n"
     ]
    },
    {
     "data": {
      "application/vnd.jupyter.widget-view+json": {
       "model_id": "",
       "version_major": 2,
       "version_minor": 0
      },
      "text/plain": [
       "Validating: 0it [00:00, ?it/s]"
      ]
     },
     "metadata": {},
     "output_type": "display_data"
    },
    {
     "name": "stdout",
     "output_type": "stream",
     "text": [
      "Generating prediction data...\n",
      "creating index...\n",
      "index created!\n",
      "creating index...\n",
      "index created!\n",
      "Running per image evaluation...\n",
      "Evaluate annotation type *bbox*\n",
      "DONE (t=1.93s).\n",
      "Accumulating evaluation results...\n",
      "DONE (t=0.37s).\n",
      "Average Precision  (AP) @[ IoU=0.40:0.40 | area=   all | maxDets=100 ] = 0.340\n",
      "Average Precision  (AP) @[ IoU=0.50      | area=   all | maxDets=100 ] = -1.000\n",
      "Average Precision  (AP) @[ IoU=0.75      | area=   all | maxDets=100 ] = -1.000\n",
      "Average Precision  (AP) @[ IoU=0.40:0.40 | area= small | maxDets=100 ] = 0.314\n",
      "Average Precision  (AP) @[ IoU=0.40:0.40 | area=medium | maxDets=100 ] = 0.342\n",
      "Average Precision  (AP) @[ IoU=0.40:0.40 | area= large | maxDets=100 ] = 0.389\n",
      "Average Recall     (AR) @[ IoU=0.40:0.40 | area=   all | maxDets=  1 ] = 0.320\n",
      "Average Recall     (AR) @[ IoU=0.40:0.40 | area=   all | maxDets= 10 ] = 0.727\n",
      "Average Recall     (AR) @[ IoU=0.40:0.40 | area=   all | maxDets=100 ] = 0.748\n",
      "Average Recall     (AR) @[ IoU=0.40:0.40 | area= small | maxDets=100 ] = 0.665\n",
      "Average Recall     (AR) @[ IoU=0.40:0.40 | area=medium | maxDets=100 ] = 0.656\n",
      "Average Recall     (AR) @[ IoU=0.40:0.40 | area= large | maxDets=100 ] = 0.758\n"
     ]
    },
    {
     "data": {
      "application/vnd.jupyter.widget-view+json": {
       "model_id": "",
       "version_major": 2,
       "version_minor": 0
      },
      "text/plain": [
       "Validating: 0it [00:00, ?it/s]"
      ]
     },
     "metadata": {},
     "output_type": "display_data"
    },
    {
     "name": "stdout",
     "output_type": "stream",
     "text": [
      "Generating prediction data...\n",
      "creating index...\n",
      "index created!\n",
      "creating index...\n",
      "index created!\n",
      "Running per image evaluation...\n",
      "Evaluate annotation type *bbox*\n",
      "DONE (t=1.90s).\n",
      "Accumulating evaluation results...\n",
      "DONE (t=0.56s).\n",
      "Average Precision  (AP) @[ IoU=0.40:0.40 | area=   all | maxDets=100 ] = 0.347\n",
      "Average Precision  (AP) @[ IoU=0.50      | area=   all | maxDets=100 ] = -1.000\n",
      "Average Precision  (AP) @[ IoU=0.75      | area=   all | maxDets=100 ] = -1.000\n",
      "Average Precision  (AP) @[ IoU=0.40:0.40 | area= small | maxDets=100 ] = 0.269\n",
      "Average Precision  (AP) @[ IoU=0.40:0.40 | area=medium | maxDets=100 ] = 0.299\n",
      "Average Precision  (AP) @[ IoU=0.40:0.40 | area= large | maxDets=100 ] = 0.416\n",
      "Average Recall     (AR) @[ IoU=0.40:0.40 | area=   all | maxDets=  1 ] = 0.323\n",
      "Average Recall     (AR) @[ IoU=0.40:0.40 | area=   all | maxDets= 10 ] = 0.723\n",
      "Average Recall     (AR) @[ IoU=0.40:0.40 | area=   all | maxDets=100 ] = 0.744\n",
      "Average Recall     (AR) @[ IoU=0.40:0.40 | area= small | maxDets=100 ] = 0.600\n",
      "Average Recall     (AR) @[ IoU=0.40:0.40 | area=medium | maxDets=100 ] = 0.621\n",
      "Average Recall     (AR) @[ IoU=0.40:0.40 | area= large | maxDets=100 ] = 0.767\n"
     ]
    },
    {
     "data": {
      "application/vnd.jupyter.widget-view+json": {
       "model_id": "",
       "version_major": 2,
       "version_minor": 0
      },
      "text/plain": [
       "Validating: 0it [00:00, ?it/s]"
      ]
     },
     "metadata": {},
     "output_type": "display_data"
    },
    {
     "name": "stdout",
     "output_type": "stream",
     "text": [
      "Generating prediction data...\n",
      "creating index...\n",
      "index created!\n",
      "creating index...\n",
      "index created!\n",
      "Running per image evaluation...\n",
      "Evaluate annotation type *bbox*\n",
      "DONE (t=1.98s).\n",
      "Accumulating evaluation results...\n",
      "DONE (t=0.35s).\n",
      "Average Precision  (AP) @[ IoU=0.40:0.40 | area=   all | maxDets=100 ] = 0.361\n",
      "Average Precision  (AP) @[ IoU=0.50      | area=   all | maxDets=100 ] = -1.000\n",
      "Average Precision  (AP) @[ IoU=0.75      | area=   all | maxDets=100 ] = -1.000\n",
      "Average Precision  (AP) @[ IoU=0.40:0.40 | area= small | maxDets=100 ] = 0.233\n",
      "Average Precision  (AP) @[ IoU=0.40:0.40 | area=medium | maxDets=100 ] = 0.309\n",
      "Average Precision  (AP) @[ IoU=0.40:0.40 | area= large | maxDets=100 ] = 0.438\n",
      "Average Recall     (AR) @[ IoU=0.40:0.40 | area=   all | maxDets=  1 ] = 0.328\n",
      "Average Recall     (AR) @[ IoU=0.40:0.40 | area=   all | maxDets= 10 ] = 0.733\n",
      "Average Recall     (AR) @[ IoU=0.40:0.40 | area=   all | maxDets=100 ] = 0.750\n",
      "Average Recall     (AR) @[ IoU=0.40:0.40 | area= small | maxDets=100 ] = 0.610\n",
      "Average Recall     (AR) @[ IoU=0.40:0.40 | area=medium | maxDets=100 ] = 0.669\n",
      "Average Recall     (AR) @[ IoU=0.40:0.40 | area= large | maxDets=100 ] = 0.767\n"
     ]
    },
    {
     "data": {
      "application/vnd.jupyter.widget-view+json": {
       "model_id": "",
       "version_major": 2,
       "version_minor": 0
      },
      "text/plain": [
       "Validating: 0it [00:00, ?it/s]"
      ]
     },
     "metadata": {},
     "output_type": "display_data"
    },
    {
     "name": "stdout",
     "output_type": "stream",
     "text": [
      "Generating prediction data...\n",
      "creating index...\n",
      "index created!\n",
      "creating index...\n",
      "index created!\n",
      "Running per image evaluation...\n",
      "Evaluate annotation type *bbox*\n",
      "DONE (t=2.24s).\n",
      "Accumulating evaluation results...\n",
      "DONE (t=0.43s).\n",
      "Average Precision  (AP) @[ IoU=0.40:0.40 | area=   all | maxDets=100 ] = 0.348\n",
      "Average Precision  (AP) @[ IoU=0.50      | area=   all | maxDets=100 ] = -1.000\n",
      "Average Precision  (AP) @[ IoU=0.75      | area=   all | maxDets=100 ] = -1.000\n",
      "Average Precision  (AP) @[ IoU=0.40:0.40 | area= small | maxDets=100 ] = 0.309\n",
      "Average Precision  (AP) @[ IoU=0.40:0.40 | area=medium | maxDets=100 ] = 0.337\n",
      "Average Precision  (AP) @[ IoU=0.40:0.40 | area= large | maxDets=100 ] = 0.404\n",
      "Average Recall     (AR) @[ IoU=0.40:0.40 | area=   all | maxDets=  1 ] = 0.340\n",
      "Average Recall     (AR) @[ IoU=0.40:0.40 | area=   all | maxDets= 10 ] = 0.793\n",
      "Average Recall     (AR) @[ IoU=0.40:0.40 | area=   all | maxDets=100 ] = 0.815\n",
      "Average Recall     (AR) @[ IoU=0.40:0.40 | area= small | maxDets=100 ] = 0.651\n",
      "Average Recall     (AR) @[ IoU=0.40:0.40 | area=medium | maxDets=100 ] = 0.682\n",
      "Average Recall     (AR) @[ IoU=0.40:0.40 | area= large | maxDets=100 ] = 0.839\n"
     ]
    },
    {
     "data": {
      "application/vnd.jupyter.widget-view+json": {
       "model_id": "",
       "version_major": 2,
       "version_minor": 0
      },
      "text/plain": [
       "Validating: 0it [00:00, ?it/s]"
      ]
     },
     "metadata": {},
     "output_type": "display_data"
    },
    {
     "name": "stdout",
     "output_type": "stream",
     "text": [
      "Generating prediction data...\n",
      "creating index...\n",
      "index created!\n",
      "creating index...\n",
      "index created!\n",
      "Running per image evaluation...\n",
      "Evaluate annotation type *bbox*\n",
      "DONE (t=1.69s).\n",
      "Accumulating evaluation results...\n",
      "DONE (t=0.31s).\n",
      "Average Precision  (AP) @[ IoU=0.40:0.40 | area=   all | maxDets=100 ] = 0.346\n",
      "Average Precision  (AP) @[ IoU=0.50      | area=   all | maxDets=100 ] = -1.000\n",
      "Average Precision  (AP) @[ IoU=0.75      | area=   all | maxDets=100 ] = -1.000\n",
      "Average Precision  (AP) @[ IoU=0.40:0.40 | area= small | maxDets=100 ] = 0.261\n",
      "Average Precision  (AP) @[ IoU=0.40:0.40 | area=medium | maxDets=100 ] = 0.285\n",
      "Average Precision  (AP) @[ IoU=0.40:0.40 | area= large | maxDets=100 ] = 0.426\n",
      "Average Recall     (AR) @[ IoU=0.40:0.40 | area=   all | maxDets=  1 ] = 0.321\n",
      "Average Recall     (AR) @[ IoU=0.40:0.40 | area=   all | maxDets= 10 ] = 0.685\n",
      "Average Recall     (AR) @[ IoU=0.40:0.40 | area=   all | maxDets=100 ] = 0.706\n",
      "Average Recall     (AR) @[ IoU=0.40:0.40 | area= small | maxDets=100 ] = 0.586\n",
      "Average Recall     (AR) @[ IoU=0.40:0.40 | area=medium | maxDets=100 ] = 0.596\n",
      "Average Recall     (AR) @[ IoU=0.40:0.40 | area= large | maxDets=100 ] = 0.734\n"
     ]
    },
    {
     "data": {
      "application/vnd.jupyter.widget-view+json": {
       "model_id": "",
       "version_major": 2,
       "version_minor": 0
      },
      "text/plain": [
       "Validating: 0it [00:00, ?it/s]"
      ]
     },
     "metadata": {},
     "output_type": "display_data"
    },
    {
     "name": "stdout",
     "output_type": "stream",
     "text": [
      "Generating prediction data...\n",
      "creating index...\n",
      "index created!\n",
      "creating index...\n",
      "index created!\n",
      "Running per image evaluation...\n",
      "Evaluate annotation type *bbox*\n",
      "DONE (t=1.80s).\n",
      "Accumulating evaluation results...\n",
      "DONE (t=0.31s).\n",
      "Average Precision  (AP) @[ IoU=0.40:0.40 | area=   all | maxDets=100 ] = 0.350\n",
      "Average Precision  (AP) @[ IoU=0.50      | area=   all | maxDets=100 ] = -1.000\n",
      "Average Precision  (AP) @[ IoU=0.75      | area=   all | maxDets=100 ] = -1.000\n",
      "Average Precision  (AP) @[ IoU=0.40:0.40 | area= small | maxDets=100 ] = 0.222\n",
      "Average Precision  (AP) @[ IoU=0.40:0.40 | area=medium | maxDets=100 ] = 0.302\n",
      "Average Precision  (AP) @[ IoU=0.40:0.40 | area= large | maxDets=100 ] = 0.422\n",
      "Average Recall     (AR) @[ IoU=0.40:0.40 | area=   all | maxDets=  1 ] = 0.335\n",
      "Average Recall     (AR) @[ IoU=0.40:0.40 | area=   all | maxDets= 10 ] = 0.703\n",
      "Average Recall     (AR) @[ IoU=0.40:0.40 | area=   all | maxDets=100 ] = 0.720\n",
      "Average Recall     (AR) @[ IoU=0.40:0.40 | area= small | maxDets=100 ] = 0.577\n",
      "Average Recall     (AR) @[ IoU=0.40:0.40 | area=medium | maxDets=100 ] = 0.588\n",
      "Average Recall     (AR) @[ IoU=0.40:0.40 | area= large | maxDets=100 ] = 0.755\n"
     ]
    },
    {
     "data": {
      "application/vnd.jupyter.widget-view+json": {
       "model_id": "",
       "version_major": 2,
       "version_minor": 0
      },
      "text/plain": [
       "Validating: 0it [00:00, ?it/s]"
      ]
     },
     "metadata": {},
     "output_type": "display_data"
    },
    {
     "name": "stdout",
     "output_type": "stream",
     "text": [
      "Generating prediction data...\n",
      "creating index...\n",
      "index created!\n",
      "creating index...\n",
      "index created!\n",
      "Running per image evaluation...\n",
      "Evaluate annotation type *bbox*\n",
      "DONE (t=2.15s).\n",
      "Accumulating evaluation results...\n",
      "DONE (t=0.38s).\n",
      "Average Precision  (AP) @[ IoU=0.40:0.40 | area=   all | maxDets=100 ] = 0.355\n",
      "Average Precision  (AP) @[ IoU=0.50      | area=   all | maxDets=100 ] = -1.000\n",
      "Average Precision  (AP) @[ IoU=0.75      | area=   all | maxDets=100 ] = -1.000\n",
      "Average Precision  (AP) @[ IoU=0.40:0.40 | area= small | maxDets=100 ] = 0.309\n",
      "Average Precision  (AP) @[ IoU=0.40:0.40 | area=medium | maxDets=100 ] = 0.299\n",
      "Average Precision  (AP) @[ IoU=0.40:0.40 | area= large | maxDets=100 ] = 0.425\n",
      "Average Recall     (AR) @[ IoU=0.40:0.40 | area=   all | maxDets=  1 ] = 0.330\n",
      "Average Recall     (AR) @[ IoU=0.40:0.40 | area=   all | maxDets= 10 ] = 0.757\n",
      "Average Recall     (AR) @[ IoU=0.40:0.40 | area=   all | maxDets=100 ] = 0.783\n",
      "Average Recall     (AR) @[ IoU=0.40:0.40 | area= small | maxDets=100 ] = 0.661\n",
      "Average Recall     (AR) @[ IoU=0.40:0.40 | area=medium | maxDets=100 ] = 0.657\n",
      "Average Recall     (AR) @[ IoU=0.40:0.40 | area= large | maxDets=100 ] = 0.811\n"
     ]
    },
    {
     "data": {
      "application/vnd.jupyter.widget-view+json": {
       "model_id": "",
       "version_major": 2,
       "version_minor": 0
      },
      "text/plain": [
       "Validating: 0it [00:00, ?it/s]"
      ]
     },
     "metadata": {},
     "output_type": "display_data"
    },
    {
     "name": "stdout",
     "output_type": "stream",
     "text": [
      "Generating prediction data...\n",
      "creating index...\n",
      "index created!\n",
      "creating index...\n",
      "index created!\n",
      "Running per image evaluation...\n",
      "Evaluate annotation type *bbox*\n",
      "DONE (t=1.62s).\n",
      "Accumulating evaluation results...\n",
      "DONE (t=0.30s).\n",
      "Average Precision  (AP) @[ IoU=0.40:0.40 | area=   all | maxDets=100 ] = 0.346\n",
      "Average Precision  (AP) @[ IoU=0.50      | area=   all | maxDets=100 ] = -1.000\n",
      "Average Precision  (AP) @[ IoU=0.75      | area=   all | maxDets=100 ] = -1.000\n",
      "Average Precision  (AP) @[ IoU=0.40:0.40 | area= small | maxDets=100 ] = 0.260\n",
      "Average Precision  (AP) @[ IoU=0.40:0.40 | area=medium | maxDets=100 ] = 0.304\n",
      "Average Precision  (AP) @[ IoU=0.40:0.40 | area= large | maxDets=100 ] = 0.411\n",
      "Average Recall     (AR) @[ IoU=0.40:0.40 | area=   all | maxDets=  1 ] = 0.333\n",
      "Average Recall     (AR) @[ IoU=0.40:0.40 | area=   all | maxDets= 10 ] = 0.702\n",
      "Average Recall     (AR) @[ IoU=0.40:0.40 | area=   all | maxDets=100 ] = 0.717\n",
      "Average Recall     (AR) @[ IoU=0.40:0.40 | area= small | maxDets=100 ] = 0.541\n",
      "Average Recall     (AR) @[ IoU=0.40:0.40 | area=medium | maxDets=100 ] = 0.587\n",
      "Average Recall     (AR) @[ IoU=0.40:0.40 | area= large | maxDets=100 ] = 0.750\n"
     ]
    },
    {
     "data": {
      "application/vnd.jupyter.widget-view+json": {
       "model_id": "",
       "version_major": 2,
       "version_minor": 0
      },
      "text/plain": [
       "Validating: 0it [00:00, ?it/s]"
      ]
     },
     "metadata": {},
     "output_type": "display_data"
    },
    {
     "name": "stdout",
     "output_type": "stream",
     "text": [
      "Generating prediction data...\n",
      "creating index...\n",
      "index created!\n",
      "creating index...\n",
      "index created!\n",
      "Running per image evaluation...\n",
      "Evaluate annotation type *bbox*\n",
      "DONE (t=1.86s).\n",
      "Accumulating evaluation results...\n",
      "DONE (t=0.36s).\n",
      "Average Precision  (AP) @[ IoU=0.40:0.40 | area=   all | maxDets=100 ] = 0.342\n",
      "Average Precision  (AP) @[ IoU=0.50      | area=   all | maxDets=100 ] = -1.000\n",
      "Average Precision  (AP) @[ IoU=0.75      | area=   all | maxDets=100 ] = -1.000\n",
      "Average Precision  (AP) @[ IoU=0.40:0.40 | area= small | maxDets=100 ] = 0.286\n",
      "Average Precision  (AP) @[ IoU=0.40:0.40 | area=medium | maxDets=100 ] = 0.263\n",
      "Average Precision  (AP) @[ IoU=0.40:0.40 | area= large | maxDets=100 ] = 0.425\n",
      "Average Recall     (AR) @[ IoU=0.40:0.40 | area=   all | maxDets=  1 ] = 0.336\n",
      "Average Recall     (AR) @[ IoU=0.40:0.40 | area=   all | maxDets= 10 ] = 0.736\n",
      "Average Recall     (AR) @[ IoU=0.40:0.40 | area=   all | maxDets=100 ] = 0.755\n",
      "Average Recall     (AR) @[ IoU=0.40:0.40 | area= small | maxDets=100 ] = 0.712\n",
      "Average Recall     (AR) @[ IoU=0.40:0.40 | area=medium | maxDets=100 ] = 0.656\n",
      "Average Recall     (AR) @[ IoU=0.40:0.40 | area= large | maxDets=100 ] = 0.777\n"
     ]
    },
    {
     "data": {
      "application/vnd.jupyter.widget-view+json": {
       "model_id": "",
       "version_major": 2,
       "version_minor": 0
      },
      "text/plain": [
       "Validating: 0it [00:00, ?it/s]"
      ]
     },
     "metadata": {},
     "output_type": "display_data"
    },
    {
     "name": "stdout",
     "output_type": "stream",
     "text": [
      "Generating prediction data...\n",
      "creating index...\n",
      "index created!\n",
      "creating index...\n",
      "index created!\n",
      "Running per image evaluation...\n",
      "Evaluate annotation type *bbox*\n",
      "DONE (t=1.96s).\n",
      "Accumulating evaluation results...\n",
      "DONE (t=0.33s).\n",
      "Average Precision  (AP) @[ IoU=0.40:0.40 | area=   all | maxDets=100 ] = 0.351\n",
      "Average Precision  (AP) @[ IoU=0.50      | area=   all | maxDets=100 ] = -1.000\n",
      "Average Precision  (AP) @[ IoU=0.75      | area=   all | maxDets=100 ] = -1.000\n",
      "Average Precision  (AP) @[ IoU=0.40:0.40 | area= small | maxDets=100 ] = 0.243\n",
      "Average Precision  (AP) @[ IoU=0.40:0.40 | area=medium | maxDets=100 ] = 0.254\n",
      "Average Precision  (AP) @[ IoU=0.40:0.40 | area= large | maxDets=100 ] = 0.427\n",
      "Average Recall     (AR) @[ IoU=0.40:0.40 | area=   all | maxDets=  1 ] = 0.331\n",
      "Average Recall     (AR) @[ IoU=0.40:0.40 | area=   all | maxDets= 10 ] = 0.731\n",
      "Average Recall     (AR) @[ IoU=0.40:0.40 | area=   all | maxDets=100 ] = 0.749\n",
      "Average Recall     (AR) @[ IoU=0.40:0.40 | area= small | maxDets=100 ] = 0.520\n",
      "Average Recall     (AR) @[ IoU=0.40:0.40 | area=medium | maxDets=100 ] = 0.610\n",
      "Average Recall     (AR) @[ IoU=0.40:0.40 | area= large | maxDets=100 ] = 0.790\n"
     ]
    },
    {
     "data": {
      "application/vnd.jupyter.widget-view+json": {
       "model_id": "",
       "version_major": 2,
       "version_minor": 0
      },
      "text/plain": [
       "Validating: 0it [00:00, ?it/s]"
      ]
     },
     "metadata": {},
     "output_type": "display_data"
    },
    {
     "name": "stdout",
     "output_type": "stream",
     "text": [
      "Generating prediction data...\n",
      "creating index...\n",
      "index created!\n",
      "creating index...\n",
      "index created!\n",
      "Running per image evaluation...\n",
      "Evaluate annotation type *bbox*\n",
      "DONE (t=1.97s).\n",
      "Accumulating evaluation results...\n",
      "DONE (t=0.33s).\n",
      "Average Precision  (AP) @[ IoU=0.40:0.40 | area=   all | maxDets=100 ] = 0.344\n",
      "Average Precision  (AP) @[ IoU=0.50      | area=   all | maxDets=100 ] = -1.000\n",
      "Average Precision  (AP) @[ IoU=0.75      | area=   all | maxDets=100 ] = -1.000\n",
      "Average Precision  (AP) @[ IoU=0.40:0.40 | area= small | maxDets=100 ] = 0.231\n",
      "Average Precision  (AP) @[ IoU=0.40:0.40 | area=medium | maxDets=100 ] = 0.285\n",
      "Average Precision  (AP) @[ IoU=0.40:0.40 | area= large | maxDets=100 ] = 0.431\n",
      "Average Recall     (AR) @[ IoU=0.40:0.40 | area=   all | maxDets=  1 ] = 0.337\n",
      "Average Recall     (AR) @[ IoU=0.40:0.40 | area=   all | maxDets= 10 ] = 0.721\n",
      "Average Recall     (AR) @[ IoU=0.40:0.40 | area=   all | maxDets=100 ] = 0.736\n",
      "Average Recall     (AR) @[ IoU=0.40:0.40 | area= small | maxDets=100 ] = 0.614\n",
      "Average Recall     (AR) @[ IoU=0.40:0.40 | area=medium | maxDets=100 ] = 0.624\n",
      "Average Recall     (AR) @[ IoU=0.40:0.40 | area= large | maxDets=100 ] = 0.769\n"
     ]
    },
    {
     "data": {
      "application/vnd.jupyter.widget-view+json": {
       "model_id": "",
       "version_major": 2,
       "version_minor": 0
      },
      "text/plain": [
       "Validating: 0it [00:00, ?it/s]"
      ]
     },
     "metadata": {},
     "output_type": "display_data"
    },
    {
     "name": "stdout",
     "output_type": "stream",
     "text": [
      "Generating prediction data...\n",
      "creating index...\n",
      "index created!\n",
      "creating index...\n",
      "index created!\n",
      "Running per image evaluation...\n",
      "Evaluate annotation type *bbox*\n",
      "DONE (t=1.92s).\n",
      "Accumulating evaluation results...\n",
      "DONE (t=0.31s).\n",
      "Average Precision  (AP) @[ IoU=0.40:0.40 | area=   all | maxDets=100 ] = 0.350\n",
      "Average Precision  (AP) @[ IoU=0.50      | area=   all | maxDets=100 ] = -1.000\n",
      "Average Precision  (AP) @[ IoU=0.75      | area=   all | maxDets=100 ] = -1.000\n",
      "Average Precision  (AP) @[ IoU=0.40:0.40 | area= small | maxDets=100 ] = 0.250\n",
      "Average Precision  (AP) @[ IoU=0.40:0.40 | area=medium | maxDets=100 ] = 0.306\n",
      "Average Precision  (AP) @[ IoU=0.40:0.40 | area= large | maxDets=100 ] = 0.432\n",
      "Average Recall     (AR) @[ IoU=0.40:0.40 | area=   all | maxDets=  1 ] = 0.347\n",
      "Average Recall     (AR) @[ IoU=0.40:0.40 | area=   all | maxDets= 10 ] = 0.728\n",
      "Average Recall     (AR) @[ IoU=0.40:0.40 | area=   all | maxDets=100 ] = 0.743\n",
      "Average Recall     (AR) @[ IoU=0.40:0.40 | area= small | maxDets=100 ] = 0.632\n",
      "Average Recall     (AR) @[ IoU=0.40:0.40 | area=medium | maxDets=100 ] = 0.650\n",
      "Average Recall     (AR) @[ IoU=0.40:0.40 | area= large | maxDets=100 ] = 0.769\n"
     ]
    },
    {
     "data": {
      "application/vnd.jupyter.widget-view+json": {
       "model_id": "",
       "version_major": 2,
       "version_minor": 0
      },
      "text/plain": [
       "Validating: 0it [00:00, ?it/s]"
      ]
     },
     "metadata": {},
     "output_type": "display_data"
    },
    {
     "name": "stdout",
     "output_type": "stream",
     "text": [
      "Generating prediction data...\n",
      "creating index...\n",
      "index created!\n",
      "creating index...\n",
      "index created!\n",
      "Running per image evaluation...\n",
      "Evaluate annotation type *bbox*\n",
      "DONE (t=2.04s).\n",
      "Accumulating evaluation results...\n",
      "DONE (t=0.33s).\n",
      "Average Precision  (AP) @[ IoU=0.40:0.40 | area=   all | maxDets=100 ] = 0.342\n",
      "Average Precision  (AP) @[ IoU=0.50      | area=   all | maxDets=100 ] = -1.000\n",
      "Average Precision  (AP) @[ IoU=0.75      | area=   all | maxDets=100 ] = -1.000\n",
      "Average Precision  (AP) @[ IoU=0.40:0.40 | area= small | maxDets=100 ] = 0.259\n",
      "Average Precision  (AP) @[ IoU=0.40:0.40 | area=medium | maxDets=100 ] = 0.246\n",
      "Average Precision  (AP) @[ IoU=0.40:0.40 | area= large | maxDets=100 ] = 0.419\n",
      "Average Recall     (AR) @[ IoU=0.40:0.40 | area=   all | maxDets=  1 ] = 0.338\n",
      "Average Recall     (AR) @[ IoU=0.40:0.40 | area=   all | maxDets= 10 ] = 0.726\n",
      "Average Recall     (AR) @[ IoU=0.40:0.40 | area=   all | maxDets=100 ] = 0.748\n",
      "Average Recall     (AR) @[ IoU=0.40:0.40 | area= small | maxDets=100 ] = 0.586\n",
      "Average Recall     (AR) @[ IoU=0.40:0.40 | area=medium | maxDets=100 ] = 0.573\n",
      "Average Recall     (AR) @[ IoU=0.40:0.40 | area= large | maxDets=100 ] = 0.776\n"
     ]
    }
   ],
   "source": [
    "from pytorch_lightning.callbacks.early_stopping import EarlyStopping\n",
    "\n",
    "\n",
    "seed_everything(seed=config.seed, device=config.device)\n",
    "outdir = base_dir / config.outdir\n",
    "\n",
    "train_dataset = FasterRCNNVinBigDataset(dataset_dicts=[dataset_dicts[i] for i in train_idx], transform=Transform(config.train_aug_kwargs, train=True))\n",
    "valid_dataset = FasterRCNNVinBigDataset(dataset_dicts=[dataset_dicts[i] for i in valid_idx], transform=Transform(config.valid_aug_kwargs, train=True))\n",
    "\n",
    "train_loader = DataLoader(\n",
    "    train_dataset,\n",
    "    batch_size=config.batch_size,\n",
    "    shuffle=True,\n",
    "    num_workers=4,\n",
    "    collate_fn=collate_fn\n",
    ")\n",
    "\n",
    "valid_loader = DataLoader(\n",
    "    valid_dataset,\n",
    "    batch_size=config.batch_size,\n",
    "    shuffle=False,\n",
    "    num_workers=4,\n",
    "    collate_fn=collate_fn\n",
    ")\n",
    "\n",
    "train_evaluator = VinBigDataEval(train_.query(f'image_id in {train_dataset.image_ids}'))\n",
    "valid_evaluator = VinBigDataEval(train_.query(f'image_id in {valid_dataset.image_ids}'))\n",
    "\n",
    "early_stop_callback = EarlyStopping(monitor='valid_mAP@.4', min_delta=0.00, patience=config.patience, verbose=True, mode='max')\n",
    "trainer = pl.Trainer(gpus=[config.device_id], max_epochs=config.epochs, weights_summary='full', callbacks=[early_stop_callback])\n",
    "\n",
    "detector = ObjectDetector(model=load_faster_rcnn(num_classes=len(classes_dict) + 1), train_evaluator=train_evaluator, valid_evaluator=valid_evaluator, outdir=outdir)\n",
    "trainer.fit(detector, train_loader, valid_loader)\n",
    "\n",
    "detector.to_dataframe().to_csv(str(outdir / 'history.csv'))\n",
    "torch.save(detector.state_dict(), str(outdir / 'model_last.pt'))"
   ]
  },
  {
   "cell_type": "code",
   "execution_count": 17,
   "id": "outstanding-intersection",
   "metadata": {
    "tags": []
   },
   "outputs": [],
   "source": [
    "# from typing import List, Tuple\n",
    "\n",
    "# import matplotlib.patches as patches\n",
    "# import numpy as np\n",
    "# from PIL import Image\n",
    "\n",
    "\n",
    "# def add_bboxes_to_image(ax, image: np.ndarray,\n",
    "#                         bboxes: List[Tuple[int, int, int, int]],\n",
    "#                         labels: List[str] = None,\n",
    "#                         label_size: int = 10,\n",
    "#                         line_width: int = 2,\n",
    "#                         border_color=(0, 1, 0, 1)) -> None:\n",
    "#     \"\"\"\n",
    "#     Add bbox to ax\n",
    "\n",
    "#     :param image: dtype=np.uint8\n",
    "#     :param bbox: [(left, top, right, bottom)]\n",
    "#     :param label: List[str] or None\n",
    "#     :return: ax\n",
    "#     \"\"\"\n",
    "#     # Display the image\n",
    "#     ax.imshow(image)\n",
    "\n",
    "#     if labels is None:\n",
    "#         labels = [None] * len(bboxes)\n",
    "\n",
    "#     for bbox, label in zip(bboxes, labels):\n",
    "#         # Add bounding box\n",
    "#         x_min, y_min, x_max, y_max = bbox\n",
    "#         rect = patches.Rectangle((x_min, y_min), x_max - x_min, y_max - y_min,\n",
    "#                                  linewidth=line_width,\n",
    "#                                  edgecolor=border_color,\n",
    "#                                  facecolor='none')\n",
    "#         ax.add_patch(rect)\n",
    "\n",
    "#         # label\n",
    "#         if label:\n",
    "#             bbox_props = dict(boxstyle=\"square,pad=0\",\n",
    "#                               linewidth=line_width, facecolor=border_color,\n",
    "#                               edgecolor=border_color)\n",
    "#             ax.text(x_min, y_min, label,\n",
    "#                     ha=\"left\", va=\"bottom\", rotation=0,\n",
    "#                     size=label_size, bbox=bbox_props)\n",
    "#     return ax"
   ]
  },
  {
   "cell_type": "code",
   "execution_count": 19,
   "id": "willing-manhattan",
   "metadata": {
    "tags": []
   },
   "outputs": [
    {
     "data": {
      "image/png": "[encoded data removed]",
      "text/plain": [
       "<Figure size 1800x576 with 4 Axes>"
      ]
     },
     "metadata": {},
     "output_type": "display_data"
    }
   ],
   "source": [
    "# fig, axes = plt.subplots(1, 4, figsize=(25, 8))\n",
    "# for ax in axes:\n",
    "#     img, target, _ = train_dataset[0]\n",
    "#     img = np.maximum(0, img.numpy().transpose((1, 2, 0)) * np.array([0.229, 0.224, 0.225]) + np.array([0.485, 0.456, 0.406])) * 255\n",
    "#     add_bboxes_to_image(ax, np.uint8(img), target['boxes'], target['labels'].numpy())\n",
    "#     ax.axis(\"off\")\n",
    "# plt.show()"
   ]
  }
 ],
 "metadata": {
  "kernelspec": {
   "display_name": "Python 3",
   "language": "python",
   "name": "python3"
  },
  "language_info": {
   "codemirror_mode": {
    "name": "ipython",
    "version": 3
   },
   "file_extension": ".py",
   "mimetype": "text/x-python",
   "name": "python",
   "nbconvert_exporter": "python",
   "pygments_lexer": "ipython3",
   "version": "3.7.6"
  }
 },
 "nbformat": 4,
 "nbformat_minor": 5
}
